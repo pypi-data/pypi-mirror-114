{
 "cells": [
  {
   "cell_type": "code",
   "execution_count": 1,
   "id": "9a611c47-4976-429c-85da-512fee44d68f",
   "metadata": {},
   "outputs": [],
   "source": [
    "%matplotlib inline\n",
    "%load_ext autoreload\n",
    "%autoreload 2"
   ]
  },
  {
   "cell_type": "code",
   "execution_count": 2,
   "id": "92a6328e-ff8a-4b49-99e7-8a1e3dd49d3f",
   "metadata": {},
   "outputs": [],
   "source": [
    "import sys\n",
    "sys.path.append('../..')"
   ]
  },
  {
   "cell_type": "code",
   "execution_count": 3,
   "id": "731cde4b-ecda-4f02-a1d4-05cfce4c3cfa",
   "metadata": {},
   "outputs": [],
   "source": [
    "import numpy as np\n",
    "import matplotlib.pyplot as plt"
   ]
  },
  {
   "cell_type": "code",
   "execution_count": 4,
   "id": "661c3039-363a-49d5-9b5a-9dfdd23a3b7c",
   "metadata": {},
   "outputs": [],
   "source": [
    "import s1etad\n",
    "from s1etad import Sentinel1Etad, ECorrectionType"
   ]
  },
  {
   "cell_type": "code",
   "execution_count": 5,
   "id": "6a4d78d2-3822-4e35-a1c6-c3ae7745689b",
   "metadata": {},
   "outputs": [],
   "source": [
    "filename = '../../sample-products/S1B_IW_ETA__AXDH_20200127T113414_20200127T113858_020002_025D72_0096.SAFE'"
   ]
  },
  {
   "cell_type": "code",
   "execution_count": 6,
   "id": "69b4e587-19cf-462b-9bad-d6dc0ba1302b",
   "metadata": {},
   "outputs": [],
   "source": [
    "correction_type = ECorrectionType.SUM\n",
    "direction = 'x'\n",
    "meter = True\n",
    "\n",
    "etad = Sentinel1Etad(filename)\n",
    "merged_correction = etad.merge_correction(correction_type, meter=meter)\n",
    "\n",
    "# masked arrays\n",
    "data = merged_correction[direction]\n",
    "lat = merged_correction['lats']\n",
    "lon = merged_correction['lons']\n",
    "height = merged_correction['height']"
   ]
  },
  {
   "cell_type": "code",
   "execution_count": 7,
   "id": "1ed311b4-3e5c-4b26-af71-4c1b7e11b7bd",
   "metadata": {},
   "outputs": [],
   "source": [
    "from osgeo import gdal, osr"
   ]
  },
  {
   "cell_type": "code",
   "execution_count": 8,
   "id": "fc1f6089-d770-49ff-9cb8-a68222e05760",
   "metadata": {},
   "outputs": [],
   "source": [
    "def _write_band_data(band, data, nodata: float = -9999.):\n",
    "    if hasattr(data, 'filled'):\n",
    "        data = data.filled(nodata)        \n",
    "    band.WriteArray(data)\n",
    "    band.SetNoDataValue(nodata)"
   ]
  },
  {
   "cell_type": "code",
   "execution_count": 9,
   "id": "d0d4895d-9f08-4020-be81-971aa1a929bc",
   "metadata": {},
   "outputs": [],
   "source": [
    "import functools\n",
    "\n",
    "\n",
    "MAX_GCP_NUM = 10000\n",
    "\n",
    "\n",
    "def create_gcps(lat, lon, h=None, gcp_step = (10, 10)):    \n",
    "    assert lat.shape == lon.shape\n",
    "    ysize, xsize = lat.shape\n",
    "    ystep, xstep = gcp_step\n",
    "\n",
    "    masks = [\n",
    "        data.mask if hasattr(data, 'mask') else None for data in (lat, lon, h)\n",
    "    ]\n",
    "    if masks:\n",
    "        mask = functools.reduce(np.logical_or, masks)\n",
    "    else:\n",
    "        mask = None\n",
    "\n",
    "    gcps = []\n",
    "    for line in range(0, ysize, ystep):\n",
    "        for pix in range(0, xsize, xstep):\n",
    "            if mask is None or mask[line, pix]:\n",
    "                continue\n",
    "            height = h[line, pix] if h is not None else 0.\n",
    "            gcp_info = ''\n",
    "            gcp_id = f'len(gcps)'\n",
    "            gcp = gdal.GCP(lon[line, pix], lat[line, pix], height,\n",
    "                           pix, line, gcp_info, gcp_id)\n",
    "            gcps.append(gcp)\n",
    "    \n",
    "    assert 0 < len(gcps) <= MAX_GCP_NUM\n",
    "    \n",
    "    return gcps\n",
    "\n",
    "def save_with_gcps(outfile: str, data, lat, lon, h=None,\n",
    "                   *, drv_name: str = 'GTIFF', nodata: float = -9999.,\n",
    "                   gcp_step = (10, 10), srs='wgs84', create_options=None):\n",
    "    drv = gdal.GetDriverByName(drv_name)\n",
    "    assert drv is not None\n",
    "    \n",
    "    ysize, xsize = data.shape    \n",
    "    if create_options is None:\n",
    "        create_options = []\n",
    "    ds = drv.Create(str(outfile), xsize=xsize, ysize=ysize,\n",
    "                    bands=1, eType=gdal.GDT_Float32,\n",
    "                    options=create_options)\n",
    "\n",
    "    if isinstance(srs, str):\n",
    "        srs_str = srs\n",
    "        srs = osr.SpatialReference()\n",
    "        srs.SetWellKnownGeogCS(srs_str)\n",
    "    gcps = create_gcps(lat, lon, h, gcp_step)\n",
    "    ds.SetGCPs(gcps, srs)\n",
    "\n",
    "    _write_band_data(ds.GetRasterBand(1), data, nodata)    \n",
    "    \n",
    "    return ds"
   ]
  },
  {
   "cell_type": "code",
   "execution_count": 10,
   "id": "b59dd079-5f49-4293-89ce-1b6388297c49",
   "metadata": {},
   "outputs": [
    {
     "name": "stdout",
     "output_type": "stream",
     "text": [
      "gcp_step (100, 25)\n"
     ]
    }
   ],
   "source": [
    "ysize, xsize = data.shape\n",
    "gcp_step = (25, 25)  # 5 x 5 km\n",
    "# gcp_step = (50, 50)  # 10 x 10 km\n",
    "# gcp_step = (100, 100)  # 20 x 20 km\n",
    "while (ysize // gcp_step[0]) * (xsize // gcp_step[1]) > MAX_GCP_NUM:\n",
    "    # increase the step only in the azimuth direction\n",
    "    gcp_step = (gcp_step[0]*2, gcp_step[1])\n",
    "print('gcp_step', gcp_step)\n",
    "\n",
    "ds1 = save_with_gcps('', data, lat=lat, lon=lon, h=height, gcp_step=gcp_step, drv_name='MEM')"
   ]
  },
  {
   "cell_type": "code",
   "execution_count": 11,
   "id": "bc48fbb7-7f69-48b2-ab90-89208896b3a3",
   "metadata": {},
   "outputs": [],
   "source": [
    "srs = 'wgs84'\n",
    "res = 0.005  # deg --> 550m equator, 50 @ lat=85deg\n",
    "bbox = (lon.min(), lat.min(), lon.max(), lat.max())\n",
    "def clip_bbox(bbox, q, margin=0):\n",
    "    return (\n",
    "        np.floor(bbox[0] / q) * q - margin * q,\n",
    "        np.floor(bbox[1] / q) * q - margin * q,\n",
    "        np.ceil(bbox[2] / q) * q + margin * q,\n",
    "        np.ceil(bbox[3] / q) * q + margin * q,\n",
    "    )\n",
    "bbox = clip_bbox(bbox, res, margin=50)\n",
    "\n",
    "ds2 = gdal.Warp('', ds1,\n",
    "               format='MEM',\n",
    "               dstSRS=srs,\n",
    "               xRes=res,\n",
    "               yRes=res,\n",
    "               targetAlignedPixels=True,\n",
    "               outputBounds=bbox,\n",
    "               outputBoundsSRS=srs)\n",
    "ds2.FlushCache()"
   ]
  },
  {
   "cell_type": "code",
   "execution_count": 12,
   "id": "526e6991-b143-46ae-a500-68938ee848c5",
   "metadata": {},
   "outputs": [],
   "source": [
    "ds3 = gdal.Translate('', ds2,\n",
    "                     format='MEM',\n",
    "                     outputType=gdal.GDT_Byte,\n",
    "                     noData=0,\n",
    "                     scaleParams=[[data.min(), data.max(), 0, 255]])"
   ]
  },
  {
   "cell_type": "code",
   "execution_count": 13,
   "id": "c1b037bf-ae32-45d0-9abe-d2793e431d88",
   "metadata": {},
   "outputs": [],
   "source": [
    "from matplotlib import cm\n",
    "from s1etad.kmz import Colorizer\n",
    "\n",
    "colorizer = Colorizer(0, 255, color_table=cm.jet)\n",
    "\n",
    "band = ds3.GetRasterBand(1)\n",
    "band.SetRasterColorTable(colorizer.gdal_palette())\n",
    "band.SetRasterColorInterpretation(gdal.GCI_PaletteIndex)\n",
    "band.FlushCache()\n",
    "band = None\n",
    "ds3.FlushCache()"
   ]
  },
  {
   "cell_type": "code",
   "execution_count": 14,
   "id": "2f23e90f-b1c3-46c7-b194-188271662f6e",
   "metadata": {},
   "outputs": [],
   "source": [
    "outfile = 'geocoded_ql.png'\n",
    "ds4 = gdal.Translate(outfile, ds3, format='PNG',\n",
    "                     creationOptions='WORLDFILE=YES')"
   ]
  },
  {
   "cell_type": "code",
   "execution_count": 15,
   "id": "8f3c7598-ea4a-4fda-aa43-442ae755d270",
   "metadata": {},
   "outputs": [],
   "source": [
    "# ds1 = None\n",
    "# ds2 = None\n",
    "# ds3 = None\n",
    "# ds4 = None"
   ]
  },
  {
   "cell_type": "code",
   "execution_count": 16,
   "id": "445b3cf6-a908-4d16-9f87-c10d4c6eb78c",
   "metadata": {},
   "outputs": [],
   "source": [
    "img = ds3.ReadAsArray()"
   ]
  },
  {
   "cell_type": "code",
   "execution_count": 17,
   "id": "fcf975c5-435a-4d14-b6c3-ca18822fbb2d",
   "metadata": {},
   "outputs": [
    {
     "data": {
      "text/plain": [
       "(0, 255, dtype('uint8'))"
      ]
     },
     "execution_count": 17,
     "metadata": {},
     "output_type": "execute_result"
    }
   ],
   "source": [
    "img.min(), img.max(), img.dtype"
   ]
  },
  {
   "cell_type": "code",
   "execution_count": 18,
   "id": "f69811a7-f514-4b85-805f-5048c1d690f6",
   "metadata": {},
   "outputs": [
    {
     "data": {
      "image/png": "[encoded data removed]",
      "text/plain": [
       "<Figure size 432x288 with 1 Axes>"
      ]
     },
     "metadata": {
      "needs_background": "light"
     },
     "output_type": "display_data"
    }
   ],
   "source": [
    "mask = (img != 0)\n",
    "flatdata = img[mask]\n",
    "\n",
    "plt.hist(flatdata.ravel(), 256);\n",
    "plt.grid()"
   ]
  },
  {
   "cell_type": "code",
   "execution_count": 19,
   "id": "934c52eb-aba0-4908-8ba1-c8a0e916d095",
   "metadata": {},
   "outputs": [
    {
     "name": "stdout",
     "output_type": "stream",
     "text": [
      "uint8\n"
     ]
    },
    {
     "data": {
      "text/plain": [
       "(1, 255, 46.83585373445911, array([ 35., 239.]))"
      ]
     },
     "execution_count": 19,
     "metadata": {},
     "output_type": "execute_result"
    }
   ],
   "source": [
    "print(flatdata.dtype)\n",
    "flatdata.min(), flatdata.max(), flatdata.std(), np.quantile(flatdata, [0.01, 0.99])"
   ]
  },
  {
   "cell_type": "code",
   "execution_count": 20,
   "id": "a917dba9-3bdd-4075-bba3-2c81e8d18ce7",
   "metadata": {},
   "outputs": [
    {
     "data": {
      "text/plain": [
       "<matplotlib.colorbar.Colorbar at 0x7ff763484730>"
      ]
     },
     "execution_count": 20,
     "metadata": {},
     "output_type": "execute_result"
    },
    {
     "data": {
      "image/png": "[encoded data removed]",
      "text/plain": [
       "<Figure size 432x288 with 2 Axes>"
      ]
     },
     "metadata": {
      "needs_background": "light"
     },
     "output_type": "display_data"
    }
   ],
   "source": [
    "ma_img = np.ma.masked_array(img, np.logical_not(mask))\n",
    "plt.imshow(ma_img, aspect='auto')  #, vmin=2.15, vmax=3.74)\n",
    "plt.colorbar()\n",
    "# plt.axis(False)\n",
    "# plt.gcf().savefig('ql.png', dpi=200)"
   ]
  },
  {
   "cell_type": "code",
   "execution_count": 21,
   "id": "0c4bf7df-1b63-48d4-a5fc-292d80f19a83",
   "metadata": {},
   "outputs": [
    {
     "name": "stdout",
     "output_type": "stream",
     "text": [
      "Driver: PNG/Portable Network Graphics\n",
      "Files: geocoded_ql.png\n",
      "       geocoded_ql.wld\n",
      "Size is 8682, 3434\n",
      "Coordinate System is:\n",
      "GEOGCRS[\"WGS 84\",\n",
      "    DATUM[\"World Geodetic System 1984\",\n",
      "        ELLIPSOID[\"WGS 84\",6378137,298.257223563,\n",
      "            LENGTHUNIT[\"metre\",1]]],\n",
      "    PRIMEM[\"Greenwich\",0,\n",
      "        ANGLEUNIT[\"degree\",0.0174532925199433]],\n",
      "    CS[ellipsoidal,2],\n",
      "        AXIS[\"geodetic latitude (Lat)\",north,\n",
      "            ORDER[1],\n",
      "            ANGLEUNIT[\"degree\",0.0174532925199433]],\n",
      "        AXIS[\"geodetic longitude (Lon)\",east,\n",
      "            ORDER[2],\n",
      "            ANGLEUNIT[\"degree\",0.0174532925199433]],\n",
      "    ID[\"EPSG\",4326]]\n",
      "Data axis to CRS axis mapping: 2,1\n",
      "Origin = (-79.384999999999991,84.995000000000005)\n",
      "Pixel Size = (0.005000000000000,-0.005000000000000)\n",
      "Corner Coordinates:\n",
      "Upper Left  ( -79.3850000,  84.9950000) ( 79d23' 6.00\"W, 84d59'42.00\"N)\n",
      "Lower Left  ( -79.3850000,  67.8250000) ( 79d23' 6.00\"W, 67d49'30.00\"N)\n",
      "Upper Right ( -35.9750000,  84.9950000) ( 35d58'30.00\"W, 84d59'42.00\"N)\n",
      "Lower Right ( -35.9750000,  67.8250000) ( 35d58'30.00\"W, 67d49'30.00\"N)\n",
      "Center      ( -57.6800000,  76.4100000) ( 57d40'48.00\"W, 76d24'36.00\"N)\n",
      "Band 1 Block=8682x1 Type=Byte, ColorInterp=Palette\n",
      "  NoData Value=0\n",
      "  Color Table (RGB with 256 entries)\n",
      "\n"
     ]
    }
   ],
   "source": [
    "print(gdal.Info(ds4, showColorTable=False))"
   ]
  }
 ],
 "metadata": {
  "kernelspec": {
   "display_name": "Python 3 (ipykernel)",
   "language": "python",
   "name": "python3"
  },
  "language_info": {
   "codemirror_mode": {
    "name": "ipython",
    "version": 3
   },
   "file_extension": ".py",
   "mimetype": "text/x-python",
   "name": "python",
   "nbconvert_exporter": "python",
   "pygments_lexer": "ipython3",
   "version": "3.8.8"
  }
 },
 "nbformat": 4,
 "nbformat_minor": 5
}
