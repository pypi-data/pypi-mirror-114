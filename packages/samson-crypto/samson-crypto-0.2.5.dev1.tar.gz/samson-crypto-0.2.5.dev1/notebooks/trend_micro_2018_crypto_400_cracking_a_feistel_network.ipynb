{
 "cells": [
  {
   "cell_type": "markdown",
   "metadata": {},
   "source": [
    "## Trend Micro 2018 Crypto 400 - Cracking a Feistel Network\n",
    "<br/>\n",
    "\n",
    "### _Feistel Networks_\n",
    "\n",
    "A Feistel network (https://en.wikipedia.org/wiki/Feistel_cipher) is a construction used in block ciphers. Given a round function $F$ and a key schedule that produces sub-keys $K_0,...,K_n$, the algorithm is as follows:\n",
    "<br/>\n",
    "<br/>\n",
    "Split the plaintext into two equal pieces $(L_0, R_0)$\n",
    "<br/>\n",
    "For $i=0,...,n$, compute\n",
    "\n",
    "$L_{i+1} = R_i$\n",
    "<br/>\n",
    "$R_{i+1} = L_i \\oplus F(R_i, K_i)$\n",
    "<br/>\n",
    "<br/>\n",
    "The ciphertext is $(R_{n+1}, L_{n+1})$\n",
    "<br/>\n",
    "\n",
    "Decryption is achieved by processing the rounds backwards with the same key schedule.\n",
    "<br/>\n",
    "<br/>\n",
    "### _Challenge_\n",
    "Given an plaintext and ciphertext pair encrypted using a Feistel network, decrypt another ciphertext that's encrypted under the same key. The key scheduling algorithm nor the number of rounds is given, but the round function $F$ is defined as $f_i(x) = x \\oplus K_i$.\n",
    "<br/>\n",
    "<br/>\n",
    "### _Analysis/Solution_\n",
    "Since I had two ciphertexts, a plaintext, but no key schedule, I had to recover the sub-keys of each round in order to successfully decrypt the ciphertext. I decided to break two rounds of the Feistel networks, and it ends up that's all you need to do. First, I split all of the texts in halves and plug them in as variables.\n",
    "In terms of the algorithm, we gain the variables:\n",
    "\n",
    "$(L_{g_0}, R_{g_0})$ from the given plaintext\n",
    "<br/>\n",
    "$(R_{g_n}, L_{g_n})$ from the given ciphertext\n",
    "<br/>\n",
    "$(R_{u_n}, L_{u_n})$ from the unknown ciphertext\n",
    "<br/>\n",
    "<br/>\n",
    "\n",
    "Then, expanding the variables from the algorithm:\n",
    "\n",
    "$L_{g_1} = R_{g_0}$\n",
    "\n",
    "$R_{g_1} = L_{g_0} \\oplus (R_{g_0} \\oplus K_0)$\n",
    "\n",
    "$L_{g_2} = L_{g_0} \\oplus (R_{g_0} \\oplus K_0)$\n",
    "\n",
    "$R_{g_2} = R_{g_0} \\oplus (L_{g_0} \\oplus ((R_{g_0} \\oplus K_0) \\oplus K_1)) = L_{g_0} \\oplus (K_0 \\oplus K_1)$\n",
    "\n",
    "<br/>\n",
    "<br/>\n",
    "\n",
    "Rearranging these, we get:\n",
    "\n",
    "$K_1 = L_{g_2} \\oplus R_{g_2} \\oplus R_{g_0}$\n",
    "\n",
    "$K_0 = L_{g_0} \\oplus R_{g_0} \\oplus L_{g_2}$\n",
    "\n",
    "<br/>\n",
    "<br/>\n",
    "However, the most confusing part of this challenge was when this math didn't work out. Trend Micro used a slightly different definition of a Feistel network. Normally, a Feistel network outputs $(R_{n+1}, L_{n+1})$, but the ciphertexts were actually ordered $(L_{n+1}, R_{n+1})$."
   ]
  },
  {
   "cell_type": "code",
   "execution_count": 11,
   "metadata": {},
   "outputs": [],
   "source": [
    "from samson.utilities.bytes import Bytes\n",
    "\n",
    "plaintext   = Bytes(b'An apple and an orange went to Trend')\n",
    "ciphertext  = Bytes(b'\\x121u6c1:=`y.38\\r%|0!Bg!`stn` mbd-nf+mq')\n",
    "ct_to_crack = Bytes(b'\\x03\\x0e\\\\ \\x19,\\x12~\\t\\x06\\x03\\t\\x12\\'Jay\"WDBUE\\x7fD`i\\x7fxea\"Kbrk')\n",
    "\n",
    "n = len(plaintext) // 2\n",
    "\n",
    "# Lg0, Rg0\n",
    "pt_parts = plaintext[:n], plaintext[n:]\n",
    "\n",
    "# Lg2, Rg2\n",
    "given_ct_parts = ciphertext[:n], ciphertext[n:]\n",
    "\n",
    "# Lu2, Ru2\n",
    "ct_parts = ct_to_crack[:n], ct_to_crack[n:]"
   ]
  },
  {
   "cell_type": "code",
   "execution_count": 12,
   "metadata": {},
   "outputs": [
    {
     "name": "stdout",
     "output_type": "stream",
     "text": [
      "<Bytes: b'212236364848889917', byteorder=big> <Bytes: b'183302134488571234', byteorder=big>\n",
      "<Bytes: b'TMCTF{Feistel-Cipher-Flag-TMCTF2018}', byteorder=big>\n"
     ]
    }
   ],
   "source": [
    "from samson.utilities.manipulation import xor_buffs\n",
    "\n",
    "k1 = given_ct_parts[0] ^ given_ct_parts[1] ^ pt_parts[1]\n",
    "recovered_pt2 = k1 ^ ct_parts[0] ^ ct_parts[1]\n",
    "\n",
    "k0 = pt_parts[0] ^ pt_parts[1] ^ given_ct_parts[0]\n",
    "recovered_pt1 = k0 ^ ct_parts[0] ^ recovered_pt2\n",
    "\n",
    "flag = recovered_pt1 + recovered_pt2\n",
    "print(k0, k1)\n",
    "print(flag)"
   ]
  },
  {
   "cell_type": "code",
   "execution_count": 13,
   "metadata": {},
   "outputs": [],
   "source": [
    "from samson.constructions.feistel_network import FeistelNetwork\n",
    "test_fnet = FeistelNetwork(lambda x, k_i: xor_buffs(x, k_i), lambda key: key)\n",
    "\n",
    "# Here we reorder before we decrypt\n",
    "assert test_fnet.decrypt([k0, k1], ct_parts[1] + ct_parts[0]) == flag\n",
    "assert test_fnet.encrypt([k0, k1], flag) == ct_parts[1] + ct_parts[0]"
   ]
  },
  {
   "cell_type": "code",
   "execution_count": null,
   "metadata": {},
   "outputs": [],
   "source": []
  }
 ],
 "metadata": {
  "kernelspec": {
   "display_name": "Python 3",
   "language": "python",
   "name": "python3"
  },
  "language_info": {
   "codemirror_mode": {
    "name": "ipython",
    "version": 3
   },
   "file_extension": ".py",
   "mimetype": "text/x-python",
   "name": "python",
   "nbconvert_exporter": "python",
   "pygments_lexer": "ipython3",
   "version": "3.7.3"
  }
 },
 "nbformat": 4,
 "nbformat_minor": 2
}
