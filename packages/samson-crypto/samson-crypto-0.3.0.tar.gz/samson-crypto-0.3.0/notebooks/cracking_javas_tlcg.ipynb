{
 "cells": [
  {
   "cell_type": "markdown",
   "metadata": {},
   "source": [
    "# Cracking Java's Truncated LCG\n",
    "Many security articles warn developers about using non-cryptographically secure pseudorandom number generators, but they never seem to give any concrete examples. Here's a nontrivial example of recovering the internal state of Java's `util.Random`. Note, this should work for _any_ language that uses Java's standard library (Scala, Groovy, Clojure, Kotlin, etc). In this example, we get 64 bytes (16 unsigned integers) from Java Random's `nextBytes` function."
   ]
  },
  {
   "cell_type": "code",
   "execution_count": 1,
   "metadata": {},
   "outputs": [],
   "source": [
    "from samson.prngs.lcg import LCG\n",
    "from samson.utilities.bytes import Bytes"
   ]
  },
  {
   "cell_type": "code",
   "execution_count": 2,
   "metadata": {},
   "outputs": [],
   "source": [
    "# Scala code to generate random bytes\n",
    "# object Main extends App{\n",
    "    \n",
    "#     def convertBytesToHex(bytes: Seq[Byte]): String = {\n",
    "#         val sb = new StringBuilder\n",
    "#         for (b <- bytes) {\n",
    "#             sb.append(String.format(\"%02x\", Byte.box(b)))\n",
    "#         }\n",
    "#         sb.toString\n",
    "#     }\n",
    "\n",
    "#     val bytes = new Array[Byte](64)\n",
    "#     scala.util.Random.nextBytes(bytes)\n",
    "#     println(convertBytesToHex(bytes))\n",
    "# }\n",
    "\n",
    "java_output = Bytes(0x8a2acb2ada63472ff089833623a91b5e8fd19890c2c89a563f9ae3f58fc5b6a8d7bf0455b93137175dfd6d98d838ae6fd4f24fabe4afba15769ea09b23057ce0)"
   ]
  },
  {
   "cell_type": "markdown",
   "metadata": {},
   "source": [
    "First, we'll need to unpack the bytes into the original integer outputs so we can find their mathematical correlation. We'll also need to peruse the Java source code to find the type of PRNG and its parameters. Java (OpenJDK at least) uses a truncated linear congruential generator (TLCG) (see the [PRNG table](https://github.com/wildcardcorp/samson/blob/master/doc/prng_table.md) in the documentation). The problem with this type of PRNG is that the output is a truncation of the internal state. In this case, we're missing 16 bits per output. Fortunately, samson includes a special function to deal with these. Using some LLL magic and a bit of bruteforce, we can still recover the internal state.\n",
    "\n",
    "We'll chunk our integer outputs into three parts: `analysis_outputs` for which we'll find the correlation between, `reference_outputs` for which the algorithm will compare a candidate TLCG against, and `next_outputs` for the demonstration in the last cell."
   ]
  },
  {
   "cell_type": "code",
   "execution_count": 7,
   "metadata": {
    "tags": []
   },
   "outputs": [
    {
     "output_type": "stream",
     "name": "stderr",
     "text": "Seedspace searched:  52%|█████▏    | 34006/65536 [00:00<00:00, 49910.63seeds/s]\n"
    }
   ],
   "source": [
    "# Unpack bytes into integers. Java packs them in 'backwards' ([4, 3, 2, 1, 4, 3, 2, 1])\n",
    "# http://hg.openjdk.java.net/jdk8/jdk8/jdk/file/687fd7c7986d/src/share/classes/java/util/Random.java#l227\n",
    "integer_outputs = [chunk[::-1].int() for chunk in java_output.chunk(4)]\n",
    "analysis_outputs, reference_outputs, next_outputs = integer_outputs[:8], integer_outputs[8:12], integer_outputs[-4:]\n",
    "\n",
    "# LCG parameters from Java source code\n",
    "# http://hg.openjdk.java.net/jdk8/jdk8/jdk/file/687fd7c7986d/src/share/classes/java/util/Random.java#l88\n",
    "cracked_lcg = LCG.crack_truncated(analysis_outputs, reference_outputs, multiplier=0x5DEECE66D, increment=0xB, modulus=2**48, trunc_amount=16)"
   ]
  },
  {
   "cell_type": "code",
   "execution_count": 8,
   "metadata": {
    "tags": []
   },
   "outputs": [
    {
     "output_type": "stream",
     "name": "stdout",
     "text": "Cracked LCG <LCG: X=122794068710207, a=25214903917, c=140169650869055, m=281474976710656, trunc=16>\nNext four LCG outputs [2874143444, 364556260, 2610994806, 3766224163]\nNext actual outputs   [2874143444, 364556260, 2610994806, 3766224163]\n"
    }
   ],
   "source": [
    "print('Cracked LCG', cracked_lcg)\n",
    "print('Next four LCG outputs', [cracked_lcg.generate() for _ in range(4)])\n",
    "print('Next actual outputs  ', next_outputs)"
   ]
  },
  {
   "cell_type": "code",
   "execution_count": null,
   "metadata": {},
   "outputs": [],
   "source": []
  }
 ],
 "metadata": {
  "kernelspec": {
   "display_name": "Python 3",
   "language": "python",
   "name": "python3"
  },
  "language_info": {
   "codemirror_mode": {
    "name": "ipython",
    "version": 3
   },
   "file_extension": ".py",
   "mimetype": "text/x-python",
   "name": "python",
   "nbconvert_exporter": "python",
   "pygments_lexer": "ipython3",
   "version": "3.8.3-final"
  }
 },
 "nbformat": 4,
 "nbformat_minor": 2
}