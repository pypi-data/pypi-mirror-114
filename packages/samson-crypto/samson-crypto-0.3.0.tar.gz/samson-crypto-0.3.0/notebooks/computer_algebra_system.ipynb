{
 "cells": [
  {
   "cell_type": "markdown",
   "metadata": {},
   "source": [
    "# Computer Algebra System\n",
    "samson comes with a purpose-built computer algebra system (CAS) focusing on cryptographic applications. Like all of samson, the CAS was built to be transparent, easy to understand, and makes generous use of operator overloading. The goal was to make mathematical code as close as possible to mathematical notation."
   ]
  },
  {
   "cell_type": "code",
   "execution_count": 2,
   "metadata": {},
   "outputs": [],
   "source": [
    "from samson.math.all import *"
   ]
  },
  {
   "cell_type": "markdown",
   "metadata": {},
   "source": [
    "## Group Manipulation and Composition"
   ]
  },
  {
   "cell_type": "code",
   "execution_count": 3,
   "metadata": {
    "tags": []
   },
   "outputs": [
    {
     "output_type": "stream",
     "name": "stdout",
     "text": "Integer ring: ZZ\nQuotient ring: ZZ/ZZ(11)\nZ11's order 11\nPolynomial ring: ZZ/ZZ(11)[x]\nF's order 161051\nF's quotient is irreducible: True\nGF shortcut F_(11**5)\nZZ/ZZ(11)[x]/x**5 + ZZ(2)*\n"
    }
   ],
   "source": [
    "# Here's just an integer ring\n",
    "print('Integer ring:', ZZ)\n",
    "\n",
    "# Quotient rings can be made from dividing a ring by one of its elements\n",
    "Z11 = ZZ/ZZ(11)\n",
    "print('Quotient ring:', Z11)\n",
    "print(\"Z11's order\", Z11.order)\n",
    "\n",
    "# Polynomial rings can be made from indexing a ring with a symbol\n",
    "x = Symbol('x')\n",
    "P = Z11[x]\n",
    "print('Polynomial ring:', P)\n",
    "\n",
    "# F is a finite field since its quotient is irreducible\n",
    "F = P/P(x**5 + 2)\n",
    "print(\"F's order\", F.order)\n",
    "print(\"F's quotient is irreducible:\", F.quotient.is_irreducible())\n",
    "\n",
    "# F is actually GF(11^5), and can be automatically built for you using the `FF` or `GF` shortcut\n",
    "print('GF shortcut', GF(11, 5))\n",
    "\n",
    "# Multiplicative groups can be made from calling `mul_group` on an existing ring\n",
    "F_star = F.mul_group()\n",
    "print(F_star)"
   ]
  },
  {
   "cell_type": "markdown",
   "metadata": {},
   "source": [
    "## Element Manipulation"
   ]
  },
  {
   "cell_type": "code",
   "execution_count": 4,
   "metadata": {
    "tags": []
   },
   "outputs": [
    {
     "output_type": "stream",
     "name": "stdout",
     "text": "Ring ZZ/ZZ(11)\n5\nAddition 0\nSubtraction 10\nMultiplication (integer) 1\nMultiplication (element) 0\nPower 4\nDivision 9\nNegation 6\nInversion 9\n\nRing ZZ/ZZ(11)[x]/x**5 + ZZ(2)\nx**2 + 1\nAddition x**2 + 7\nSubtraction x**2 + 6\nMultiplication (integer) 9*x**2 + 9\nMultiplication (element) 5*x**4 + 5*x**3 + 7*x**2 + 5*x + 2\nPower 3*x**4 + 3*x**2 + 9*x + 1\nDivision 5*x**4 + x\nNegation 10*x**2 + 10\nInversion 9*x**4 + 4*x**3 + 2*x**2 + 7*x + 9\n"
    }
   ],
   "source": [
    "print('Ring', Z11)\n",
    "\n",
    "# Calling a ring with a parameter attempts to coerce that parameter into an element of the ring\n",
    "# The type of the parameter is dependent on the ring\n",
    "element = Z11(5)\n",
    "print(element)\n",
    "\n",
    "# Getting the `n`-th item of a ring returns the element in the set with ordinality `n`\n",
    "# This only works in rings with countable sets\n",
    "elem_b = Z11[6]\n",
    "\n",
    "# Each ring also includes a random function. `random` always takes an element from the ring\n",
    "# as a maximum. You can think of this as a generalization of `random_int(n)`.\n",
    "elem_c = Z11.random(Z11(7))\n",
    "\n",
    "# Elements can be added to each other\n",
    "print('Addition', element + elem_b)\n",
    "\n",
    "# Elements can be subtracted from each other (i.e. adding the negation)\n",
    "print('Subtraction', element - elem_b)\n",
    "\n",
    "# Elements can be multiplied by an integer (i.e. repeated addition)\n",
    "print('Multiplication (integer)', element * 9)\n",
    "\n",
    "# Elements can be multiplied by another element (if the algebra allows). Note, this is different than repeated addition!\n",
    "print('Multiplication (element)', element * elem_c)\n",
    "\n",
    "# Elements can be taken to a power (i.e. repeated multiplication)\n",
    "print('Power', element ** 3)\n",
    "\n",
    "# Elements can be divided (given the dividend is a unit)\n",
    "print('Division', element / Z11(3))\n",
    "\n",
    "# Elements can be negated (i.e. additive inverse)\n",
    "print('Negation', -element)\n",
    "\n",
    "# Elements can be inverted (i.e. multiplicative inverse)\n",
    "print('Inversion', ~element)\n",
    "\n",
    "\n",
    "print()\n",
    "print('Ring', F)\n",
    "\n",
    "# Here's a less trivial example. Let's use the polynomial quotient ring this time\n",
    "element = F(x**2 + 1)\n",
    "print(element)\n",
    "\n",
    "elem_b = F[6]\n",
    "elem_c = F.random(F(x**4 + x**2 - 3))\n",
    "\n",
    "print('Addition', element + elem_b)\n",
    "print('Subtraction', element - elem_b)\n",
    "print('Multiplication (integer)', element * 9)\n",
    "print('Multiplication (element)', element * elem_c)\n",
    "print('Power', element ** 3)\n",
    "print('Division', element / F(x))\n",
    "print('Negation', -element)\n",
    "print('Inversion', ~element)"
   ]
  },
  {
   "cell_type": "markdown",
   "metadata": {},
   "source": [
    "# Integer and Polynomial Manipulation"
   ]
  },
  {
   "cell_type": "code",
   "execution_count": 5,
   "metadata": {
    "tags": []
   },
   "outputs": [
    {
     "output_type": "stream",
     "name": "stdout",
     "text": "a: 17526553388873325358\na is prime: False\na's factorization: {<IntegerElement: val=2, ring=ZZ>: 1, <IntegerElement: val=59, ring=ZZ>: 1, <IntegerElement: val=761, ring=ZZ>: 1, <IntegerElement: val=1398211, ring=ZZ>: 1, <IntegerElement: val=139590911, ring=ZZ>: 1}\nFalse\n{2: 1, 59: 1, 761: 1, 1398211: 1, 139590911: 1}\n\nb: 2*x**8 + x**4 + 7*x**2\nb is prime: False\nb's factorization: {<Polynomial: x + 3, coeff_ring=ZZ/ZZ(11)>: 1, <Polynomial: x + 8, coeff_ring=ZZ/ZZ(11)>: 1, <Polynomial: x**4 + 9*x**2 + 10, coeff_ring=ZZ/ZZ(11)>: 1, <Polynomial: x, coeff_ring=ZZ/ZZ(11)>: 2}\n\nb's derivative: 5*x**7 + 4*x**3 + 3*x\nb is monic: False\nb as monic: x**8 + 6*x**4 + 9*x**2\n"
    }
   ],
   "source": [
    "# The IntegerElement class provides shortcuts for working with integers\n",
    "number = 17526553388873325358\n",
    "a      = ZZ(number)\n",
    "print('a:', a)\n",
    "print('a is prime:', a.is_prime())\n",
    "print(\"a's factorization:\", a.factor())\n",
    "\n",
    "# However, you can also call the underlying functions yourself\n",
    "print(is_prime(number))\n",
    "print(factor(number))\n",
    "\n",
    "print()\n",
    "\n",
    "\n",
    "# Polynomials can be instantiated in several ways:\n",
    "# 1) From an expression.\n",
    "# 2) From the Polynomial class using a list. If the coefficients aren't within a ring, you must supply the ring to coerce them into.\n",
    "# 3) From the Polynomial class using a dictionary formatted as {degree:value}. `value` must be a ring element.\n",
    "b = 2*x**8 + x**4 + 7*x**2\n",
    "assert b == Polynomial([0, 0, 7, 0, 1, 0, 0, 0, 2], Z11)\n",
    "assert b == Polynomial({8: Z11(2), 4: Z11(1), 2: Z11(7)}, Z11)\n",
    "\n",
    "print('b:', b)\n",
    "print('b is prime:', b.is_prime())\n",
    "print(\"b's factorization:\", b.factor())\n",
    "print()\n",
    "print(\"b's derivative:\", b.derivative())\n",
    "print(\"b is monic:\", b.is_monic())\n",
    "print(\"b as monic:\", b.monic())"
   ]
  },
  {
   "cell_type": "code",
   "execution_count": null,
   "metadata": {},
   "outputs": [],
   "source": []
  }
 ],
 "metadata": {
  "kernelspec": {
   "display_name": "Python 3",
   "language": "python",
   "name": "python3"
  },
  "language_info": {
   "codemirror_mode": {
    "name": "ipython",
    "version": 3
   },
   "file_extension": ".py",
   "mimetype": "text/x-python",
   "name": "python",
   "nbconvert_exporter": "python",
   "pygments_lexer": "ipython3",
   "version": "3.8.3-final"
  }
 },
 "nbformat": 4,
 "nbformat_minor": 4
}