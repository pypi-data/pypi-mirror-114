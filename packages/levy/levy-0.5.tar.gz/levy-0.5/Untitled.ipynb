{
 "cells": [
  {
   "cell_type": "code",
   "execution_count": 38,
   "id": "c083c5b1",
   "metadata": {},
   "outputs": [],
   "source": [
    "\"\"\"\n",
    "Config parser definition\n",
    "\"\"\"\n",
    "from collections import namedtuple\n",
    "from typing import Optional, Dict, Any, List, TypeVar, Generic\n",
    "\n",
    "import logging\n",
    "import yaml\n",
    "from jsonschema import validate, ValidationError, SchemaError\n",
    "\n",
    "from levy.renderer import render_str\n",
    "from levy.exceptions import ListParseException\n",
    "\n",
    "\n",
    "T = TypeVar(\"T\")\n",
    "\n",
    "\n",
    "class Config(Generic[T]):\n",
    "    \"\"\"\n",
    "    This class parses the pipelines config files\n",
    "    \"\"\"\n",
    "\n",
    "    def __init__(\n",
    "        self,\n",
    "        name: Optional[str] = None,\n",
    "        conf: Optional[Dict[str, Any]] = None,\n",
    "        list_id: Optional[str] = \"name\",\n",
    "    ):\n",
    "        \"\"\"\n",
    "        Load the config ingestion from a given path\n",
    "        :param file: YAML file to load\n",
    "        \"\"\"\n",
    "        self.name = name\n",
    "        self._vars = conf\n",
    "        self._list_id = list_id  # Identifies different entities in list\n",
    "        self.data = None  # Present if we read a file with datatype\n",
    "\n",
    "    @classmethod\n",
    "    def read_file(\n",
    "        cls,\n",
    "        file: str,\n",
    "        name: Optional[str] = \"root\",\n",
    "        list_id: Optional[str] = \"name\",\n",
    "        datatype: Optional[T] = None,\n",
    "    ) -> \"Config\":\n",
    "        \"\"\"\n",
    "        Load the configuration from a file\n",
    "        :param file: YAML file to load\n",
    "        :param name: Config name\n",
    "        :param list_id: Identifier of different entities in config list\n",
    "        :param datatype: Class defining incoming data\n",
    "        :return:\n",
    "        \"\"\"\n",
    "\n",
    "        cfg = cls(name=name, list_id=list_id)\n",
    "        cfg._file = file  # pylint: disable=attribute-defined-outside-init\n",
    "\n",
    "        with open(cfg._file, \"r\") as yml_file:\n",
    "            rendered = render_str(yml_file.read())\n",
    "            cfg._vars = yaml.safe_load(rendered)\n",
    "\n",
    "        cfg.validate_schema(datatype)\n",
    "        cfg.update_vars(cfg._vars)\n",
    "        return cfg\n",
    "\n",
    "    @classmethod\n",
    "    def read_dict(\n",
    "        cls,\n",
    "        _vars: Dict[str, Any],\n",
    "        name: Optional[str] = \"root\",\n",
    "        list_id: Optional[str] = \"name\",\n",
    "    ) -> \"Config\":\n",
    "        \"\"\"\n",
    "        Create a Config instance from dict values\n",
    "        :param _vars: config to load\n",
    "        :param name: Config name\n",
    "        :param list_id: Identifier of different entities in config list\n",
    "        :return:\n",
    "        \"\"\"\n",
    "        cfg = cls(name=name, conf=_vars, list_id=list_id)\n",
    "\n",
    "        cfg.update_vars(cfg._vars)\n",
    "        return cfg\n",
    "\n",
    "    def update_vars(self, _vars: Dict[str, Any]):\n",
    "        \"\"\"\n",
    "        Update attributes for Config.\n",
    "        Created nested Configs for dictionaries & lists\n",
    "        :param _vars: variables to set\n",
    "        :return:\n",
    "        \"\"\"\n",
    "        for key, val in _vars.items():\n",
    "\n",
    "            if isinstance(val, dict):\n",
    "                self.__setattr__(\n",
    "                    key,\n",
    "                    self.__class__(name=key, conf=_vars[key], list_id=self._list_id),\n",
    "                )\n",
    "                self(key).update_vars(val)\n",
    "\n",
    "            elif isinstance(val, list):\n",
    "                self.update_list(key, val)\n",
    "\n",
    "            else:\n",
    "                self.__setattr__(key, val)\n",
    "\n",
    "    def update_list(self, key: str, values: List[Any]):\n",
    "        \"\"\"\n",
    "        Prepare attributes coming from a list.\n",
    "        If any elements is a dictionary, try to set a namedtuple of Config, otherwise\n",
    "        pass the list as is.\n",
    "        :param key: configuration key\n",
    "        :param values: list to add as attributes\n",
    "        :return:\n",
    "        \"\"\"\n",
    "        if any((isinstance(val, dict)) for val in values):\n",
    "            try:\n",
    "                configs = [\n",
    "                    Config.read_dict(v, name=v[self._list_id], list_id=self._list_id)\n",
    "                    for v in values\n",
    "                ]\n",
    "                conf_tuple = namedtuple(key, (conf(self._list_id) for conf in configs))\n",
    "                self.__setattr__(key, conf_tuple(*configs))\n",
    "            except Exception:\n",
    "                raise ListParseException(f\"Error parsing list in {key}\")\n",
    "\n",
    "        else:\n",
    "            self.__setattr__(key, values)\n",
    "\n",
    "    def validate_schema(self, datatype: Optional[T] = None):\n",
    "        \"\"\"\n",
    "        Optionally, validate the incoming data vs a provided schema.\n",
    "\n",
    "        The schema should follow JSON schema specification.\n",
    "        :param datatype: Pydantic data type class\n",
    "        :return: Either the validation passes or raise an exception\n",
    "        \"\"\"\n",
    "        if datatype:\n",
    "            try:\n",
    "                self.data = datatype(**self._vars)\n",
    "            except ValidationError as e:\n",
    "                logging.error(f\"Error validating data with {T}\")\n",
    "                raise e\n",
    "\n",
    "    def __call__(self, key: str, default: Optional[Any] = ...):\n",
    "        \"\"\"\n",
    "        Used for info retrieval\n",
    "        :param key: attribute to get\n",
    "        :param default: optional default to get if key not in __dict__\n",
    "        :return:\n",
    "        \"\"\"\n",
    "        if default is ...:\n",
    "            return self.__getattribute__(key)\n",
    "\n",
    "        return self.__getattribute__(key) if key in self.__dict__ else default\n",
    "\n",
    "    def __repr__(self):\n",
    "        return f\"Config({self.name})\"\n"
   ]
  },
  {
   "cell_type": "code",
   "execution_count": 39,
   "id": "11b194a6",
   "metadata": {},
   "outputs": [],
   "source": [
    "from typing import Dict, List, Optional, TypeVar\n",
    "\n",
    "from pydantic import BaseModel\n",
    "\n",
    "class Friends(BaseModel):\n",
    "    name: str\n",
    "    type: str\n",
    "    fur: str = \"soft\"\n",
    "\n",
    "class Kitten(BaseModel):\n",
    "    title: str\n",
    "    age: Optional[int]\n",
    "    colors: List[str]\n",
    "    hobby: Dict[str, Dict[str, str]]\n",
    "    friends: List[Friends]\n",
    "\n",
    "T = TypeVar('T')"
   ]
  },
  {
   "cell_type": "code",
   "execution_count": 40,
   "id": "8fdc6efa",
   "metadata": {},
   "outputs": [],
   "source": [
    "kitten = Kitten(**cfg._vars)"
   ]
  },
  {
   "cell_type": "code",
   "execution_count": 41,
   "id": "0175d71a",
   "metadata": {},
   "outputs": [
    {
     "data": {
      "text/plain": [
       "Kitten(title='Lévy the cat', age=None, colors=['black', 'white'], hobby={'eating': {'what': 'anything'}}, friends=[Friends(name='cartman', type='cat', fur='soft'), Friends(name='lima', type='cat', fur='soft')])"
      ]
     },
     "execution_count": 41,
     "metadata": {},
     "output_type": "execute_result"
    }
   ],
   "source": [
    "kitten"
   ]
  },
  {
   "cell_type": "code",
   "execution_count": 42,
   "id": "d00803d3",
   "metadata": {},
   "outputs": [],
   "source": [
    "cfg = Config.read_file(\"tests/resources/test.yaml\", datatype=Kitten)"
   ]
  },
  {
   "cell_type": "code",
   "execution_count": 43,
   "id": "2b253235",
   "metadata": {},
   "outputs": [
    {
     "data": {
      "text/plain": [
       "Kitten(title='Lévy the cat', age=None, colors=['black', 'white'], hobby={'eating': {'what': 'anything'}}, friends=[Friends(name='cartman', type='cat', fur='soft'), Friends(name='lima', type='cat', fur='soft')])"
      ]
     },
     "execution_count": 43,
     "metadata": {},
     "output_type": "execute_result"
    }
   ],
   "source": [
    "cfg.data"
   ]
  },
  {
   "cell_type": "code",
   "execution_count": 52,
   "id": "6acbea53",
   "metadata": {},
   "outputs": [
    {
     "data": {
      "text/plain": [
       "{'title': 'Lévy the cat',\n",
       " 'age': None,\n",
       " 'colors': ['black', 'white'],\n",
       " 'hobby': {'eating': {'what': 'anything'}},\n",
       " 'friends': [{'name': 'cartman', 'type': 'cat', 'fur': 'soft'},\n",
       "  {'name': 'lima', 'type': 'cat', 'fur': 'soft'}]}"
      ]
     },
     "execution_count": 52,
     "metadata": {},
     "output_type": "execute_result"
    }
   ],
   "source": [
    "cfg.data.dict()"
   ]
  },
  {
   "cell_type": "code",
   "execution_count": null,
   "id": "3e7ecf2a",
   "metadata": {},
   "outputs": [],
   "source": []
  }
 ],
 "metadata": {
  "kernelspec": {
   "display_name": "Python 3 (ipykernel)",
   "language": "python",
   "name": "python3"
  },
  "language_info": {
   "codemirror_mode": {
    "name": "ipython",
    "version": 3
   },
   "file_extension": ".py",
   "mimetype": "text/x-python",
   "name": "python",
   "nbconvert_exporter": "python",
   "pygments_lexer": "ipython3",
   "version": "3.7.9"
  }
 },
 "nbformat": 4,
 "nbformat_minor": 5
}
