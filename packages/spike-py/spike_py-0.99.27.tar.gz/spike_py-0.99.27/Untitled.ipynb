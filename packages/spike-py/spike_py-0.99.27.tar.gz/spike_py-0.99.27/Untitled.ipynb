{
 "cells": [
  {
   "cell_type": "markdown",
   "metadata": {},
   "source": [
    "pour faire un test"
   ]
  },
  {
   "cell_type": "code",
   "execution_count": 3,
   "metadata": {
    "ExecuteTime": {
     "end_time": "2020-07-12T21:15:44.180949Z",
     "start_time": "2020-07-12T21:15:44.168811Z"
    }
   },
   "outputs": [],
   "source": [
    "if 2*4+12%2 == 0:\n",
    "    print ('coucou')"
   ]
  },
  {
   "cell_type": "code",
   "execution_count": 4,
   "metadata": {
    "ExecuteTime": {
     "end_time": "2020-07-12T21:16:16.284927Z",
     "start_time": "2020-07-12T21:16:16.270990Z"
    }
   },
   "outputs": [],
   "source": [
    "def f(x):\n",
    "    print(2*x)"
   ]
  },
  {
   "cell_type": "code",
   "execution_count": 5,
   "metadata": {
    "ExecuteTime": {
     "end_time": "2020-07-12T21:16:23.158032Z",
     "start_time": "2020-07-12T21:16:23.141577Z"
    }
   },
   "outputs": [
    {
     "name": "stdout",
     "output_type": "stream",
     "text": [
      "24\n"
     ]
    }
   ],
   "source": [
    "f(12)"
   ]
  },
  {
   "cell_type": "code",
   "execution_count": 1,
   "metadata": {
    "ExecuteTime": {
     "end_time": "2021-06-10T20:09:50.111357Z",
     "start_time": "2021-06-10T20:09:49.974026Z"
    }
   },
   "outputs": [
    {
     "data": {
      "text/plain": [
       "['spike',\n",
       " 'spike.util',\n",
       " 'spike.plugins',\n",
       " 'spike.Display',\n",
       " 'spike.File',\n",
       " 'spike.v1',\n",
       " 'spike.Miscellaneous',\n",
       " 'spike.Interactive',\n",
       " 'spike.Algo',\n",
       " 'spike.plugins.specials',\n",
       " 'spike.plugins.MS',\n",
       " 'spike.plugins.NMR']"
      ]
     },
     "execution_count": 1,
     "metadata": {},
     "output_type": "execute_result"
    }
   ],
   "source": [
    "import setuptools\n",
    "setuptools.find_packages()\n"
   ]
  },
  {
   "cell_type": "code",
   "execution_count": 2,
   "metadata": {
    "ExecuteTime": {
     "end_time": "2021-06-07T09:35:53.385103Z",
     "start_time": "2021-06-07T09:35:53.265211Z"
    }
   },
   "outputs": [],
   "source": [
    "!touch spike.plugins.NMR.__init__.py"
   ]
  },
  {
   "cell_type": "code",
   "execution_count": 3,
   "metadata": {
    "ExecuteTime": {
     "end_time": "2021-06-10T20:10:24.392498Z",
     "start_time": "2021-06-10T20:10:23.009239Z"
    }
   },
   "outputs": [
    {
     "name": "stdout",
     "output_type": "stream",
     "text": [
      "plugins loaded:\n",
      "FTMS_calib,  PhaseMS,  diagonal_2DMS, \n",
      "*** PALMA not loaded ***\n",
      "plugins loaded:\n",
      "Bruker_NMR_FT,  Bucketing,  Integrate,  apmin, \n"
     ]
    }
   ],
   "source": [
    "import spike\n",
    "from spike.File import BrukerMS as bk"
   ]
  },
  {
   "cell_type": "code",
   "execution_count": 6,
   "metadata": {
    "ExecuteTime": {
     "end_time": "2021-06-10T20:11:08.738474Z",
     "start_time": "2021-06-10T20:11:08.626650Z"
    }
   },
   "outputs": [
    {
     "name": "stdout",
     "output_type": "stream",
     "text": [
      " \u001b[0m\u001b[01;34m13C\u001b[0m/            \u001b[01;34mDOSY_glucose\u001b[0m/    \u001b[01;31minsuline.tgz\u001b[0m       \u001b[01;34mpeptides-AR\u001b[0m/\r\n",
      " \u001b[01;34m19F\u001b[0m/            \u001b[34;42mdosymixK\u001b[0m/        \u001b[01;34mJFL\u001b[0m/               \u001b[01;34mpeptidesDOSY\u001b[0m/\r\n",
      "\u001b[01;34m'3D echange'\u001b[0m/    \u001b[01;34mfluoroproline\u001b[0m/   m1_zf.gs2          \u001b[01;34mPNA\u001b[0m/\r\n",
      " \u001b[01;34mAceCN-Wat\u001b[0m/      \u001b[01;34mFT-ICR\u001b[0m/          \u001b[01;34mMS-Valerie\u001b[0m/        \u001b[01;34mrQRd\u001b[0m/\r\n",
      " \u001b[01;34mBK\u001b[0m/             \u001b[01;34mFT-ICR-Cyto\u001b[0m/     NOE_PNA_tern.eps   \u001b[01;32mrsync-700.sh\u001b[0m*\r\n",
      " \u001b[01;34mBruit-Lionel\u001b[0m/   \u001b[01;34mFT-IR\u001b[0m/           \u001b[01;34mnoesy_Agathe\u001b[0m/      \u001b[01;32mrsync.sh\u001b[0m*\r\n",
      " \u001b[01;34mCERT\u001b[0m/           \u001b[01;34mHRMAS\u001b[0m/           \u001b[01;34mORBITRAP\u001b[0m/          \u001b[01;34mSDQ\u001b[0m/\r\n",
      " \u001b[01;34mcpmas\u001b[0m/          \u001b[01;34mimages-JLV\u001b[0m/      \u001b[01;34mPDZ\u001b[0m/               \u001b[34;42mSERVIER\u001b[0m/\r\n",
      " \u001b[01;34mDEXI\u001b[0m/           \u001b[01;34mINADEQUATE\u001b[0m/      \u001b[01;34mPEO-JJ\u001b[0m/            \u001b[01;34mTIPE\u001b[0m/\r\n",
      " \u001b[01;34mDOSY-DOTY\u001b[0m/      \u001b[01;34minsuline\u001b[0m/       \u001b[01;34m'PEO-JJ Ageing'\u001b[0m/\r\n"
     ]
    }
   ],
   "source": [
    "ls /DATA/DATA_res"
   ]
  },
  {
   "cell_type": "code",
   "execution_count": null,
   "metadata": {},
   "outputs": [],
   "source": []
  }
 ],
 "metadata": {
  "kernelspec": {
   "display_name": "Python 3",
   "language": "python",
   "name": "python3"
  },
  "language_info": {
   "codemirror_mode": {
    "name": "ipython",
    "version": 3
   },
   "file_extension": ".py",
   "mimetype": "text/x-python",
   "name": "python",
   "nbconvert_exporter": "python",
   "pygments_lexer": "ipython3",
   "version": "3.8.5"
  },
  "varInspector": {
   "cols": {
    "lenName": 16,
    "lenType": 16,
    "lenVar": 40
   },
   "kernels_config": {
    "python": {
     "delete_cmd_postfix": "",
     "delete_cmd_prefix": "del ",
     "library": "var_list.py",
     "varRefreshCmd": "print(var_dic_list())"
    },
    "r": {
     "delete_cmd_postfix": ") ",
     "delete_cmd_prefix": "rm(",
     "library": "var_list.r",
     "varRefreshCmd": "cat(var_dic_list()) "
    }
   },
   "types_to_exclude": [
    "module",
    "function",
    "builtin_function_or_method",
    "instance",
    "_Feature"
   ],
   "window_display": false
  }
 },
 "nbformat": 4,
 "nbformat_minor": 2
}
