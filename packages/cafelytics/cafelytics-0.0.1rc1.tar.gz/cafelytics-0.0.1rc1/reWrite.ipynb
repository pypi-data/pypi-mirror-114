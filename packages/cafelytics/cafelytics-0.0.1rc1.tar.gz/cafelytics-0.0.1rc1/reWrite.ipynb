{
 "cells": [
  {
   "cell_type": "markdown",
   "metadata": {},
   "source": [
    "# \"Write code for people, not comupters\""
   ]
  },
  {
   "cell_type": "code",
   "execution_count": 2,
   "metadata": {},
   "outputs": [
    {
     "name": "stdout",
     "output_type": "stream",
     "text": [
      "Requirement already satisfied: PyYAML in /usr/local/Caskroom/miniconda/base/lib/python3.8/site-packages (5.4.1)\n"
     ]
    }
   ],
   "source": [
    "! pip install PyYAML"
   ]
  },
  {
   "cell_type": "code",
   "execution_count": 3,
   "metadata": {},
   "outputs": [],
   "source": [
    "import pandas as pd\n",
    "import yaml\n",
    "import matplotlib.pyplot as plt"
   ]
  },
  {
   "cell_type": "code",
   "execution_count": 4,
   "metadata": {},
   "outputs": [],
   "source": [
    "simYears = 30\n",
    "thisYear = 2021\n",
    "startYear = 2021"
   ]
  },
  {
   "cell_type": "markdown",
   "metadata": {},
   "source": [
    "## Plan\n",
    "\n",
    "### Here are the steps you need to complete to make this function:\n",
    "-  [x] open the .yaml file with tree properties\n",
    "    - [x] use these tree properties to assign a death year for each tree based on (1) species and (2) age/year planted\n",
    "    \n",
    "- [x] develop the architecture of the .yaml file with strategies. What will this look like? What information will it hold? How flexible/rigid will it be (at first)?\n",
    "\n",
    "- [x] first off, based on the initial data, determine the death year of all of the trees. append this to a column 'death year' in the new dataframe\n",
    "\n",
    "- [x]  start by making a function that simply creates the new event dataframe assuming no strategies are implemented. I.e. all the rows will have status of either \"plant\" or \"replant.\" End year is determined by the death year, and replant is simply determined by the death year + 1.\n",
    "\n",
    "- [ ]  add to that function the ability to add pruning, so the status will now be \"plant,\" \"replant,\" or \"prune\"\n",
    "    * pruning will have to be implemented with some sort of year crieteria (in what year, or even better, at what age, should farmers prune?)\n",
    "    * with the new row that represents the pruning event, death year carries over but is altered slightly (because we are working under the assumption that pruning increases production life)\n",
    "    * unless another event is called, end year is death year\n",
    "    \n",
    "-  [ ] add to that function the ability to add intercropping.\n",
    "    * intercropping will be implemented with (1) a year criteria and (2) a proportion criteria (what proportion of the trees will be replanted). \n",
    "    * if the trees in the originaal dataset reach the year or age criteria, the original row will become inactive because the 'end year' has been reached. The row will then be split into two rows (but both still show the same ID number, which is how we identify them as the same plot). The first row will be the trees that were left alone, and so it will be the exact same except that is has proportionally less cuerdas (the death year will carry over from the original). The second row will have the trees which were replanted. Their\n"
   ]
  },
  {
   "cell_type": "code",
   "execution_count": 5,
   "metadata": {},
   "outputs": [],
   "source": [
    "def openYaml(yamlFilePath : str) -> dict: \n",
    "    yamlFile = open(yamlFilePath)\n",
    "    parsed = yaml.load(yamlFile, Loader=yaml.SafeLoader)\n",
    "    return(parsed)"
   ]
  },
  {
   "cell_type": "code",
   "execution_count": 6,
   "metadata": {},
   "outputs": [],
   "source": [
    "# open the yaml files  to assign attirbutes to the sim\n",
    "treeAttributes = openYaml(\"data/trees.yml\")\n",
    "strategyAttributes = openYaml(\"intervention/strategy.yml\")"
   ]
  },
  {
   "cell_type": "code",
   "execution_count": 7,
   "metadata": {},
   "outputs": [
    {
     "data": {
      "text/plain": [
       "{'borbon': {'treeType': 'borbon',\n",
       "  'altOrth': 'borbón',\n",
       "  'cuerdaHarvestCap': 200,\n",
       "  'firstHarvest': {'year': 4, 'proportion': 0.2},\n",
       "  'fullHarvest': {'year': 5, 'proportion': 1.0},\n",
       "  'descentHarvest': {'year': 28, 'proportionDescent': 0.2},\n",
       "  'death': {'year': 30}},\n",
       " 'catuai': {'treeType': 'catuai',\n",
       "  'altOrth': 'catuaí',\n",
       "  'cuerdaHarvestCap': 125,\n",
       "  'firstHarvest': {'year': 3, 'proportion': 0.2},\n",
       "  'fullHarvest': {'year': 4, 'proportion': 1.0},\n",
       "  'descentHarvest': {'year': 15, 'proportionDescent': 0.2},\n",
       "  'death': {'year': 17}},\n",
       " 'e14': {'treeType': 'e14',\n",
       "  'altOrth': 'E14',\n",
       "  'cuerdaHarvestCap': 125,\n",
       "  'firstHarvest': {'year': 4, 'proportion': 0.2},\n",
       "  'fullHarvest': {'year': 5, 'proportion': 1.0},\n",
       "  'descentHarvest': {'year': 13, 'proportionDescent': 0.2},\n",
       "  'death': {'year': 15}},\n",
       " 'catura': {'treeType': 'catura',\n",
       "  'altOrth': 'caturra',\n",
       "  'cuerdaHarvestCap': 125,\n",
       "  'firstHarvest': {'year': 3, 'proportion': 0.2},\n",
       "  'fullHarvest': {'year': 4, 'proportion': 1.0},\n",
       "  'descentHarvest': {'year': 14, 'proportionDescent': 0.2},\n",
       "  'death': {'year': 16}}}"
      ]
     },
     "execution_count": 7,
     "metadata": {},
     "output_type": "execute_result"
    }
   ],
   "source": [
    "treeAttributes"
   ]
  },
  {
   "cell_type": "code",
   "execution_count": 8,
   "metadata": {},
   "outputs": [
    {
     "data": {
      "text/plain": [
       "{'replant': {'isReplant': True, 'year': 1},\n",
       " 'prune': {'isPrune': True, 'age': 8, 'proportion': 1.0, 'lifeExtend': 0.15},\n",
       " 'intercrop': {'isIntercrop': False, 'age': 8, 'year': 8, 'proportion': 0.1}}"
      ]
     },
     "execution_count": 8,
     "metadata": {},
     "output_type": "execute_result"
    }
   ],
   "source": [
    "strategyAttributes"
   ]
  },
  {
   "cell_type": "code",
   "execution_count": 12,
   "metadata": {},
   "outputs": [
    {
     "data": {
      "text/html": [
       "<div>\n",
       "<style scoped>\n",
       "    .dataframe tbody tr th:only-of-type {\n",
       "        vertical-align: middle;\n",
       "    }\n",
       "\n",
       "    .dataframe tbody tr th {\n",
       "        vertical-align: top;\n",
       "    }\n",
       "\n",
       "    .dataframe thead th {\n",
       "        text-align: right;\n",
       "    }\n",
       "</style>\n",
       "<table border=\"1\" class=\"dataframe\">\n",
       "  <thead>\n",
       "    <tr style=\"text-align: right;\">\n",
       "      <th></th>\n",
       "      <th>plotID</th>\n",
       "      <th>farmerName</th>\n",
       "      <th>treeType</th>\n",
       "      <th>numCuerdas</th>\n",
       "      <th>yearPlanted</th>\n",
       "      <th>ageOfTrees</th>\n",
       "      <th>productionProportion</th>\n",
       "    </tr>\n",
       "  </thead>\n",
       "  <tbody>\n",
       "    <tr>\n",
       "      <th>0</th>\n",
       "      <td>0</td>\n",
       "      <td>Lic. Catalina Arce</td>\n",
       "      <td>catuai</td>\n",
       "      <td>0</td>\n",
       "      <td>2016</td>\n",
       "      <td>4</td>\n",
       "      <td>0.899700</td>\n",
       "    </tr>\n",
       "    <tr>\n",
       "      <th>1</th>\n",
       "      <td>1</td>\n",
       "      <td>Dr. Francisca Molina</td>\n",
       "      <td>borbon</td>\n",
       "      <td>3</td>\n",
       "      <td>2015</td>\n",
       "      <td>5</td>\n",
       "      <td>0.700959</td>\n",
       "    </tr>\n",
       "    <tr>\n",
       "      <th>2</th>\n",
       "      <td>2</td>\n",
       "      <td>Gilberto Leonel Márquez Vásquez</td>\n",
       "      <td>catuai</td>\n",
       "      <td>4</td>\n",
       "      <td>2014</td>\n",
       "      <td>6</td>\n",
       "      <td>0.969423</td>\n",
       "    </tr>\n",
       "    <tr>\n",
       "      <th>3</th>\n",
       "      <td>3</td>\n",
       "      <td>Eloisa Aldonza Lozada</td>\n",
       "      <td>borbon</td>\n",
       "      <td>3</td>\n",
       "      <td>2020</td>\n",
       "      <td>0</td>\n",
       "      <td>0.967980</td>\n",
       "    </tr>\n",
       "    <tr>\n",
       "      <th>4</th>\n",
       "      <td>4</td>\n",
       "      <td>Elsa Emilia Barrera Bahena</td>\n",
       "      <td>catuai</td>\n",
       "      <td>3</td>\n",
       "      <td>2013</td>\n",
       "      <td>7</td>\n",
       "      <td>0.871434</td>\n",
       "    </tr>\n",
       "  </tbody>\n",
       "</table>\n",
       "</div>"
      ],
      "text/plain": [
       "   plotID                       farmerName treeType  numCuerdas  yearPlanted  \\\n",
       "0       0               Lic. Catalina Arce   catuai           0         2016   \n",
       "1       1             Dr. Francisca Molina   borbon           3         2015   \n",
       "2       2  Gilberto Leonel Márquez Vásquez   catuai           4         2014   \n",
       "3       3            Eloisa Aldonza Lozada   borbon           3         2020   \n",
       "4       4       Elsa Emilia Barrera Bahena   catuai           3         2013   \n",
       "\n",
       "   ageOfTrees  productionProportion  \n",
       "0           4              0.899700  \n",
       "1           5              0.700959  \n",
       "2           6              0.969423  \n",
       "3           0              0.967980  \n",
       "4           7              0.871434  "
      ]
     },
     "execution_count": 12,
     "metadata": {},
     "output_type": "execute_result"
    }
   ],
   "source": [
    "# initialData = pd.read_csv(\"data/demoData.csv\")\n",
    "upData = pd.read_csv(\"data/fakeData.csv\")\n",
    "upData.head(5)"
   ]
  },
  {
   "cell_type": "code",
   "execution_count": 14,
   "metadata": {},
   "outputs": [
    {
     "data": {
      "text/plain": [
       "{'plotID': {0: 0, 1: 1, 2: 2, 3: 3, 4: 4},\n",
       " 'farmerName': {0: 'Lic. Catalina Arce',\n",
       "  1: 'Dr. Francisca Molina',\n",
       "  2: 'Gilberto Leonel Márquez Vásquez',\n",
       "  3: 'Eloisa Aldonza Lozada',\n",
       "  4: 'Elsa Emilia Barrera Bahena'},\n",
       " 'treeType': {0: 'catuai', 1: 'borbon', 2: 'catuai', 3: 'borbon', 4: 'catuai'},\n",
       " 'numCuerdas': {0: 0, 1: 3, 2: 4, 3: 3, 4: 3},\n",
       " 'yearPlanted': {0: 2016, 1: 2015, 2: 2014, 3: 2020, 4: 2013},\n",
       " 'ageOfTrees': {0: 4, 1: 5, 2: 6, 3: 0, 4: 7},\n",
       " 'productionProportion': {0: 0.8996996684472147,\n",
       "  1: 0.7009590822077385,\n",
       "  2: 0.969423229738804,\n",
       "  3: 0.967979682281386,\n",
       "  4: 0.871433707934542}}"
      ]
     },
     "execution_count": 14,
     "metadata": {},
     "output_type": "execute_result"
    }
   ],
   "source": [
    "upData[0:5].to_dict()"
   ]
  },
  {
   "cell_type": "code",
   "execution_count": 9,
   "metadata": {},
   "outputs": [],
   "source": [
    "# yearPlanted = 2020 - initialData['ageOfTrees']\n",
    "# initialData['yearPlanted'] = yearPlanted\n",
    "# print(initialData.keys())\n",
    "# new = initialData.rename(columns={'Unnamed: 0': 'plotID'})\n",
    "# new.to_csv(\"data/demoDataUpdated.csv\",  index = False)"
   ]
  },
  {
   "cell_type": "code",
   "execution_count": 10,
   "metadata": {},
   "outputs": [],
   "source": [
    "def isolateAttributes(attributes:dict, treeType:str):\n",
    "    \"\"\"\n",
    "    Takes in a dictionary containing all of the tree attributes, as well as the name of\n",
    "    the tree type, then returns a dictionary with only the attributes of the tree\n",
    "    `treeType`.\n",
    "    \"\"\"\n",
    "    \n",
    "    keys = list(treeAttributes.keys())\n",
    "    altOrth = [treeAttributes[key]['altOrth'] for key in treeAttributes]\n",
    "    # tipos = keys + altOrth # all of the possible spellings for the tree types\n",
    "\n",
    "    if treeType in keys:\n",
    "        treeDict = treeAttributes[treeType]\n",
    "\n",
    "    elif treeType in altOrth:\n",
    "        keyPair = [(key, treeAttributes[key]['altOrth']) for key in treeAttributes]\n",
    "        _treeType = ''\n",
    "        for i,e in enumerate(keyPair):\n",
    "            if treeType == e[1]: # if it's the altOrth\n",
    "                _treeType = e[0] # key to the key\n",
    "\n",
    "\n",
    "            if len(_treeType) > 0:\n",
    "                treeDict = treeAttributes[_treeType]\n",
    "                \n",
    "            else:\n",
    "                raise AttributeError(\n",
    "                \"\"\"\n",
    "                '%s' is not a recognized value (orthography) in the `treeAttributes` dict.\n",
    "                \n",
    "                \"\"\"%(treeType))\n",
    "                \n",
    "    else:\n",
    "        raise AttributeError(\n",
    "        \"\"\"\n",
    "        '%s' is not a recognized value (orthography) in the `treeAttributes` dict.\n",
    "                \n",
    "        \"\"\"%(treeType))\n",
    "\n",
    "    return(treeDict)"
   ]
  },
  {
   "cell_type": "code",
   "execution_count": null,
   "metadata": {},
   "outputs": [],
   "source": []
  },
  {
   "cell_type": "code",
   "execution_count": 11,
   "metadata": {},
   "outputs": [],
   "source": [
    "def transformData(year:int,\n",
    "                  simulationYears:int,\n",
    "                  farmData:pd.DataFrame,\n",
    "                  treeAttributes:dict=None,\n",
    "                  strategyAttributes:dict=None):\n",
    "    \"\"\"\n",
    "    takes in data from repository and returns a new,  transformed dataframe that\n",
    "    tracks events.\n",
    "    \n",
    "    year is an int of the  year where the simulation starts.  if the simulation moves forward\n",
    "    from  the present, the year is the current year. else it is  the  year the simulation\n",
    "    begins.\n",
    "    \n",
    "    simulationYears is the amount of years that the simulation will iterate through. This\n",
    "    is necessary to make sure the transformed data only captures events within this range. \n",
    "    \n",
    "    farm data is data frame with farmer's plots\n",
    "    \n",
    "    tree attributes is dictionary opened from yaml file with attritbutes of trees.\n",
    "    \n",
    "    strategy attributes is dictionary opened from yaml file with attributes of strategies.\n",
    "    \n",
    "    returns dataframe with events\n",
    "    \n",
    "    \n",
    "    Notes\n",
    "    -----\n",
    "    \n",
    "    as of now, the condition is that intercrop year and prune year are not in the same. but I might be able to figure out how to work that out. \n",
    "    \"\"\"\n",
    "    \n",
    "    endYear = year + simulationYears\n",
    "    \n",
    "    # iterate through each row of the original plot dataframe\n",
    "    for i in range(len(farmData)):\n",
    "        plotID = farmData[\"plotID\"][i]\n",
    "        farmerName = farmData[\"farmerName\"][i]\n",
    "        treeType = farmData[\"treeType\"][i]\n",
    "        numCuerdas =  farmData[\"numCuerdas\"][i]\n",
    "        startYear = farmData[\"yearPlanted\"][i]\n",
    "        productionProportion = farmData[\"productionProportion\"][i]\n",
    "        \n",
    "        # assume all are planted for initialization\n",
    "        status = \"plant\" \n",
    "\n",
    "        treeAge = year - startYear\n",
    "\n",
    "        # check to see that this tree exists in config file\n",
    "        # _altOrth = [treeAttributes[item][\"altOrth\"] for item in treeAttributes]\n",
    "        \n",
    "        if treeAttributes:\n",
    "            # isolate the dictionary we are concerned with on this plot\n",
    "            treeDict = isolateAttributes(attributes=treeAttributes, treeType=treeType)\n",
    "\n",
    "            # isolate individual variables from this dict\n",
    "            cuerdaHarvestCap  = treeDict[\"cuerdaHarvestCap\"]\n",
    "            firstHarvest = treeDict[\"firstHarvest\"]\n",
    "            fullHarvest = treeDict[\"fullHarvest\"]\n",
    "            descentHarvest = treeDict[\"descentHarvest\"]\n",
    "            death = treeDict[\"death\"]\n",
    "\n",
    "            # calculate death year\n",
    "            yearsTillDeath = death[\"year\"] - treeAge\n",
    "            deathYear = year + yearsTillDeath\n",
    "\n",
    "            # create the initial row for the transformed dataframe\n",
    "            row = pd.DataFrame([[plotID, farmerName, treeType, numCuerdas, status, \n",
    "                                      startYear, deathYear, productionProportion]], columns=[\"plotID\", \"farmerName\", \"treeType\", \n",
    "                                                \"numCuerdas\", \"status\", \"startYear\",\n",
    "                                               \"deathYear\", \"productionProportion\"])\n",
    "           \n",
    "            # if this is the first row of the whole transformation\n",
    "            if (i == 0):\n",
    "                # initialize the transformation dataframe\n",
    "                transformedData = row\n",
    "\n",
    "            else:\n",
    "                transformedData = pd.concat([transformedData, row], ignore_index=True)\n",
    "                #transformedData  = transformedData.reset_index(drop = True, inplace = True)\n",
    "                \n",
    "                \n",
    "            # now you've transformed all of the original entries to the new format\n",
    "            # now you should be iterating through transformed data to add events\n",
    "\n",
    "            # check to see if replant is in strategy (it always should be)\n",
    "            if strategyAttributes[\"replant\"][\"isReplant\"] ==  True:\n",
    "                replantYear = (deathYear + 1)\n",
    "            else:\n",
    "                replantYear = None\n",
    "\n",
    "            # check to see if prune  is in strategy config\n",
    "            if strategyAttributes[\"prune\"][\"isPrune\"] ==  True:\n",
    "                pruneAge = strategyAttributes[\"prune\"][\"age\"]\n",
    "                lifeExtend = strategyAttributes[\"prune\"][\"lifeExtend\"]\n",
    "            else:\n",
    "                pruneAge = None\n",
    "\n",
    "            # check to see if  intercrop is in strategy config\n",
    "            if strategyAttributes[\"intercrop\"] == True:\n",
    "                intercropAge = strategyAttributes[\"prune\"][\"age\"]\n",
    "            else:\n",
    "                intercropAge = None\n",
    "\n",
    "            # for this specific plot (see plotID),\n",
    "            # create a row to check against to see if the program needs to continue creating events\n",
    "            checkRow = row\n",
    "\n",
    "            # create a  new var for the year of transformation for this plot\n",
    "            simYear = year\n",
    "            # create a new var for the tree's age for this plot\n",
    "            simTreeAge = treeAge\n",
    "\n",
    "            # iterate through all years of the simulation to check event sequences\n",
    "            while (simYear < endYear):\n",
    "               #  isolate dict\n",
    "                deathYear = checkRow[\"deathYear\"][0]\n",
    "\n",
    "\n",
    "                if (replantYear):\n",
    "                    # death takes precedence over pruning \n",
    "                    if (simYear == deathYear):\n",
    "                        # update death year\n",
    "                        simTreeAge = -1\n",
    "                        deathYear = (simYear +  1) + death[\"year\"]\n",
    "                        status = \"replant\"\n",
    "                        nextRow = pd.DataFrame([[plotID, farmerName, treeType, numCuerdas, status, replantYear, deathYear,productionProportion]], \n",
    "                                            columns=[\"plotID\", \"farmerName\",\"treeType\", \"numCuerdas\", \"status\", \"startYear\",\"deathYear\",\"productionProportion\"])\n",
    "                        transformedData  = pd.concat([transformedData, nextRow],  ignore_index=True)\n",
    "                        checkRow = nextRow\n",
    "                        simYear += 1\n",
    "                        simTreeAge += 1\n",
    "                        \n",
    "                        # no more than one action per year IF action is death\n",
    "                        continue\n",
    "\n",
    "\n",
    "                    elif (pruneAge):\n",
    "                        if (simTreeAge == pruneAge):\n",
    "                            # add years proportional to tree's lifespan:\n",
    "                            addedYears = round((death[\"year\"] * lifeExtend))\n",
    "                            adjustedDeathYear = (checkRow[\"deathYear\"][0]) + addedYears\n",
    "                            pruneYear = simYear\n",
    "                            status = \"prune\"\n",
    "                            nextRow = pd.DataFrame([[plotID, farmerName,treeType, numCuerdas, status, pruneYear, adjustedDeathYear, productionProportion]], \n",
    "                                                   columns=[\"plotID\", \"farmerName\",\"treeType\", \"numCuerdas\", \"status\", \"startYear\",\"deathYear\",\"productionProportion\"])\n",
    "                            transformedData  = pd.concat([transformedData, nextRow],  ignore_index=True)\n",
    "                            checkRow  = nextRow\n",
    "                            simYear += 1\n",
    "                            simTreeAge += 1\n",
    "                            continue\n",
    "\n",
    "                        else:\n",
    "                            simYear += 1\n",
    "                            simTreeAge += 1\n",
    "                            continue\n",
    "                            \n",
    "                    else:\n",
    "                        simYear += 1\n",
    "                        simTreeAge += 1\n",
    "                        continue\n",
    "\n",
    "                else:\n",
    "                    simYear += 1\n",
    "                    simTreeAge += 1\n",
    "                    continue\n",
    "\n",
    "\n",
    "\n",
    "        else:\n",
    "            print(\"No tree attributes!!!\")\n",
    "            print(treeType)\n",
    "            break\n",
    "            \n",
    "        \n",
    "    return(transformedData)"
   ]
  },
  {
   "cell_type": "markdown",
   "metadata": {},
   "source": [
    "Right now productionProportion column is not functioning in relationship to events"
   ]
  },
  {
   "cell_type": "code",
   "execution_count": 12,
   "metadata": {},
   "outputs": [
    {
     "data": {
      "text/html": [
       "<div>\n",
       "<style scoped>\n",
       "    .dataframe tbody tr th:only-of-type {\n",
       "        vertical-align: middle;\n",
       "    }\n",
       "\n",
       "    .dataframe tbody tr th {\n",
       "        vertical-align: top;\n",
       "    }\n",
       "\n",
       "    .dataframe thead th {\n",
       "        text-align: right;\n",
       "    }\n",
       "</style>\n",
       "<table border=\"1\" class=\"dataframe\">\n",
       "  <thead>\n",
       "    <tr style=\"text-align: right;\">\n",
       "      <th></th>\n",
       "      <th>plotID</th>\n",
       "      <th>farmerName</th>\n",
       "      <th>treeType</th>\n",
       "      <th>numCuerdas</th>\n",
       "      <th>status</th>\n",
       "      <th>startYear</th>\n",
       "      <th>deathYear</th>\n",
       "      <th>productionProportion</th>\n",
       "    </tr>\n",
       "  </thead>\n",
       "  <tbody>\n",
       "    <tr>\n",
       "      <th>30</th>\n",
       "      <td>8</td>\n",
       "      <td>Timoteo Quiñónez Miramontes</td>\n",
       "      <td>catuai</td>\n",
       "      <td>6</td>\n",
       "      <td>prune</td>\n",
       "      <td>2024</td>\n",
       "      <td>2036</td>\n",
       "      <td>0.716944</td>\n",
       "    </tr>\n",
       "    <tr>\n",
       "      <th>31</th>\n",
       "      <td>8</td>\n",
       "      <td>Timoteo Quiñónez Miramontes</td>\n",
       "      <td>catuai</td>\n",
       "      <td>6</td>\n",
       "      <td>replant</td>\n",
       "      <td>2034</td>\n",
       "      <td>2054</td>\n",
       "      <td>0.716944</td>\n",
       "    </tr>\n",
       "    <tr>\n",
       "      <th>32</th>\n",
       "      <td>8</td>\n",
       "      <td>Timoteo Quiñónez Miramontes</td>\n",
       "      <td>catuai</td>\n",
       "      <td>6</td>\n",
       "      <td>prune</td>\n",
       "      <td>2045</td>\n",
       "      <td>2057</td>\n",
       "      <td>0.716944</td>\n",
       "    </tr>\n",
       "    <tr>\n",
       "      <th>33</th>\n",
       "      <td>9</td>\n",
       "      <td>Pascual Rafaél Villareal Botello</td>\n",
       "      <td>borbon</td>\n",
       "      <td>9</td>\n",
       "      <td>plant</td>\n",
       "      <td>1992</td>\n",
       "      <td>2022</td>\n",
       "      <td>0.849839</td>\n",
       "    </tr>\n",
       "    <tr>\n",
       "      <th>34</th>\n",
       "      <td>9</td>\n",
       "      <td>Pascual Rafaél Villareal Botello</td>\n",
       "      <td>borbon</td>\n",
       "      <td>9</td>\n",
       "      <td>replant</td>\n",
       "      <td>2023</td>\n",
       "      <td>2053</td>\n",
       "      <td>0.849839</td>\n",
       "    </tr>\n",
       "    <tr>\n",
       "      <th>35</th>\n",
       "      <td>9</td>\n",
       "      <td>Pascual Rafaél Villareal Botello</td>\n",
       "      <td>borbon</td>\n",
       "      <td>9</td>\n",
       "      <td>prune</td>\n",
       "      <td>2031</td>\n",
       "      <td>2057</td>\n",
       "      <td>0.849839</td>\n",
       "    </tr>\n",
       "    <tr>\n",
       "      <th>36</th>\n",
       "      <td>10</td>\n",
       "      <td>Jerónimo Aponte</td>\n",
       "      <td>catuai</td>\n",
       "      <td>7</td>\n",
       "      <td>plant</td>\n",
       "      <td>2019</td>\n",
       "      <td>2036</td>\n",
       "      <td>0.829217</td>\n",
       "    </tr>\n",
       "    <tr>\n",
       "      <th>37</th>\n",
       "      <td>10</td>\n",
       "      <td>Jerónimo Aponte</td>\n",
       "      <td>catuai</td>\n",
       "      <td>7</td>\n",
       "      <td>prune</td>\n",
       "      <td>2027</td>\n",
       "      <td>2039</td>\n",
       "      <td>0.829217</td>\n",
       "    </tr>\n",
       "    <tr>\n",
       "      <th>38</th>\n",
       "      <td>10</td>\n",
       "      <td>Jerónimo Aponte</td>\n",
       "      <td>catuai</td>\n",
       "      <td>7</td>\n",
       "      <td>replant</td>\n",
       "      <td>2037</td>\n",
       "      <td>2057</td>\n",
       "      <td>0.829217</td>\n",
       "    </tr>\n",
       "    <tr>\n",
       "      <th>39</th>\n",
       "      <td>10</td>\n",
       "      <td>Jerónimo Aponte</td>\n",
       "      <td>catuai</td>\n",
       "      <td>7</td>\n",
       "      <td>prune</td>\n",
       "      <td>2048</td>\n",
       "      <td>2060</td>\n",
       "      <td>0.829217</td>\n",
       "    </tr>\n",
       "  </tbody>\n",
       "</table>\n",
       "</div>"
      ],
      "text/plain": [
       "    plotID                        farmerName treeType  numCuerdas   status  \\\n",
       "30       8       Timoteo Quiñónez Miramontes   catuai           6    prune   \n",
       "31       8       Timoteo Quiñónez Miramontes   catuai           6  replant   \n",
       "32       8       Timoteo Quiñónez Miramontes   catuai           6    prune   \n",
       "33       9  Pascual Rafaél Villareal Botello   borbon           9    plant   \n",
       "34       9  Pascual Rafaél Villareal Botello   borbon           9  replant   \n",
       "35       9  Pascual Rafaél Villareal Botello   borbon           9    prune   \n",
       "36      10                   Jerónimo Aponte   catuai           7    plant   \n",
       "37      10                   Jerónimo Aponte   catuai           7    prune   \n",
       "38      10                   Jerónimo Aponte   catuai           7  replant   \n",
       "39      10                   Jerónimo Aponte   catuai           7    prune   \n",
       "\n",
       "    startYear  deathYear  productionProportion  \n",
       "30       2024       2036              0.716944  \n",
       "31       2034       2054              0.716944  \n",
       "32       2045       2057              0.716944  \n",
       "33       1992       2022              0.849839  \n",
       "34       2023       2053              0.849839  \n",
       "35       2031       2057              0.849839  \n",
       "36       2019       2036              0.829217  \n",
       "37       2027       2039              0.829217  \n",
       "38       2037       2057              0.829217  \n",
       "39       2048       2060              0.829217  "
      ]
     },
     "execution_count": 12,
     "metadata": {},
     "output_type": "execute_result"
    }
   ],
   "source": [
    "simData = transformData(year=startYear, simulationYears=simYears, farmData=upData,\n",
    "                        treeAttributes=treeAttributes, strategyAttributes=strategyAttributes)\n",
    "simData[30:40]"
   ]
  },
  {
   "cell_type": "code",
   "execution_count": 13,
   "metadata": {},
   "outputs": [],
   "source": [
    "simData.reset_index(inplace = True)\n",
    "simData = simData.rename(columns = {'index':'event'})"
   ]
  },
  {
   "cell_type": "code",
   "execution_count": 14,
   "metadata": {},
   "outputs": [
    {
     "data": {
      "text/html": [
       "<div>\n",
       "<style scoped>\n",
       "    .dataframe tbody tr th:only-of-type {\n",
       "        vertical-align: middle;\n",
       "    }\n",
       "\n",
       "    .dataframe tbody tr th {\n",
       "        vertical-align: top;\n",
       "    }\n",
       "\n",
       "    .dataframe thead th {\n",
       "        text-align: right;\n",
       "    }\n",
       "</style>\n",
       "<table border=\"1\" class=\"dataframe\">\n",
       "  <thead>\n",
       "    <tr style=\"text-align: right;\">\n",
       "      <th></th>\n",
       "      <th>event</th>\n",
       "      <th>plotID</th>\n",
       "      <th>farmerName</th>\n",
       "      <th>treeType</th>\n",
       "      <th>numCuerdas</th>\n",
       "      <th>status</th>\n",
       "      <th>startYear</th>\n",
       "      <th>deathYear</th>\n",
       "      <th>productionProportion</th>\n",
       "    </tr>\n",
       "  </thead>\n",
       "  <tbody>\n",
       "    <tr>\n",
       "      <th>0</th>\n",
       "      <td>0</td>\n",
       "      <td>0</td>\n",
       "      <td>Emilio Manzanares Garibay</td>\n",
       "      <td>catuai</td>\n",
       "      <td>7</td>\n",
       "      <td>plant</td>\n",
       "      <td>2018</td>\n",
       "      <td>2035</td>\n",
       "      <td>0.970648</td>\n",
       "    </tr>\n",
       "    <tr>\n",
       "      <th>1</th>\n",
       "      <td>1</td>\n",
       "      <td>0</td>\n",
       "      <td>Emilio Manzanares Garibay</td>\n",
       "      <td>catuai</td>\n",
       "      <td>7</td>\n",
       "      <td>prune</td>\n",
       "      <td>2026</td>\n",
       "      <td>2038</td>\n",
       "      <td>0.970648</td>\n",
       "    </tr>\n",
       "    <tr>\n",
       "      <th>2</th>\n",
       "      <td>2</td>\n",
       "      <td>0</td>\n",
       "      <td>Emilio Manzanares Garibay</td>\n",
       "      <td>catuai</td>\n",
       "      <td>7</td>\n",
       "      <td>replant</td>\n",
       "      <td>2036</td>\n",
       "      <td>2056</td>\n",
       "      <td>0.970648</td>\n",
       "    </tr>\n",
       "    <tr>\n",
       "      <th>3</th>\n",
       "      <td>3</td>\n",
       "      <td>0</td>\n",
       "      <td>Emilio Manzanares Garibay</td>\n",
       "      <td>catuai</td>\n",
       "      <td>7</td>\n",
       "      <td>prune</td>\n",
       "      <td>2047</td>\n",
       "      <td>2059</td>\n",
       "      <td>0.970648</td>\n",
       "    </tr>\n",
       "    <tr>\n",
       "      <th>4</th>\n",
       "      <td>4</td>\n",
       "      <td>1</td>\n",
       "      <td>Hernán Jaramillo Camacho</td>\n",
       "      <td>borbon</td>\n",
       "      <td>5</td>\n",
       "      <td>plant</td>\n",
       "      <td>2012</td>\n",
       "      <td>2042</td>\n",
       "      <td>0.720967</td>\n",
       "    </tr>\n",
       "    <tr>\n",
       "      <th>...</th>\n",
       "      <td>...</td>\n",
       "      <td>...</td>\n",
       "      <td>...</td>\n",
       "      <td>...</td>\n",
       "      <td>...</td>\n",
       "      <td>...</td>\n",
       "      <td>...</td>\n",
       "      <td>...</td>\n",
       "      <td>...</td>\n",
       "    </tr>\n",
       "    <tr>\n",
       "      <th>336</th>\n",
       "      <td>336</td>\n",
       "      <td>98</td>\n",
       "      <td>Amador Amador Feliciano Ortiz</td>\n",
       "      <td>borbon</td>\n",
       "      <td>4</td>\n",
       "      <td>prune</td>\n",
       "      <td>2042</td>\n",
       "      <td>2068</td>\n",
       "      <td>0.881308</td>\n",
       "    </tr>\n",
       "    <tr>\n",
       "      <th>337</th>\n",
       "      <td>337</td>\n",
       "      <td>99</td>\n",
       "      <td>Ing. Ivonne Alcaraz</td>\n",
       "      <td>catuai</td>\n",
       "      <td>7</td>\n",
       "      <td>plant</td>\n",
       "      <td>2016</td>\n",
       "      <td>2033</td>\n",
       "      <td>0.777647</td>\n",
       "    </tr>\n",
       "    <tr>\n",
       "      <th>338</th>\n",
       "      <td>338</td>\n",
       "      <td>99</td>\n",
       "      <td>Ing. Ivonne Alcaraz</td>\n",
       "      <td>catuai</td>\n",
       "      <td>7</td>\n",
       "      <td>prune</td>\n",
       "      <td>2024</td>\n",
       "      <td>2036</td>\n",
       "      <td>0.777647</td>\n",
       "    </tr>\n",
       "    <tr>\n",
       "      <th>339</th>\n",
       "      <td>339</td>\n",
       "      <td>99</td>\n",
       "      <td>Ing. Ivonne Alcaraz</td>\n",
       "      <td>catuai</td>\n",
       "      <td>7</td>\n",
       "      <td>replant</td>\n",
       "      <td>2034</td>\n",
       "      <td>2054</td>\n",
       "      <td>0.777647</td>\n",
       "    </tr>\n",
       "    <tr>\n",
       "      <th>340</th>\n",
       "      <td>340</td>\n",
       "      <td>99</td>\n",
       "      <td>Ing. Ivonne Alcaraz</td>\n",
       "      <td>catuai</td>\n",
       "      <td>7</td>\n",
       "      <td>prune</td>\n",
       "      <td>2045</td>\n",
       "      <td>2057</td>\n",
       "      <td>0.777647</td>\n",
       "    </tr>\n",
       "  </tbody>\n",
       "</table>\n",
       "<p>341 rows × 9 columns</p>\n",
       "</div>"
      ],
      "text/plain": [
       "     event  plotID                     farmerName treeType  numCuerdas  \\\n",
       "0        0       0      Emilio Manzanares Garibay   catuai           7   \n",
       "1        1       0      Emilio Manzanares Garibay   catuai           7   \n",
       "2        2       0      Emilio Manzanares Garibay   catuai           7   \n",
       "3        3       0      Emilio Manzanares Garibay   catuai           7   \n",
       "4        4       1       Hernán Jaramillo Camacho   borbon           5   \n",
       "..     ...     ...                            ...      ...         ...   \n",
       "336    336      98  Amador Amador Feliciano Ortiz   borbon           4   \n",
       "337    337      99            Ing. Ivonne Alcaraz   catuai           7   \n",
       "338    338      99            Ing. Ivonne Alcaraz   catuai           7   \n",
       "339    339      99            Ing. Ivonne Alcaraz   catuai           7   \n",
       "340    340      99            Ing. Ivonne Alcaraz   catuai           7   \n",
       "\n",
       "      status  startYear  deathYear  productionProportion  \n",
       "0      plant       2018       2035              0.970648  \n",
       "1      prune       2026       2038              0.970648  \n",
       "2    replant       2036       2056              0.970648  \n",
       "3      prune       2047       2059              0.970648  \n",
       "4      plant       2012       2042              0.720967  \n",
       "..       ...        ...        ...                   ...  \n",
       "336    prune       2042       2068              0.881308  \n",
       "337    plant       2016       2033              0.777647  \n",
       "338    prune       2024       2036              0.777647  \n",
       "339  replant       2034       2054              0.777647  \n",
       "340    prune       2045       2057              0.777647  \n",
       "\n",
       "[341 rows x 9 columns]"
      ]
     },
     "execution_count": 14,
     "metadata": {},
     "output_type": "execute_result"
    }
   ],
   "source": [
    "simData"
   ]
  },
  {
   "cell_type": "code",
   "execution_count": 15,
   "metadata": {},
   "outputs": [],
   "source": [
    "import dataclasses"
   ]
  },
  {
   "cell_type": "code",
   "execution_count": 16,
   "metadata": {},
   "outputs": [
    {
     "data": {
      "text/plain": [
       "{'borbon': {'treeType': 'borbon',\n",
       "  'altOrth': 'borbón',\n",
       "  'cuerdaHarvestCap': 200,\n",
       "  'firstHarvest': {'year': 4, 'proportion': 0.2},\n",
       "  'fullHarvest': {'year': 5, 'proportion': 1.0},\n",
       "  'descentHarvest': {'year': 28, 'proportionDescent': 0.2},\n",
       "  'death': {'year': 30}},\n",
       " 'catuai': {'treeType': 'catuai',\n",
       "  'altOrth': 'catuaí',\n",
       "  'cuerdaHarvestCap': 125,\n",
       "  'firstHarvest': {'year': 3, 'proportion': 0.2},\n",
       "  'fullHarvest': {'year': 4, 'proportion': 1.0},\n",
       "  'descentHarvest': {'year': 15, 'proportionDescent': 0.2},\n",
       "  'death': {'year': 17}},\n",
       " 'e14': {'treeType': 'e14',\n",
       "  'altOrth': 'E14',\n",
       "  'cuerdaHarvestCap': 125,\n",
       "  'firstHarvest': {'year': 4, 'proportion': 0.2},\n",
       "  'fullHarvest': {'year': 5, 'proportion': 1.0},\n",
       "  'descentHarvest': {'year': 13, 'proportionDescent': 0.2},\n",
       "  'death': {'year': 15}},\n",
       " 'catura': {'treeType': 'catura',\n",
       "  'altOrth': 'caturra',\n",
       "  'cuerdaHarvestCap': 125,\n",
       "  'firstHarvest': {'year': 3, 'proportion': 0.2},\n",
       "  'fullHarvest': {'year': 4, 'proportion': 1.0},\n",
       "  'descentHarvest': {'year': 14, 'proportionDescent': 0.2},\n",
       "  'death': {'year': 16}}}"
      ]
     },
     "execution_count": 16,
     "metadata": {},
     "output_type": "execute_result"
    }
   ],
   "source": [
    "treeAttributes"
   ]
  },
  {
   "cell_type": "code",
   "execution_count": 17,
   "metadata": {},
   "outputs": [
    {
     "data": {
      "text/plain": [
       "Index(['plotID', 'farmerName', 'treeType', 'numCuerdas', 'yearPlanted',\n",
       "       'ageOfTrees', 'productionProportion'],\n",
       "      dtype='object')"
      ]
     },
     "execution_count": 17,
     "metadata": {},
     "output_type": "execute_result"
    }
   ],
   "source": [
    "upData.columns"
   ]
  },
  {
   "cell_type": "code",
   "execution_count": 18,
   "metadata": {},
   "outputs": [
    {
     "data": {
      "text/plain": [
       "datetime.datetime(2021, 1, 1, 0, 10)"
      ]
     },
     "execution_count": 18,
     "metadata": {},
     "output_type": "execute_result"
    }
   ],
   "source": [
    "from datetime import datetime\n",
    "\n",
    "datetime.fromisoformat('2021-01-01:00:10')"
   ]
  },
  {
   "cell_type": "code",
   "execution_count": 19,
   "metadata": {},
   "outputs": [
    {
     "data": {
      "text/plain": [
       "24"
      ]
     },
     "execution_count": 19,
     "metadata": {},
     "output_type": "execute_result"
    }
   ],
   "source": [
    "import math\n",
    "math.floor(24.5)"
   ]
  },
  {
   "cell_type": "code",
   "execution_count": 20,
   "metadata": {},
   "outputs": [],
   "source": [
    "from dataclasses import dataclass, field\n",
    "from numbers import Number\n",
    "import datetime\n",
    "import random\n",
    "import math\n",
    "\n",
    "@dataclass\n",
    "class Plot:\n",
    "    num: int = 1  # crops / unit of area\n",
    "    area: float = 1.0\n",
    "    plot_id: int = 0\n",
    "    species: str = field(default_factory=str)\n",
    "    unit: str = 'cuerdas'\n",
    "    origin: datetime = datetime.datetime(2020, 1, 1, 0, 0)\n",
    "\n",
    "    def show(self) -> str:\n",
    "        return self.__repr__()\n",
    "\n",
    "    def age(self, current_time=datetime.datetime.today()) -> datetime.timedelta:\n",
    "        return current_time - self.origin\n",
    "\n",
    "    @property\n",
    "    def years(self) -> int:\n",
    "        return round(self.age.days/365.25)\n",
    "\n",
    "    @property\n",
    "    def days(self) -> int:\n",
    "        return self.age.days\n",
    "\n",
    "    @property\n",
    "    def mins(self) -> int:\n",
    "        return round(self.age.seconds/60)\n",
    "\n",
    "    @staticmethod\n",
    "    def to_datetime(time) -> datetime.datetime:\n",
    "        if isinstance(time, Number):  # assumes `time` = year\n",
    "            return datetime.datetime(round(time), 1, 1, 0, 0)\n",
    "        elif isinstance(time, datetime.datetime):\n",
    "            return time\n",
    "        else:\n",
    "            raise ValueError(f\"Please specify a valid time. Given {type(time)}\")\n",
    "\n",
    "    @classmethod\n",
    "    def from_series(cls, series):\n",
    "        return cls.from_density(\n",
    "            density=1.0,\n",
    "            plot_id=series.plotID,\n",
    "            species=series.treeType,\n",
    "            area=series.numCuerdas,\n",
    "            unit='cuerdas',\n",
    "            origin=cls.to_datetime(series.yearPlanted),\n",
    "        )\n",
    "\n",
    "    @classmethod\n",
    "    def from_dict(cls, dict):\n",
    "        return cls.from_series(pd.Series(dict))\n",
    "\n",
    "    @classmethod\n",
    "    def from_density(cls, density: float = 1.0, **kwargs):\n",
    "        plot = cls(**kwargs)\n",
    "        plot.num = math.floor(plot.area * density)\n",
    "        return plot"
   ]
  },
  {
   "cell_type": "code",
   "execution_count": 21,
   "metadata": {},
   "outputs": [
    {
     "data": {
      "text/plain": [
       "Plot(num=0.7, area=1.0, plot_id=0, species='', unit='cuerdas', origin=datetime.datetime(2020, 1, 1, 0, 0))"
      ]
     },
     "execution_count": 21,
     "metadata": {},
     "output_type": "execute_result"
    }
   ],
   "source": [
    "Plot(0.7)"
   ]
  },
  {
   "cell_type": "code",
   "execution_count": 22,
   "metadata": {},
   "outputs": [
    {
     "data": {
      "text/plain": [
       "Plot(num=1, area=1.0, plot_id=0, species='', unit='cuerdas', origin=datetime.datetime(2020, 1, 1, 0, 0))"
      ]
     },
     "execution_count": 22,
     "metadata": {},
     "output_type": "execute_result"
    }
   ],
   "source": [
    "p = Plot()\n",
    "p"
   ]
  },
  {
   "cell_type": "code",
   "execution_count": 23,
   "metadata": {},
   "outputs": [
    {
     "data": {
      "text/plain": [
       "Plot(num=4, area=2, plot_id=0, species='ket', unit='cuerdas', origin=datetime.datetime(2020, 1, 1, 0, 0))"
      ]
     },
     "execution_count": 23,
     "metadata": {},
     "output_type": "execute_result"
    }
   ],
   "source": [
    "Plot.from_density(2, area=2, species='ket')"
   ]
  },
  {
   "cell_type": "code",
   "execution_count": 24,
   "metadata": {},
   "outputs": [
    {
     "data": {
      "text/plain": [
       "Plot(num=1, area=1.0, plot_id=0, species='', unit='cuerdas', origin=datetime.datetime(2020, 1, 1, 0, 0))"
      ]
     },
     "execution_count": 24,
     "metadata": {},
     "output_type": "execute_result"
    }
   ],
   "source": [
    "p"
   ]
  },
  {
   "cell_type": "code",
   "execution_count": 25,
   "metadata": {},
   "outputs": [
    {
     "data": {
      "text/plain": [
       "{'plotID': 0,\n",
       " 'farmerName': 'Emilio Manzanares Garibay',\n",
       " 'treeType': 'catuai',\n",
       " 'numCuerdas': 7,\n",
       " 'yearPlanted': 2018,\n",
       " 'ageOfTrees': 2,\n",
       " 'productionProportion': 0.9706483571847314}"
      ]
     },
     "execution_count": 25,
     "metadata": {},
     "output_type": "execute_result"
    }
   ],
   "source": [
    "series = upData.iloc[0]\n",
    "series.to_dict()"
   ]
  },
  {
   "cell_type": "code",
   "execution_count": 26,
   "metadata": {},
   "outputs": [
    {
     "data": {
      "text/plain": [
       "Plot(num=7, area=7, plot_id=0, species='catuai', unit='cuerdas', origin=datetime.datetime(2018, 1, 1, 0, 0))"
      ]
     },
     "execution_count": 26,
     "metadata": {},
     "output_type": "execute_result"
    }
   ],
   "source": [
    "Plot.from_dict(series.to_dict())"
   ]
  },
  {
   "cell_type": "code",
   "execution_count": 27,
   "metadata": {},
   "outputs": [
    {
     "data": {
      "text/plain": [
       "Plot(num=0, area='', plot_id=0.1, species='', unit='cuerdas', origin=datetime.datetime(2020, 1, 1, 0, 0))"
      ]
     },
     "execution_count": 27,
     "metadata": {},
     "output_type": "execute_result"
    }
   ],
   "source": [
    "p = Plot(0, '', 0.1)\n",
    "p"
   ]
  },
  {
   "cell_type": "code",
   "execution_count": 28,
   "metadata": {},
   "outputs": [],
   "source": [
    "# Plot.from_attrs('borbon', treeAttributes)"
   ]
  },
  {
   "cell_type": "code",
   "execution_count": 29,
   "metadata": {},
   "outputs": [],
   "source": [
    "p = Plot.from_series(upData.iloc[0])"
   ]
  },
  {
   "cell_type": "code",
   "execution_count": 30,
   "metadata": {},
   "outputs": [],
   "source": [
    "p1 = Plot.from_series(upData.iloc[1])"
   ]
  },
  {
   "cell_type": "code",
   "execution_count": 31,
   "metadata": {},
   "outputs": [
    {
     "data": {
      "text/plain": [
       "datetime.datetime(2000, 1, 1, 0, 0)"
      ]
     },
     "execution_count": 31,
     "metadata": {},
     "output_type": "execute_result"
    }
   ],
   "source": [
    "p.to_datetime(datetime.datetime(2000, 1, 1, 0, 0))"
   ]
  },
  {
   "cell_type": "code",
   "execution_count": 32,
   "metadata": {},
   "outputs": [
    {
     "data": {
      "text/plain": [
       "Plot(num=5, area=5, plot_id=1, species='borbon', unit='cuerdas', origin=datetime.datetime(2012, 1, 1, 0, 0))"
      ]
     },
     "execution_count": 32,
     "metadata": {},
     "output_type": "execute_result"
    }
   ],
   "source": [
    "p1"
   ]
  },
  {
   "cell_type": "code",
   "execution_count": 33,
   "metadata": {},
   "outputs": [
    {
     "data": {
      "text/plain": [
       "datetime.timedelta(days=116147)"
      ]
     },
     "execution_count": 33,
     "metadata": {},
     "output_type": "execute_result"
    }
   ],
   "source": [
    "p1.age(datetime.datetime(2330, 1, 1, 0, 0))"
   ]
  },
  {
   "cell_type": "code",
   "execution_count": 34,
   "metadata": {},
   "outputs": [],
   "source": [
    "from dataclasses import field\n",
    "from typing import List, Dict\n",
    "\n",
    "@dataclass\n",
    "class Farm:\n",
    "    plot_list: List[Plot] = field(default_factory=List)\n",
    "\n",
    "    @classmethod\n",
    "    def from_csv(cls, csv_file):\n",
    "        df = pd.read_csv(csv_file)\n",
    "        list_of_plots = []\n",
    "        for idx, series in df.iterrows():\n",
    "            list_of_plots.append(Plot.from_series(series))\n",
    "        return cls(list_of_plots)\n",
    "\n",
    "    @property\n",
    "    def plots(self) -> List[Plot]:\n",
    "        return self.plot_list\n",
    "    \n",
    "    @property\n",
    "    def ids(self) -> List[str]:\n",
    "        return [p.plot_id for p in self.plot_list]\n",
    "\n",
    "    def contains(self, species: str ='') -> bool:\n",
    "        return species in set(p.species for p in self.plot_list)\n",
    "    \n",
    "    "
   ]
  },
  {
   "cell_type": "code",
   "execution_count": 35,
   "metadata": {},
   "outputs": [],
   "source": [
    "farm = Farm.from_csv('data/fakeData.csv')"
   ]
  },
  {
   "cell_type": "code",
   "execution_count": 36,
   "metadata": {},
   "outputs": [
    {
     "data": {
      "text/plain": [
       "[Plot(num=7, area=7, plot_id=0, species='catuai', unit='cuerdas', origin=datetime.datetime(2018, 1, 1, 0, 0)),\n",
       " Plot(num=5, area=5, plot_id=1, species='borbon', unit='cuerdas', origin=datetime.datetime(2012, 1, 1, 0, 0)),\n",
       " Plot(num=10, area=10, plot_id=2, species='catuai', unit='cuerdas', origin=datetime.datetime(2015, 1, 1, 0, 0)),\n",
       " Plot(num=9, area=9, plot_id=3, species='catuai', unit='cuerdas', origin=datetime.datetime(2019, 1, 1, 0, 0)),\n",
       " Plot(num=6, area=6, plot_id=4, species='borbon', unit='cuerdas', origin=datetime.datetime(2007, 1, 1, 0, 0)),\n",
       " Plot(num=8, area=8, plot_id=5, species='catura', unit='cuerdas', origin=datetime.datetime(2020, 1, 1, 0, 0)),\n",
       " Plot(num=4, area=4, plot_id=6, species='borbon', unit='cuerdas', origin=datetime.datetime(1997, 1, 1, 0, 0)),\n",
       " Plot(num=10, area=10, plot_id=7, species='catura', unit='cuerdas', origin=datetime.datetime(2006, 1, 1, 0, 0)),\n",
       " Plot(num=6, area=6, plot_id=8, species='catuai', unit='cuerdas', origin=datetime.datetime(2016, 1, 1, 0, 0)),\n",
       " Plot(num=9, area=9, plot_id=9, species='borbon', unit='cuerdas', origin=datetime.datetime(1992, 1, 1, 0, 0))]"
      ]
     },
     "execution_count": 36,
     "metadata": {},
     "output_type": "execute_result"
    }
   ],
   "source": [
    "farm.plot_list[0:10]"
   ]
  },
  {
   "cell_type": "code",
   "execution_count": 37,
   "metadata": {},
   "outputs": [
    {
     "data": {
      "text/plain": [
       "7"
      ]
     },
     "execution_count": 37,
     "metadata": {},
     "output_type": "execute_result"
    }
   ],
   "source": [
    "p.area"
   ]
  },
  {
   "cell_type": "code",
   "execution_count": 38,
   "metadata": {},
   "outputs": [],
   "source": [
    "config = {\n",
    "    ''\n",
    "}"
   ]
  },
  {
   "cell_type": "code",
   "execution_count": 39,
   "metadata": {},
   "outputs": [],
   "source": [
    "#TODO: can we instantiate this fromtreeAttribs / write a conversion method?\n",
    "# TODO: pint for unit registries\n",
    "import attr\n",
    "# @attr.s(hash=True)\n",
    "\n",
    "#     @property\n",
    "#     def get_name(self):\n",
    "#         if self.name:\n",
    "#             return self.name\n",
    "#         return self.species"
   ]
  },
  {
   "cell_type": "code",
   "execution_count": 40,
   "metadata": {},
   "outputs": [
    {
     "data": {
      "text/plain": [
       "[<matplotlib.lines.Line2D at 0x7fa580b5b700>]"
      ]
     },
     "execution_count": 40,
     "metadata": {},
     "output_type": "execute_result"
    },
    {
     "data": {
      "image/png": "[encoded data removed]",
      "text/plain": [
       "<Figure size 432x288 with 1 Axes>"
      ]
     },
     "metadata": {
      "needs_background": "light"
     },
     "output_type": "display_data"
    }
   ],
   "source": [
    "# TODO: David asked about density curves.\n",
    "# We know that output is a function of density.\n",
    "# So we need to be able to instantiate a config based on any point along this line.\n",
    "\n",
    "# dummy curve\n",
    "import numpy as np\n",
    "x = np.linspace(0, 10, 50)\n",
    "y = -x ** 2 + 5 * x + 50\n",
    "plt.plot(x, y)"
   ]
  },
  {
   "cell_type": "code",
   "execution_count": 41,
   "metadata": {},
   "outputs": [],
   "source": [
    "# TASK: Given (x, y) (or some kind of relation), return a yield"
   ]
  },
  {
   "cell_type": "markdown",
   "metadata": {},
   "source": [
    "## predict yield"
   ]
  },
  {
   "cell_type": "code",
   "execution_count": 49,
   "metadata": {},
   "outputs": [],
   "source": []
  },
  {
   "cell_type": "code",
   "execution_count": 50,
   "metadata": {},
   "outputs": [
    {
     "data": {
      "text/plain": [
       "Plot(num=7, area=7, plot_id=0, species='catuai', unit='cuerdas', origin=datetime.datetime(2018, 1, 1, 0, 0))"
      ]
     },
     "execution_count": 50,
     "metadata": {},
     "output_type": "execute_result"
    }
   ],
   "source": [
    "p"
   ]
  },
  {
   "cell_type": "code",
   "execution_count": 51,
   "metadata": {},
   "outputs": [],
   "source": [
    "import pytest"
   ]
  },
  {
   "cell_type": "code",
   "execution_count": 52,
   "metadata": {},
   "outputs": [],
   "source": []
  },
  {
   "cell_type": "code",
   "execution_count": 53,
   "metadata": {},
   "outputs": [],
   "source": [
    "# like we loaded from a database or something...\n",
    "configs = (Config('e14', 'e14-sparse'), Config('borbon', 'borbon-intercroppped'), Config('catuai', 'catuai'), Config('catura', 'catura'))"
   ]
  },
  {
   "cell_type": "code",
   "execution_count": 54,
   "metadata": {},
   "outputs": [],
   "source": []
  },
  {
   "cell_type": "code",
   "execution_count": 55,
   "metadata": {},
   "outputs": [],
   "source": []
  },
  {
   "cell_type": "code",
   "execution_count": 56,
   "metadata": {},
   "outputs": [
    {
     "name": "stderr",
     "output_type": "stream",
     "text": [
      "<ipython-input-55-5dc85b3113cf>:13: UserWarning: Could not find canonical match for species=`borbon`, searching for match against species instead.\n",
      "  warnings.warn(f'Could not find canonical match for species=`{name}`, searching for match against species instead.')\n"
     ]
    },
    {
     "data": {
      "text/plain": [
       "Config(species='borbon', name='borbon-intercroppped', output_per_crop=1.0, unit='cuerdas')"
      ]
     },
     "execution_count": 56,
     "metadata": {},
     "output_type": "execute_result"
    }
   ],
   "source": [
    "find_config('borbon', configs)"
   ]
  },
  {
   "cell_type": "code",
   "execution_count": 57,
   "metadata": {},
   "outputs": [],
   "source": []
  },
  {
   "cell_type": "code",
   "execution_count": 58,
   "metadata": {},
   "outputs": [
    {
     "data": {
      "text/plain": [
       "[Plot(num=7, area=7, plot_id=0, species='catuai', unit='cuerdas', origin=datetime.datetime(2018, 1, 1, 0, 0)),\n",
       " Plot(num=5, area=5, plot_id=1, species='borbon', unit='cuerdas', origin=datetime.datetime(2012, 1, 1, 0, 0)),\n",
       " Plot(num=10, area=10, plot_id=2, species='catuai', unit='cuerdas', origin=datetime.datetime(2015, 1, 1, 0, 0))]"
      ]
     },
     "execution_count": 58,
     "metadata": {},
     "output_type": "execute_result"
    }
   ],
   "source": [
    "farm.plots[:3]"
   ]
  },
  {
   "cell_type": "code",
   "execution_count": 59,
   "metadata": {},
   "outputs": [
    {
     "data": {
      "text/plain": [
       "(Config(species='e14', name='e14-sparse', output_per_crop=1.0, unit='cuerdas'),\n",
       " Config(species='borbon', name='borbon-intercroppped', output_per_crop=1.0, unit='cuerdas'),\n",
       " Config(species='catuai', name='catuai', output_per_crop=1.0, unit='cuerdas'),\n",
       " Config(species='catura', name='catura', output_per_crop=1.0, unit='cuerdas'))"
      ]
     },
     "execution_count": 59,
     "metadata": {},
     "output_type": "execute_result"
    }
   ],
   "source": [
    "configs"
   ]
  },
  {
   "cell_type": "code",
   "execution_count": 62,
   "metadata": {},
   "outputs": [
    {
     "name": "stderr",
     "output_type": "stream",
     "text": [
      "<ipython-input-55-5dc85b3113cf>:13: UserWarning: Could not find canonical match for species=`fake`, searching for match against species instead.\n",
      "  warnings.warn(f'Could not find canonical match for species=`{name}`, searching for match against species instead.')\n"
     ]
    }
   ],
   "source": []
  },
  {
   "cell_type": "code",
   "execution_count": 63,
   "metadata": {},
   "outputs": [],
   "source": [
    "# TODO: test that a bad config does not stop the simulation (i.e. we catch the ValueError thrown above)"
   ]
  },
  {
   "cell_type": "code",
   "execution_count": 64,
   "metadata": {},
   "outputs": [
    {
     "name": "stderr",
     "output_type": "stream",
     "text": [
      "<ipython-input-55-5dc85b3113cf>:13: UserWarning: Could not find canonical match for species=`e14`, searching for match against species instead.\n",
      "  warnings.warn(f'Could not find canonical match for species=`{name}`, searching for match against species instead.')\n"
     ]
    },
    {
     "data": {
      "text/plain": [
       "Config(species='e14', name='e14-sparse', output_per_crop=1.0, unit='cuerdas')"
      ]
     },
     "execution_count": 64,
     "metadata": {},
     "output_type": "execute_result"
    }
   ],
   "source": [
    "find_config('e14', configs)"
   ]
  },
  {
   "cell_type": "code",
   "execution_count": 65,
   "metadata": {},
   "outputs": [
    {
     "data": {
      "text/plain": [
       "False"
      ]
     },
     "execution_count": 65,
     "metadata": {},
     "output_type": "execute_result"
    }
   ],
   "source": [
    "# test that membership checks work for species\n",
    "farm.contains(species='e14')"
   ]
  },
  {
   "cell_type": "code",
   "execution_count": 66,
   "metadata": {},
   "outputs": [],
   "source": [
    "harvest = predict_yield_for_farm(farm, configs)"
   ]
  },
  {
   "cell_type": "code",
   "execution_count": 67,
   "metadata": {},
   "outputs": [
    {
     "data": {
      "text/plain": [
       "<BarContainer object of 100 artists>"
      ]
     },
     "execution_count": 67,
     "metadata": {},
     "output_type": "execute_result"
    },
    {
     "data": {
      "image/png": "[encoded data removed]",
      "text/plain": [
       "<Figure size 432x288 with 1 Axes>"
      ]
     },
     "metadata": {
      "needs_background": "light"
     },
     "output_type": "display_data"
    }
   ],
   "source": [
    "plt.bar(farm.ids, harvest)"
   ]
  },
  {
   "cell_type": "markdown",
   "metadata": {},
   "source": [
    "---"
   ]
  },
  {
   "cell_type": "code",
   "execution_count": 68,
   "metadata": {},
   "outputs": [],
   "source": [
    "class Plot:\n",
    "\n",
    "    def __init__(self, _simYear, _plotID, _farmerName, _treeType, _cuerdas, _status, _startYear, _deathYear, _treeAttributes = treeAttributes):\n",
    "        self.plotID = _plotID\n",
    "        self.farmerName = _farmerName\n",
    "\n",
    "        self.inheretTreeProperties(_treeType)\n",
    "\n",
    "        self.totalCuerdas = _cuerdas\n",
    "        \n",
    "       \n",
    "        self.startYear = _startYear\n",
    "        self.deathYear = _deathYear\n",
    "        self.setStatus(_status, _simYear) \n",
    "        \n",
    "        if self.status == \"plant\":\n",
    "            self.treeAge = self.simYear - self.startYear\n",
    "            \n",
    "        self.getProduction()\n",
    "        # self.sowDensity = _sowDensity # sow density in trees/hectare\n",
    "        # self.totalTrees = int(round((_cuerdas * _sowDensity), 0)) # round to nearest and convert to int because we can't have poritions of trees\n",
    "\n",
    "    def inheretTreeProperties(self, treeType):\n",
    "        \"\"\" \n",
    "        Based on the argument treeType in the initializer function, assign parameters for the respective\n",
    "        life & production patterns of the trees on the cuerda.\n",
    "        \"\"\"\n",
    "        self.firstHarvest = treeAttributes[treeType]['firstHarvest'] # year of first harvest and proportion of harvest until \n",
    "        self.fullHarvest = treeAttributes[treeType]['fullHarvest'] # year of first harvest and proportion of harvest\n",
    "        self.descentHarvest = treeAttributes[treeType]['descentHarvest'] # year that production descends and annual proportion descent\n",
    "        # self.pruneHarvest = {'yearShift': -5, 'proportionAscent': 0.2} # these are placeholder values to remember to add member val\n",
    "\n",
    "        self.cuerdaHarvestCap = treeAttributes[treeType]['cuerdaHarvestCap']\n",
    "        self.treeType = treeType\n",
    "        self.death = treeAttributes[treeType]['death']\n",
    "        loop = False\n",
    "\n",
    "    def updateEvent(self, _simYear, _status, _startYear, _deathYear):\n",
    "        self.startYear = _startYear\n",
    "        self.deathYear = _deathYear\n",
    "        self.setStatus(_status, _simYear)\n",
    "        \n",
    "        \n",
    "    def setStatus(self, _status, _simYear):\n",
    "        self.status = _status\n",
    "        self.simYear = _simYear\n",
    "            \n",
    "        if (self.status == \"plant\") or (self.status == \"replant\"):\n",
    "            self.treeAge = self.simYear - self.startYear\n",
    "            # if the trees are in their first production year(s)\n",
    "            if (self.treeAge <= self.firstHarvest['year']) and (self.treeAge < self.fullHarvest['year']):\n",
    "                self.prodProportion = self.firstHarvest['proportion']\n",
    "                \n",
    "            # if the trees are in their full production years\n",
    "            elif (self.treeAge >= self.fullHarvest['year']) and (self.treeAge < self.descentHarvest['year']):\n",
    "                    self.prodProportion = self.fullHarvest['proportion']\n",
    "                    \n",
    "            # if the trees are in their descending production year(s)\n",
    "            elif (self.treeAge >= self.descentHarvest['year']):\n",
    "                self.prodProportion = self.descentHarvest['proportionDescent']\n",
    "            \n",
    "        if (self.status == \"prune\"):\n",
    "            if (self.simYear - self.startYear) == 1:\n",
    "                self.prodProportion = .5                    \n",
    "            elif (self.simYear - self.startYear) == 2:\n",
    "                self.prodProportion = .75\n",
    "                    \n",
    "            else:\n",
    "                self.prodProportion = 1\n",
    "                \n",
    "        self.getProduction()\n",
    "\n",
    "\n",
    "                    \n",
    "    def getProduction(self):\n",
    "        self.production = self.totalCuerdas * self.cuerdaHarvestCap * self.prodProportion\n",
    "\n",
    "    def getRow(self):\n",
    "        data = {\"plotID\": self.plotID,\n",
    "                \"simulationYear\": self.simYear,\n",
    "                \"farmerName\": self.farmerName,\n",
    "                \"treeType\": self.treeType,\n",
    "                \"cuerdas\": self.totalCuerdas,\n",
    "                \"treeAge\": self.treeAge,\n",
    "                \"status\": self.status,\n",
    "                \"harvestCap\": self.cuerdaHarvestCap,\n",
    "                \"harvestProportion\": self.prodProportion,\n",
    "                \"harvest\": self.production}\n",
    "            \n",
    "        self.row = pd.DataFrame(data, index=[self.simYear])\n",
    "        \n",
    "        return(self.row)\n"
   ]
  },
  {
   "cell_type": "code",
   "execution_count": 69,
   "metadata": {},
   "outputs": [],
   "source": [
    "def getEvent(year, plotDf, bottomLimit = \"startYear\"):\n",
    "    \"\"\"\n",
    "    Uses the argument 'year' passed to figure out which event is currently in progress\n",
    "    for a specific plot. Returns the event number for that plot.\n",
    "    \"\"\"\n",
    "    \n",
    "    \n",
    "    # sort the dataframe of this plot in descending order by event start year\n",
    "    plotDf = plotDf.sort_values(by=[bottomLimit], ascending = False)\n",
    "    \n",
    "    # iterate through rows in reverse chronological\n",
    "    for i,row in plotDf.iterrows():\n",
    "        # if the current simulation year is larger or equal to the event start year\n",
    "        if year >= row[\"startYear\"]:\n",
    "            eventNumber = i\n",
    "            break\n",
    "    \n",
    "    return(eventNumber)"
   ]
  },
  {
   "cell_type": "code",
   "execution_count": 70,
   "metadata": {},
   "outputs": [],
   "source": [
    "def initClass(year, eventData, eventNumber, treeAttributes):\n",
    "    plotID = int(eventData['plotID'][eventNumber])\n",
    "    farmerName = str(eventData['farmerName'][eventNumber])\n",
    "    treeType = str(eventData['treeType'][eventNumber])\n",
    "    cuerdas = float(eventData['numCuerdas'][eventNumber])\n",
    "    status = str(eventData['status'][eventNumber])\n",
    "    startYear = int(eventData['startYear'][eventNumber])\n",
    "    deathYear = int(eventData['deathYear'][eventNumber])\n",
    "    \n",
    "    plot = Plot(_simYear = year, _plotID = plotID, _farmerName = farmerName, _treeType = treeType, _cuerdas = cuerdas, _status = status, _startYear = startYear, _deathYear = deathYear)\n",
    "    \n",
    "    return(plot)"
   ]
  },
  {
   "cell_type": "code",
   "execution_count": 71,
   "metadata": {},
   "outputs": [],
   "source": [
    "def initAllPlots(simData, year = 2020, treeAttributes = treeAttributes):\n",
    "    # iterate through every plot\n",
    "    plots = list(simData.groupby(\"plotID\").groups.keys())\n",
    "    \n",
    "    plotClasses = []\n",
    "    for i, plotID in enumerate(plots):\n",
    "        _plot = simData[simData[\"plotID\"] == plotID]\n",
    "        _eventNumber = getEvent(year, _plot)\n",
    "        _event = _plot[_plot[\"event\"] ==_eventNumber]\n",
    "        _plotClass = initClass(year, _event, _eventNumber, treeAttributes)\n",
    "        plotClasses.append(_plotClass)\n",
    "        \n",
    "    return(plotClasses)\n"
   ]
  },
  {
   "cell_type": "code",
   "execution_count": 76,
   "metadata": {},
   "outputs": [],
   "source": [
    "def simulate(eventData, treeAttributes, startYear = 2020, years = 30):\n",
    "    plotClasses = []\n",
    "    # simulationDf = pd.DataFrame()\n",
    "    currentYear = startYear\n",
    "    #print(eventData)\n",
    "\n",
    "    plotClasses = initAllPlots(simData = eventData, year = startYear, treeAttributes = treeAttributes)\n",
    "    \n",
    "    simulationDf = plotClasses[0].getRow()\n",
    "    for plotIndex,plot in enumerate(plotClasses):\n",
    "        if plotIndex == 0:\n",
    "            print()\n",
    "        else:\n",
    "            newRow = plot.getRow()\n",
    "            simulationDf = pd.concat([simulationDf, newRow])\n",
    "                    \n",
    "    for i in range(1,years):\n",
    "        currentYear = startYear + i\n",
    "        for plotIndex,plot in enumerate(plotClasses):\n",
    "            _plotID = plot.plotID\n",
    "\n",
    "            plotData = simData[simData[\"plotID\"] == _plotID]\n",
    "            eventNumber = getEvent(year=currentYear, plotDf = plotData)\n",
    "            #event = eventData[eventData[\"event\"] == eventNumber]\n",
    "            eventStatus = plotData[\"status\"][eventNumber]\n",
    "            eventStartYear = plotData[\"startYear\"][eventNumber]\n",
    "            eventDeathYear = plotData[\"deathYear\"][eventNumber]\n",
    "\n",
    "            plot.updateEvent(_simYear = currentYear, _status = eventStatus, _startYear = eventStartYear, _deathYear = eventDeathYear)\n",
    "\n",
    "            newRow = plot.getRow()\n",
    "            simulationDf = pd.concat([simulationDf, newRow])\n",
    "\n",
    "\n",
    "    return(simulationDf)"
   ]
  },
  {
   "cell_type": "code",
   "execution_count": 77,
   "metadata": {},
   "outputs": [
    {
     "name": "stdout",
     "output_type": "stream",
     "text": [
      "\n"
     ]
    }
   ],
   "source": [
    "x = simulate(simData, treeAttributes)"
   ]
  },
  {
   "cell_type": "code",
   "execution_count": 78,
   "metadata": {},
   "outputs": [
    {
     "data": {
      "text/html": [
       "<div>\n",
       "<style scoped>\n",
       "    .dataframe tbody tr th:only-of-type {\n",
       "        vertical-align: middle;\n",
       "    }\n",
       "\n",
       "    .dataframe tbody tr th {\n",
       "        vertical-align: top;\n",
       "    }\n",
       "\n",
       "    .dataframe thead th {\n",
       "        text-align: right;\n",
       "    }\n",
       "</style>\n",
       "<table border=\"1\" class=\"dataframe\">\n",
       "  <thead>\n",
       "    <tr style=\"text-align: right;\">\n",
       "      <th></th>\n",
       "      <th>plotID</th>\n",
       "      <th>simulationYear</th>\n",
       "      <th>farmerName</th>\n",
       "      <th>treeType</th>\n",
       "      <th>cuerdas</th>\n",
       "      <th>treeAge</th>\n",
       "      <th>status</th>\n",
       "      <th>harvestCap</th>\n",
       "      <th>harvestProportion</th>\n",
       "      <th>harvest</th>\n",
       "    </tr>\n",
       "  </thead>\n",
       "  <tbody>\n",
       "    <tr>\n",
       "      <th>2020</th>\n",
       "      <td>0</td>\n",
       "      <td>2020</td>\n",
       "      <td>Emilio Manzanares Garibay</td>\n",
       "      <td>catuai</td>\n",
       "      <td>7.0</td>\n",
       "      <td>2</td>\n",
       "      <td>plant</td>\n",
       "      <td>125</td>\n",
       "      <td>0.2</td>\n",
       "      <td>175.0</td>\n",
       "    </tr>\n",
       "    <tr>\n",
       "      <th>2020</th>\n",
       "      <td>1</td>\n",
       "      <td>2020</td>\n",
       "      <td>Hernán Jaramillo Camacho</td>\n",
       "      <td>borbon</td>\n",
       "      <td>5.0</td>\n",
       "      <td>8</td>\n",
       "      <td>plant</td>\n",
       "      <td>200</td>\n",
       "      <td>1.0</td>\n",
       "      <td>1000.0</td>\n",
       "    </tr>\n",
       "    <tr>\n",
       "      <th>2020</th>\n",
       "      <td>2</td>\n",
       "      <td>2020</td>\n",
       "      <td>Angélica Horacio Jaimes</td>\n",
       "      <td>catuai</td>\n",
       "      <td>10.0</td>\n",
       "      <td>5</td>\n",
       "      <td>plant</td>\n",
       "      <td>125</td>\n",
       "      <td>1.0</td>\n",
       "      <td>1250.0</td>\n",
       "    </tr>\n",
       "    <tr>\n",
       "      <th>2020</th>\n",
       "      <td>3</td>\n",
       "      <td>2020</td>\n",
       "      <td>Emilio Manzanares Garibay</td>\n",
       "      <td>catuai</td>\n",
       "      <td>9.0</td>\n",
       "      <td>1</td>\n",
       "      <td>plant</td>\n",
       "      <td>125</td>\n",
       "      <td>0.2</td>\n",
       "      <td>225.0</td>\n",
       "    </tr>\n",
       "    <tr>\n",
       "      <th>2020</th>\n",
       "      <td>4</td>\n",
       "      <td>2020</td>\n",
       "      <td>Pascual Rafaél Villareal Botello</td>\n",
       "      <td>borbon</td>\n",
       "      <td>6.0</td>\n",
       "      <td>13</td>\n",
       "      <td>plant</td>\n",
       "      <td>200</td>\n",
       "      <td>1.0</td>\n",
       "      <td>1200.0</td>\n",
       "    </tr>\n",
       "    <tr>\n",
       "      <th>...</th>\n",
       "      <td>...</td>\n",
       "      <td>...</td>\n",
       "      <td>...</td>\n",
       "      <td>...</td>\n",
       "      <td>...</td>\n",
       "      <td>...</td>\n",
       "      <td>...</td>\n",
       "      <td>...</td>\n",
       "      <td>...</td>\n",
       "      <td>...</td>\n",
       "    </tr>\n",
       "    <tr>\n",
       "      <th>2049</th>\n",
       "      <td>95</td>\n",
       "      <td>2049</td>\n",
       "      <td>María del Carmen José María Franco</td>\n",
       "      <td>borbon</td>\n",
       "      <td>5.0</td>\n",
       "      <td>7</td>\n",
       "      <td>prune</td>\n",
       "      <td>200</td>\n",
       "      <td>1.0</td>\n",
       "      <td>1000.0</td>\n",
       "    </tr>\n",
       "    <tr>\n",
       "      <th>2049</th>\n",
       "      <td>96</td>\n",
       "      <td>2049</td>\n",
       "      <td>Gabriela Ernesto Ruelas Tamez</td>\n",
       "      <td>borbon</td>\n",
       "      <td>4.0</td>\n",
       "      <td>7</td>\n",
       "      <td>prune</td>\n",
       "      <td>200</td>\n",
       "      <td>1.0</td>\n",
       "      <td>800.0</td>\n",
       "    </tr>\n",
       "    <tr>\n",
       "      <th>2049</th>\n",
       "      <td>97</td>\n",
       "      <td>2049</td>\n",
       "      <td>Diego Carranza</td>\n",
       "      <td>catuai</td>\n",
       "      <td>8.0</td>\n",
       "      <td>7</td>\n",
       "      <td>prune</td>\n",
       "      <td>125</td>\n",
       "      <td>1.0</td>\n",
       "      <td>1000.0</td>\n",
       "    </tr>\n",
       "    <tr>\n",
       "      <th>2049</th>\n",
       "      <td>98</td>\n",
       "      <td>2049</td>\n",
       "      <td>Amador Amador Feliciano Ortiz</td>\n",
       "      <td>borbon</td>\n",
       "      <td>4.0</td>\n",
       "      <td>7</td>\n",
       "      <td>prune</td>\n",
       "      <td>200</td>\n",
       "      <td>1.0</td>\n",
       "      <td>800.0</td>\n",
       "    </tr>\n",
       "    <tr>\n",
       "      <th>2049</th>\n",
       "      <td>99</td>\n",
       "      <td>2049</td>\n",
       "      <td>Ing. Ivonne Alcaraz</td>\n",
       "      <td>catuai</td>\n",
       "      <td>7.0</td>\n",
       "      <td>10</td>\n",
       "      <td>prune</td>\n",
       "      <td>125</td>\n",
       "      <td>1.0</td>\n",
       "      <td>875.0</td>\n",
       "    </tr>\n",
       "  </tbody>\n",
       "</table>\n",
       "<p>3000 rows × 10 columns</p>\n",
       "</div>"
      ],
      "text/plain": [
       "      plotID  simulationYear                          farmerName treeType  \\\n",
       "2020       0            2020           Emilio Manzanares Garibay   catuai   \n",
       "2020       1            2020            Hernán Jaramillo Camacho   borbon   \n",
       "2020       2            2020             Angélica Horacio Jaimes   catuai   \n",
       "2020       3            2020           Emilio Manzanares Garibay   catuai   \n",
       "2020       4            2020    Pascual Rafaél Villareal Botello   borbon   \n",
       "...      ...             ...                                 ...      ...   \n",
       "2049      95            2049  María del Carmen José María Franco   borbon   \n",
       "2049      96            2049       Gabriela Ernesto Ruelas Tamez   borbon   \n",
       "2049      97            2049                      Diego Carranza   catuai   \n",
       "2049      98            2049       Amador Amador Feliciano Ortiz   borbon   \n",
       "2049      99            2049                 Ing. Ivonne Alcaraz   catuai   \n",
       "\n",
       "      cuerdas  treeAge status  harvestCap  harvestProportion  harvest  \n",
       "2020      7.0        2  plant         125                0.2    175.0  \n",
       "2020      5.0        8  plant         200                1.0   1000.0  \n",
       "2020     10.0        5  plant         125                1.0   1250.0  \n",
       "2020      9.0        1  plant         125                0.2    225.0  \n",
       "2020      6.0       13  plant         200                1.0   1200.0  \n",
       "...       ...      ...    ...         ...                ...      ...  \n",
       "2049      5.0        7  prune         200                1.0   1000.0  \n",
       "2049      4.0        7  prune         200                1.0    800.0  \n",
       "2049      8.0        7  prune         125                1.0   1000.0  \n",
       "2049      4.0        7  prune         200                1.0    800.0  \n",
       "2049      7.0       10  prune         125                1.0    875.0  \n",
       "\n",
       "[3000 rows x 10 columns]"
      ]
     },
     "execution_count": 78,
     "metadata": {},
     "output_type": "execute_result"
    }
   ],
   "source": [
    "x"
   ]
  },
  {
   "cell_type": "code",
   "execution_count": 74,
   "metadata": {},
   "outputs": [],
   "source": [
    "projection = x.groupby(['plotID', 'simulationYear']).sum()['harvest'].groupby('simulationYear').sum()"
   ]
  },
  {
   "cell_type": "code",
   "execution_count": null,
   "metadata": {},
   "outputs": [],
   "source": []
  },
  {
   "cell_type": "code",
   "execution_count": 75,
   "metadata": {},
   "outputs": [
    {
     "data": {
      "text/plain": [
       "[<matplotlib.lines.Line2D at 0x7fa581966ac0>]"
      ]
     },
     "execution_count": 75,
     "metadata": {},
     "output_type": "execute_result"
    },
    {
     "data": {
      "image/png": "[encoded data removed]",
      "text/plain": [
       "<Figure size 432x288 with 1 Axes>"
      ]
     },
     "metadata": {
      "needs_background": "light"
     },
     "output_type": "display_data"
    }
   ],
   "source": [
    "plt.plot(projection)"
   ]
  },
  {
   "cell_type": "code",
   "execution_count": null,
   "metadata": {},
   "outputs": [],
   "source": [
    "allPlots = initAllPlots(simData)"
   ]
  },
  {
   "cell_type": "code",
   "execution_count": null,
   "metadata": {},
   "outputs": [],
   "source": [
    "x = allPlots[0].getRow()"
   ]
  },
  {
   "cell_type": "code",
   "execution_count": null,
   "metadata": {},
   "outputs": [],
   "source": [
    "x"
   ]
  },
  {
   "cell_type": "code",
   "execution_count": null,
   "metadata": {},
   "outputs": [],
   "source": [
    "# test = plots[0]\n",
    "testEventNumber = 2"
   ]
  },
  {
   "cell_type": "code",
   "execution_count": null,
   "metadata": {},
   "outputs": [],
   "source": [
    "testEvent = simData[simData[\"event\"] == testEventNumber]"
   ]
  },
  {
   "cell_type": "code",
   "execution_count": null,
   "metadata": {},
   "outputs": [],
   "source": [
    "testEvent"
   ]
  },
  {
   "cell_type": "code",
   "execution_count": null,
   "metadata": {},
   "outputs": [],
   "source": [
    "treeAttributes['catura']"
   ]
  },
  {
   "cell_type": "code",
   "execution_count": null,
   "metadata": {},
   "outputs": [],
   "source": [
    "testPlot = initClass(2020, testEvent, testEventNumber, treeAttributes)"
   ]
  },
  {
   "cell_type": "code",
   "execution_count": null,
   "metadata": {},
   "outputs": [],
   "source": [
    "testPlot.startYear"
   ]
  },
  {
   "cell_type": "markdown",
   "metadata": {},
   "source": [
    "# To do:\n",
    "\n",
    "- [ ] review farm class and see what's going on\n",
    "- [ ] figure out how to incorporate classes into what is happening here"
   ]
  },
  {
   "cell_type": "code",
   "execution_count": null,
   "metadata": {},
   "outputs": [],
   "source": [
    "# group by the individual ids for iteration\n",
    "byID = simData.groupby(\"plotID\")\n",
    "\n",
    "# iterate through each plot\n",
    "for plotID, group in byID:\n",
    "    #print(plotID)\n",
    "    \n",
    "    # iterate through each event for each plot\n",
    "    for eventNumber, event in group.iterrows():\n",
    "        #print(event[\"farmerName\"])\n",
    "        x = 0\n",
    "        "
   ]
  },
  {
   "cell_type": "code",
   "execution_count": null,
   "metadata": {},
   "outputs": [],
   "source": [
    "def simulate(startYear:int, simultationYears:int, eventData:pd.DataFrame):\n",
    "    \n",
    "    for i in range(simultationYears):\n",
    "        simYear = startYear + i\n",
    "        \n",
    "        \n",
    "        "
   ]
  },
  {
   "cell_type": "code",
   "execution_count": null,
   "metadata": {},
   "outputs": [],
   "source": []
  },
  {
   "cell_type": "code",
   "execution_count": null,
   "metadata": {},
   "outputs": [],
   "source": [
    "round?"
   ]
  },
  {
   "cell_type": "code",
   "execution_count": null,
   "metadata": {},
   "outputs": [],
   "source": []
  }
 ],
 "metadata": {
  "kernelspec": {
   "display_name": "Python 3",
   "language": "python",
   "name": "python3"
  },
  "language_info": {
   "codemirror_mode": {
    "name": "ipython",
    "version": 3
   },
   "file_extension": ".py",
   "mimetype": "text/x-python",
   "name": "python",
   "nbconvert_exporter": "python",
   "pygments_lexer": "ipython3",
   "version": "3.8.5"
  }
 },
 "nbformat": 4,
 "nbformat_minor": 4
}
