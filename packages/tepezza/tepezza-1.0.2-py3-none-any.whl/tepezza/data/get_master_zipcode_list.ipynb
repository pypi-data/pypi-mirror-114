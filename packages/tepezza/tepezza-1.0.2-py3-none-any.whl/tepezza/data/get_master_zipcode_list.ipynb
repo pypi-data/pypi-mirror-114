{
 "cells": [
  {
   "cell_type": "markdown",
   "source": [
    "from https://udsmapper.org/zip-code-to-zcta-crosswalk/-- misses about 500 ZIP_CODEs, but better than 33k ZCTAS"
   ],
   "metadata": {}
  },
  {
   "cell_type": "code",
   "execution_count": null,
   "source": [
    "import pandas"
   ],
   "outputs": [],
   "metadata": {}
  },
  {
   "cell_type": "code",
   "execution_count": 3,
   "source": [
    "URL = 'https://udsmapper.org/wp-content/uploads/2020/09/Zip_to_zcta_crosswalk_2020.xlsx'"
   ],
   "outputs": [],
   "metadata": {}
  },
  {
   "cell_type": "code",
   "execution_count": 6,
   "source": [
    "df = pandas.read_excel('https://udsmapper.org/wp-content/uploads/2020/09/Zip_to_zcta_crosswalk_2020.xlsx')"
   ],
   "outputs": [],
   "metadata": {}
  },
  {
   "cell_type": "code",
   "execution_count": 8,
   "source": [
    "df"
   ],
   "outputs": [
    {
     "output_type": "execute_result",
     "data": {
      "text/plain": [
       "       ZIP_CODE      PO_NAME STATE                              ZIP_TYPE  \\\n",
       "0           501   Holtsville    NY  Post Office or large volume customer   \n",
       "1           544   Holtsville    NY  Post Office or large volume customer   \n",
       "2           601     Adjuntas    PR                         ZIP Code Area   \n",
       "3           602       Aguada    PR                         ZIP Code Area   \n",
       "4           603    Aguadilla    PR                         ZIP Code Area   \n",
       "...         ...          ...   ...                                   ...   \n",
       "41099     99926   Metlakatla    AK                         ZIP Code Area   \n",
       "41100     99927  Point Baker    AK                         ZIP Code Area   \n",
       "41101     99928    Ward Cove    AK  Post Office or large volume customer   \n",
       "41102     99929     Wrangell    AK                         ZIP Code Area   \n",
       "41103     99950    Ketchikan    AK                         ZIP Code Area   \n",
       "\n",
       "        ZCTA         zip_join_type  \n",
       "0      11742  Spatial join to ZCTA  \n",
       "1      11742  Spatial join to ZCTA  \n",
       "2      00601      ZIP Matches ZCTA  \n",
       "3      00602      ZIP Matches ZCTA  \n",
       "4      00603      ZIP Matches ZCTA  \n",
       "...      ...                   ...  \n",
       "41099  99926      ZIP Matches ZCTA  \n",
       "41100  99927      ZIP Matches ZCTA  \n",
       "41101  99901  Spatial join to ZCTA  \n",
       "41102  99929      ZIP Matches ZCTA  \n",
       "41103  99921  Spatial join to ZCTA  \n",
       "\n",
       "[41104 rows x 6 columns]"
      ],
      "text/html": [
       "<div>\n",
       "<style scoped>\n",
       "    .dataframe tbody tr th:only-of-type {\n",
       "        vertical-align: middle;\n",
       "    }\n",
       "\n",
       "    .dataframe tbody tr th {\n",
       "        vertical-align: top;\n",
       "    }\n",
       "\n",
       "    .dataframe thead th {\n",
       "        text-align: right;\n",
       "    }\n",
       "</style>\n",
       "<table border=\"1\" class=\"dataframe\">\n",
       "  <thead>\n",
       "    <tr style=\"text-align: right;\">\n",
       "      <th></th>\n",
       "      <th>ZIP_CODE</th>\n",
       "      <th>PO_NAME</th>\n",
       "      <th>STATE</th>\n",
       "      <th>ZIP_TYPE</th>\n",
       "      <th>ZCTA</th>\n",
       "      <th>zip_join_type</th>\n",
       "    </tr>\n",
       "  </thead>\n",
       "  <tbody>\n",
       "    <tr>\n",
       "      <th>0</th>\n",
       "      <td>501</td>\n",
       "      <td>Holtsville</td>\n",
       "      <td>NY</td>\n",
       "      <td>Post Office or large volume customer</td>\n",
       "      <td>11742</td>\n",
       "      <td>Spatial join to ZCTA</td>\n",
       "    </tr>\n",
       "    <tr>\n",
       "      <th>1</th>\n",
       "      <td>544</td>\n",
       "      <td>Holtsville</td>\n",
       "      <td>NY</td>\n",
       "      <td>Post Office or large volume customer</td>\n",
       "      <td>11742</td>\n",
       "      <td>Spatial join to ZCTA</td>\n",
       "    </tr>\n",
       "    <tr>\n",
       "      <th>2</th>\n",
       "      <td>601</td>\n",
       "      <td>Adjuntas</td>\n",
       "      <td>PR</td>\n",
       "      <td>ZIP Code Area</td>\n",
       "      <td>00601</td>\n",
       "      <td>ZIP Matches ZCTA</td>\n",
       "    </tr>\n",
       "    <tr>\n",
       "      <th>3</th>\n",
       "      <td>602</td>\n",
       "      <td>Aguada</td>\n",
       "      <td>PR</td>\n",
       "      <td>ZIP Code Area</td>\n",
       "      <td>00602</td>\n",
       "      <td>ZIP Matches ZCTA</td>\n",
       "    </tr>\n",
       "    <tr>\n",
       "      <th>4</th>\n",
       "      <td>603</td>\n",
       "      <td>Aguadilla</td>\n",
       "      <td>PR</td>\n",
       "      <td>ZIP Code Area</td>\n",
       "      <td>00603</td>\n",
       "      <td>ZIP Matches ZCTA</td>\n",
       "    </tr>\n",
       "    <tr>\n",
       "      <th>...</th>\n",
       "      <td>...</td>\n",
       "      <td>...</td>\n",
       "      <td>...</td>\n",
       "      <td>...</td>\n",
       "      <td>...</td>\n",
       "      <td>...</td>\n",
       "    </tr>\n",
       "    <tr>\n",
       "      <th>41099</th>\n",
       "      <td>99926</td>\n",
       "      <td>Metlakatla</td>\n",
       "      <td>AK</td>\n",
       "      <td>ZIP Code Area</td>\n",
       "      <td>99926</td>\n",
       "      <td>ZIP Matches ZCTA</td>\n",
       "    </tr>\n",
       "    <tr>\n",
       "      <th>41100</th>\n",
       "      <td>99927</td>\n",
       "      <td>Point Baker</td>\n",
       "      <td>AK</td>\n",
       "      <td>ZIP Code Area</td>\n",
       "      <td>99927</td>\n",
       "      <td>ZIP Matches ZCTA</td>\n",
       "    </tr>\n",
       "    <tr>\n",
       "      <th>41101</th>\n",
       "      <td>99928</td>\n",
       "      <td>Ward Cove</td>\n",
       "      <td>AK</td>\n",
       "      <td>Post Office or large volume customer</td>\n",
       "      <td>99901</td>\n",
       "      <td>Spatial join to ZCTA</td>\n",
       "    </tr>\n",
       "    <tr>\n",
       "      <th>41102</th>\n",
       "      <td>99929</td>\n",
       "      <td>Wrangell</td>\n",
       "      <td>AK</td>\n",
       "      <td>ZIP Code Area</td>\n",
       "      <td>99929</td>\n",
       "      <td>ZIP Matches ZCTA</td>\n",
       "    </tr>\n",
       "    <tr>\n",
       "      <th>41103</th>\n",
       "      <td>99950</td>\n",
       "      <td>Ketchikan</td>\n",
       "      <td>AK</td>\n",
       "      <td>ZIP Code Area</td>\n",
       "      <td>99921</td>\n",
       "      <td>Spatial join to ZCTA</td>\n",
       "    </tr>\n",
       "  </tbody>\n",
       "</table>\n",
       "<p>41104 rows × 6 columns</p>\n",
       "</div>"
      ]
     },
     "metadata": {},
     "execution_count": 8
    }
   ],
   "metadata": {}
  },
  {
   "cell_type": "code",
   "execution_count": 20,
   "source": [
    "zips = df['ZIP_CODE']"
   ],
   "outputs": [],
   "metadata": {}
  },
  {
   "cell_type": "code",
   "execution_count": 21,
   "source": [
    "assert len(zips) == len(zips.drop_duplicates())"
   ],
   "outputs": [],
   "metadata": {}
  },
  {
   "cell_type": "code",
   "execution_count": 23,
   "source": [
    "zips = zips.copy().sort_values()"
   ],
   "outputs": [],
   "metadata": {}
  },
  {
   "cell_type": "code",
   "execution_count": 24,
   "source": [
    "str_zips = zips.apply(lambda i : str(i).zfill(5))"
   ],
   "outputs": [],
   "metadata": {}
  },
  {
   "cell_type": "code",
   "execution_count": 25,
   "source": [
    "str_zips"
   ],
   "outputs": [
    {
     "output_type": "execute_result",
     "data": {
      "text/plain": [
       "0        00501\n",
       "1        00544\n",
       "2        00601\n",
       "3        00602\n",
       "4        00603\n",
       "         ...  \n",
       "41099    99926\n",
       "41100    99927\n",
       "41101    99928\n",
       "41102    99929\n",
       "41103    99950\n",
       "Name: ZIP_CODE, Length: 41104, dtype: object"
      ]
     },
     "metadata": {},
     "execution_count": 25
    }
   ],
   "metadata": {}
  },
  {
   "cell_type": "code",
   "execution_count": 28,
   "source": [
    "str_zips.to_csv('data/__ZIPCODES.csv')"
   ],
   "outputs": [],
   "metadata": {}
  }
 ],
 "metadata": {
  "orig_nbformat": 4,
  "language_info": {
   "name": "python",
   "version": "3.8.2",
   "mimetype": "text/x-python",
   "codemirror_mode": {
    "name": "ipython",
    "version": 3
   },
   "pygments_lexer": "ipython3",
   "nbconvert_exporter": "python",
   "file_extension": ".py"
  },
  "kernelspec": {
   "name": "python3",
   "display_name": "Python 3.8.2 64-bit ('3.8')"
  },
  "interpreter": {
   "hash": "082e9a3bcad0a290d0001e938aa60b99250c6c2ef33a923c00b70f9826caf4b7"
  }
 },
 "nbformat": 4,
 "nbformat_minor": 2
}