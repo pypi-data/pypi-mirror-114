{
 "cells": [
  {
   "cell_type": "code",
   "execution_count": null,
   "metadata": {},
   "outputs": [],
   "source": [
    "try:\n",
    "    %load_ext lab_black\n",
    "except ModuleNotFoundError:\n",
    "    print(\"nb_black not installed\")"
   ]
  },
  {
   "cell_type": "code",
   "execution_count": null,
   "metadata": {
    "heading_collapsed": "false"
   },
   "outputs": [],
   "source": [
    "import os\n",
    "import sys\n",
    "import networkx as nx\n",
    "import numpy as np\n",
    "import functools\n",
    "import webbrowser\n",
    "from time import time\n",
    "from random import shuffle\n",
    "from IPython.core.display import display, HTML\n",
    "from IPython.display import Javascript\n",
    "from scipy.cluster.hierarchy import cut_tree, to_tree, leaves_list\n",
    "from ipywidgets import Button, HBox, VBox, Output, Layout, Image\n",
    "from ipyevents import Event\n",
    "\n",
    "sys.path.append(os.path.abspath(\"..\"))\n",
    "from yourtube.krakow import krakow\n",
    "from yourtube.clustering_utils import plot_dendrogram, normalized_dasgupta_cost\n",
    "from yourtube.scraping import scrape\n",
    "from yourtube.file_operations import (\n",
    "    save_graph,\n",
    "    load_graph,\n",
    "    id_to_url,\n",
    ")\n",
    "\n",
    "# import matplotlib.cm as cm\n",
    "# import matplotlib.pyplot as plt\n",
    "\n",
    "balance = 2.1\n",
    "num_of_columns = 3\n",
    "column_width = 1200 / num_of_columns\n",
    "\n",
    "id_to_thumbnail = \"https://i.ytimg.com/vi/{}/hqdefault.jpg\""
   ]
  },
  {
   "cell_type": "code",
   "execution_count": null,
   "metadata": {
    "heading_collapsed": "false"
   },
   "outputs": [],
   "source": [
    "G = load_graph()"
   ]
  },
  {
   "cell_type": "code",
   "execution_count": null,
   "metadata": {},
   "outputs": [],
   "source": [
    "def window_open(_, url):\n",
    "    webbrowser.open(url)\n",
    "    # alternative is to use Javascript https://stackoverflow.com/a/61900572/11756613\n",
    "    # and it works even when jupyter is remote\n",
    "    # but here, when called by an event, it's broken for some reason"
   ]
  },
  {
   "cell_type": "code",
   "execution_count": null,
   "metadata": {
    "heading_collapsed": "false"
   },
   "outputs": [],
   "source": [
    "def display_video_links(G, ids, prefixes=None, show_first=8):\n",
    "    if prefixes is None:\n",
    "        prefixes = [\"\"] * len(ids)\n",
    "\n",
    "    for id_, prefix in list(zip(ids, prefixes))[:show_first]:\n",
    "        if \"title\" not in G.nodes[id_] or G.nodes[id_][\"title\"] is None:\n",
    "            scrape(id_, G)\n",
    "            if \"title\" not in G.nodes[id_]:\n",
    "                # scrapig failed - probably video is down\n",
    "                continue\n",
    "\n",
    "        url = id_to_url.format(id_)\n",
    "        title = G.nodes[id_][\"title\"]\n",
    "\n",
    "        image_url = id_to_thumbnail.format(id_)\n",
    "        img = Image.from_url(image_url)\n",
    "        event = Event(source=img, watched_events=[\"click\"])\n",
    "        func = functools.partial(window_open, url=url)\n",
    "        event.on_dom_event(func)\n",
    "        display(img)\n",
    "        print(title)\n",
    "        # display(HTML(f\"\"\"<a href=\"{url}\">{prefix} {title}</a>\"\"\"))\n",
    "        # display(HTML(f\"\"\"<a href=\"{url}\"><img src=\"{image_url}\"></a>\"\"\"))\n",
    "        # display(HTML(f\"\"\"<textarea rows=\"3\">{prefix} {title}</textarea>\"\"\"))\n",
    "        print()\n",
    "        print()\n",
    "\n",
    "    save_graph(G)"
   ]
  },
  {
   "cell_type": "code",
   "execution_count": null,
   "metadata": {
    "heading_collapsed": "false"
   },
   "outputs": [],
   "source": [
    "# ranking functions\n",
    "\n",
    "\n",
    "def rank_nodes_by_in_degree(G, nodes):\n",
    "    recs = sorted(G.subgraph(nodes).in_degree(), key=lambda pair: pair[1], reverse=True)\n",
    "    ids, scores = zip(*recs)\n",
    "    return ids, scores\n",
    "\n",
    "\n",
    "# def recommend(SubG, pickiness=0):\n",
    "#     # this line recommends very normie videos\n",
    "#     # it's equivalent to pickiness==0\n",
    "#     # recs = sorted(SubG.in_degree(), key=lambda pair: pair[1], reverse=True)\n",
    "\n",
    "#     # to be honest, I don't fully understand this part\n",
    "#     # but it works better than the one on top:\n",
    "#     # first limit recs only to the best ones\n",
    "#     # this way, we'll omit most general normie recommendations later\n",
    "#     best_recs = [node for node, in_degree in SubG.in_degree() if in_degree >= pickiness]\n",
    "#     #     best_recs = [node for node, degree in SubG.degree() if degree >= pickiness]\n",
    "\n",
    "#     ids, scores = sort_nodes_by_in_degree(SubG, best_recs)\n",
    "#     return ids, scores"
   ]
  },
  {
   "cell_type": "code",
   "execution_count": null,
   "metadata": {},
   "outputs": [],
   "source": [
    "# filtering functions\n",
    "\n",
    "\n",
    "def added_in_last_n_years(G, ids, n=5):\n",
    "    seconds_in_year = 60 * 60 * 24 * 365\n",
    "    start_time = time() - seconds_in_year * n\n",
    "\n",
    "    filterd_ids = []\n",
    "    for id_ in ids:\n",
    "        node = G.nodes[id_]\n",
    "        if \"time_added\" not in node:\n",
    "            continue\n",
    "        if start_time < node[\"time_added\"]:\n",
    "            filterd_ids.append(id_)\n",
    "\n",
    "    return filterd_ids\n",
    "\n",
    "\n",
    "def neighborhood(G, ids):\n",
    "    out_edges = G.out_edges(ids)\n",
    "    return G.edge_subgraph(out_edges).nodes"
   ]
  },
  {
   "cell_type": "code",
   "execution_count": null,
   "metadata": {},
   "outputs": [],
   "source": [
    "sources1 = added_in_last_n_years(G, G.nodes)\n",
    "neighborhood1 = neighborhood(G, sources1)\n",
    "wide_neighborhood1 = neighborhood(G, neighborhood1)\n",
    "\n",
    "print(\"sources: \", len(sources1))\n",
    "print(\"neighborhood: \", len(neighborhood1))\n",
    "print(\"wide neighborhood: \", len(wide_neighborhood1))"
   ]
  },
  {
   "cell_type": "code",
   "execution_count": null,
   "metadata": {},
   "outputs": [],
   "source": [
    "# B = load_graph(\"basia\")"
   ]
  },
  {
   "cell_type": "code",
   "execution_count": null,
   "metadata": {},
   "outputs": [],
   "source": [
    "# sources2 = added_in_last_n_years(B, B.nodes)\n",
    "# neighborhood2 = neighborhood(B, sources2)\n",
    "# wide_neighborhood2 = neighborhood(G, neighborhood2)\n",
    "\n",
    "# print(\"sources: \", len(sources2))\n",
    "# print(\"neighborhood: \", len(neighborhood2))\n",
    "# print(\"wide neighborhood: \", len(wide_neighborhood2))"
   ]
  },
  {
   "cell_type": "code",
   "execution_count": null,
   "metadata": {},
   "outputs": [],
   "source": [
    "to_cluster = neighborhood1  # & neighborhood2\n",
    "# to_cluster = wide_neighborhood1  # & wide_neighborhood2\n",
    "# len(to_cluster)"
   ]
  },
  {
   "cell_type": "code",
   "execution_count": null,
   "metadata": {},
   "outputs": [],
   "source": [
    "RecentDirected = G.subgraph(to_cluster)\n",
    "Recent = RecentDirected.to_undirected()\n",
    "print(\"number of videos: \", Recent.number_of_nodes())\n",
    "\n",
    "# choose only the biggest connected component\n",
    "components = sorted(nx.connected_components(Recent), key=len, reverse=True)\n",
    "# for el in components[:5]:\n",
    "#     print(len(el))\n",
    "main_component = components[0]\n",
    "Main = Recent.subgraph(main_component)\n",
    "\n",
    "D = krakow(Main, balance=balance)\n",
    "\n",
    "tree = to_tree(D)\n",
    "\n",
    "# plot_dendrogram(D, clusters_limit=200, width=22)\n",
    "# normalized_dasgupta_cost(Main, D)"
   ]
  },
  {
   "cell_type": "code",
   "execution_count": null,
   "metadata": {
    "tags": []
   },
   "outputs": [],
   "source": [
    "layout = Layout(width=f\"{column_width}px\")\n",
    "outputs = [Output(layout=layout) for _ in range(num_of_columns)]\n",
    "message_output = Output()\n",
    "\n",
    "whole_output = HBox(outputs)\n",
    "\n",
    "\n",
    "def split_into_n_children(tree, n):\n",
    "    children = [tree]\n",
    "\n",
    "    while len(children) < n:\n",
    "        index_of_biggest = np.argmax([child.count for child in children])\n",
    "        to_split = children[index_of_biggest]\n",
    "        splitten = [to_split.left, to_split.right]\n",
    "        children[index_of_biggest : index_of_biggest + 1] = splitten\n",
    "        # print([child.count for child in children])\n",
    "    return children\n",
    "\n",
    "\n",
    "main_ids_list = np.array(Main.nodes)\n",
    "\n",
    "\n",
    "def update_displayed_videos():\n",
    "    global children\n",
    "    try:\n",
    "        children = split_into_n_children(tree, n=num_of_columns)\n",
    "\n",
    "        for output, child in zip(outputs, children):\n",
    "            output.clear_output(wait=True)\n",
    "\n",
    "            cluster = child.pre_order()\n",
    "            ids = main_ids_list[cluster]\n",
    "            ranked_ids, scores = rank_nodes_by_in_degree(RecentDirected, ids)\n",
    "\n",
    "            ranked_ids = ranked_ids[: len(ranked_ids) // 20]\n",
    "            ranked_ids = list(ranked_ids)\n",
    "            shuffle(ranked_ids)\n",
    "\n",
    "            with output:\n",
    "                display_video_links(G, ranked_ids)  # , scores)\n",
    "\n",
    "    except AttributeError as e:\n",
    "        with message_output:\n",
    "            print(\"already on the lowest cluster\")\n",
    "\n",
    "\n",
    "def choose_column(event, i):\n",
    "    global tree\n",
    "    tree = children[i]\n",
    "    update_displayed_videos()\n",
    "\n",
    "\n",
    "for i, output in enumerate(outputs):\n",
    "    event = Event(source=output, watched_events=[\"auxclick\"])\n",
    "    func = functools.partial(choose_column, i=i)\n",
    "    event.on_dom_event(func)\n",
    "\n",
    "update_displayed_videos()\n",
    "whole_output"
   ]
  },
  {
   "cell_type": "code",
   "execution_count": null,
   "metadata": {},
   "outputs": [],
   "source": [
    "message_output"
   ]
  },
  {
   "cell_type": "code",
   "execution_count": null,
   "metadata": {},
   "outputs": [],
   "source": []
  }
 ],
 "metadata": {
  "kernelspec": {
   "display_name": "youtube-recommender",
   "language": "python",
   "name": "youtube-recommender"
  },
  "language_info": {
   "codemirror_mode": {
    "name": "ipython",
    "version": 3
   },
   "file_extension": ".py",
   "mimetype": "text/x-python",
   "name": "python",
   "nbconvert_exporter": "python",
   "pygments_lexer": "ipython3",
   "version": "3.9.6"
  }
 },
 "nbformat": 4,
 "nbformat_minor": 4
}
