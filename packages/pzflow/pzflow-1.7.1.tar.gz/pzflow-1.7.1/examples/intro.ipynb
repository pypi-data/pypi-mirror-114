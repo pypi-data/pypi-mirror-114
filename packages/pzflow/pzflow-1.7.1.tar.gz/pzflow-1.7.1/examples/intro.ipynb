{
 "cells": [
  {
   "cell_type": "markdown",
   "metadata": {},
   "source": [
    "[![Open In Colab](https://colab.research.google.com/assets/colab-badge.svg)](https://colab.research.google.com/github/jfcrenshaw/pzflow/blob/main/examples/intro.ipynb)\n",
    "\n",
    "If running in Colab, to switch to GPU, go to the menu and select Runtime -> Change runtime type -> Hardware accelerator -> GPU.\n",
    "\n",
    "In addition, uncomment and run the following code:"
   ]
  },
  {
   "cell_type": "code",
   "execution_count": 1,
   "metadata": {},
   "outputs": [],
   "source": [
    "# !pip install pzflow"
   ]
  },
  {
   "cell_type": "markdown",
   "metadata": {},
   "source": [
    "------------------\n",
    "## Intro to pzflow\n",
    "\n",
    "This notebook demonstrates building a normalizing flow with `pzflow` to learn the joint probability distribution of some 2-D data.\n",
    "\n",
    "You do not need to have any previous knowledge of normalizing flows to get started with `pzflow`, however if you are interested, here are some good sources:\n",
    "- Eric Jang's tutorial: [part 1](https://blog.evjang.com/2018/01/nf1.html), [part 2](https://blog.evjang.com/2018/01/nf2.html)\n",
    "- [Here](https://github.com/janosh/awesome-normalizing-flows)  is a comprehensive list of papers, blogs, videos, and packages\n",
    "- Two good intro papers using Coupling Layers: [NICE](http://arxiv.org/abs/1605.08803), [Real NVP](http://arxiv.org/abs/1605.08803)\n",
    "- The paper on [Neural Spline Couplings](https://arxiv.org/abs/1906.04032)"
   ]
  },
  {
   "cell_type": "code",
   "execution_count": 1,
   "metadata": {},
   "outputs": [],
   "source": [
    "from pzflow import Flow\n",
    "from pzflow.bijectors import RollingSplineCoupling\n",
    "from pzflow.examples import two_moons_data\n",
    "\n",
    "import jax.numpy as np\n",
    "import matplotlib.pyplot as plt"
   ]
  },
  {
   "cell_type": "markdown",
   "metadata": {},
   "source": [
    "First let's load some example data. It's the familiar two moons data set from scikit-learn, loaded in a Pandas DataFrame, which is the data format `pzflow` uses on the user-end."
   ]
  },
  {
   "cell_type": "code",
   "execution_count": 2,
   "metadata": {},
   "outputs": [
    {
     "data": {
      "text/html": [
       "<div>\n",
       "<style scoped>\n",
       "    .dataframe tbody tr th:only-of-type {\n",
       "        vertical-align: middle;\n",
       "    }\n",
       "\n",
       "    .dataframe tbody tr th {\n",
       "        vertical-align: top;\n",
       "    }\n",
       "\n",
       "    .dataframe thead th {\n",
       "        text-align: right;\n",
       "    }\n",
       "</style>\n",
       "<table border=\"1\" class=\"dataframe\">\n",
       "  <thead>\n",
       "    <tr style=\"text-align: right;\">\n",
       "      <th></th>\n",
       "      <th>x</th>\n",
       "      <th>y</th>\n",
       "    </tr>\n",
       "  </thead>\n",
       "  <tbody>\n",
       "    <tr>\n",
       "      <th>0</th>\n",
       "      <td>-1.026942</td>\n",
       "      <td>1.410649</td>\n",
       "    </tr>\n",
       "    <tr>\n",
       "      <th>1</th>\n",
       "      <td>0.814149</td>\n",
       "      <td>-1.365693</td>\n",
       "    </tr>\n",
       "    <tr>\n",
       "      <th>2</th>\n",
       "      <td>1.718791</td>\n",
       "      <td>0.362482</td>\n",
       "    </tr>\n",
       "    <tr>\n",
       "      <th>3</th>\n",
       "      <td>0.677510</td>\n",
       "      <td>-1.685869</td>\n",
       "    </tr>\n",
       "    <tr>\n",
       "      <th>4</th>\n",
       "      <td>1.060328</td>\n",
       "      <td>-1.363168</td>\n",
       "    </tr>\n",
       "    <tr>\n",
       "      <th>...</th>\n",
       "      <td>...</td>\n",
       "      <td>...</td>\n",
       "    </tr>\n",
       "    <tr>\n",
       "      <th>9995</th>\n",
       "      <td>-1.121514</td>\n",
       "      <td>1.657424</td>\n",
       "    </tr>\n",
       "    <tr>\n",
       "      <th>9996</th>\n",
       "      <td>-0.994531</td>\n",
       "      <td>1.445759</td>\n",
       "    </tr>\n",
       "    <tr>\n",
       "      <th>9997</th>\n",
       "      <td>1.170882</td>\n",
       "      <td>-1.276065</td>\n",
       "    </tr>\n",
       "    <tr>\n",
       "      <th>9998</th>\n",
       "      <td>1.061871</td>\n",
       "      <td>-1.318802</td>\n",
       "    </tr>\n",
       "    <tr>\n",
       "      <th>9999</th>\n",
       "      <td>-0.316731</td>\n",
       "      <td>1.340146</td>\n",
       "    </tr>\n",
       "  </tbody>\n",
       "</table>\n",
       "<p>10000 rows × 2 columns</p>\n",
       "</div>"
      ],
      "text/plain": [
       "             x         y\n",
       "0    -1.026942  1.410649\n",
       "1     0.814149 -1.365693\n",
       "2     1.718791  0.362482\n",
       "3     0.677510 -1.685869\n",
       "4     1.060328 -1.363168\n",
       "...        ...       ...\n",
       "9995 -1.121514  1.657424\n",
       "9996 -0.994531  1.445759\n",
       "9997  1.170882 -1.276065\n",
       "9998  1.061871 -1.318802\n",
       "9999 -0.316731  1.340146\n",
       "\n",
       "[10000 rows x 2 columns]"
      ]
     },
     "execution_count": 2,
     "metadata": {},
     "output_type": "execute_result"
    }
   ],
   "source": [
    "data = two_moons_data()\n",
    "data"
   ]
  },
  {
   "cell_type": "markdown",
   "metadata": {},
   "source": [
    "Let's plot it to see what it looks like."
   ]
  },
  {
   "cell_type": "code",
   "execution_count": 3,
   "metadata": {},
   "outputs": [
    {
     "data": {
      "image/png": "[encoded data removed]",
      "text/plain": [
       "<Figure size 432x288 with 1 Axes>"
      ]
     },
     "metadata": {
      "needs_background": "light"
     },
     "output_type": "display_data"
    }
   ],
   "source": [
    "plt.hist2d(data['x'], data['y'], bins=200)\n",
    "plt.xlabel('x')\n",
    "plt.ylabel('y')\n",
    "plt.show()"
   ]
  },
  {
   "cell_type": "markdown",
   "metadata": {},
   "source": [
    "Now let's build a normalizing flow.\n",
    "We will use the `Flow` object, which requires two things:\n",
    "1. the names of the columns in our data set\n",
    "2. a bijector\n",
    "\n",
    "The bijector I recommend \"out-of-the-box\" is the Rolling Spline Coupling, a bijector that alternates [Neural Spline Couplings](https://arxiv.org/abs/1906.04032) and \"Rolling\" layers. It has 5 parameters:\n",
    "- `nlayers` - The number of (Neural Spline, Roll()) couplets in the chain of bijectors\n",
    "- `K` - The number of bins in the splines\n",
    "- `B` - The range of the splines\n",
    "- `hidden_layers` - the number of hidden layers in the neural network that calculates the spline bins and derivatives\n",
    "- `hidden_dim` - the number of hidden dimensions in that same neural network\n",
    "\n",
    "Only `nlayers` is required.\n",
    "For this example, we will set `nlayers` = 2 to match the dimension of our data. This ensures that both the $x$ and $y$ dimensions get transformed. Feel free to play around with changing the other parameters. \n",
    "\n",
    "*Note: see the [redshift example](https://github.com/jfcrenshaw/pzflow/blob/main/examples/redshift_example.ipynb) for an example of constructing a more complicated bijector*"
   ]
  },
  {
   "cell_type": "code",
   "execution_count": 4,
   "metadata": {},
   "outputs": [
    {
     "name": "stderr",
     "output_type": "stream",
     "text": [
      "WARNING:absl:No GPU/TPU found, falling back to CPU. (Set TF_CPP_MIN_LOG_LEVEL=0 and rerun for more info.)\n"
     ]
    }
   ],
   "source": [
    "# set number of layers in the RollingSplineCoupling\n",
    "# equal to the input dimension\n",
    "nlayers = data.shape[1]\n",
    "\n",
    "# create the bijector\n",
    "bijector = RollingSplineCoupling(nlayers=nlayers)\n",
    "\n",
    "# create the normalizing flow\n",
    "flow = Flow(data.columns, bijector)"
   ]
  },
  {
   "cell_type": "markdown",
   "metadata": {},
   "source": [
    "Now we can train our normalizing flow.\n",
    "This is as simple as calling `flow.train(data)`.\n",
    "There are several training parameters you can set, including the number of epochs, the batch size, the optimizer, and the random seed.\n",
    "See the documentation for the normalizing flow for more details.\n",
    "For this example, let's use the defaults, but set `verbose=True` so that training losses are printed throughout the training process."
   ]
  },
  {
   "cell_type": "code",
   "execution_count": 5,
   "metadata": {},
   "outputs": [
    {
     "name": "stdout",
     "output_type": "stream",
     "text": [
      "Training 50 epochs \n",
      "Loss:\n",
      "(0) 2.7930\n",
      "(1) 2.4776\n",
      "(3) 2.0141\n",
      "(5) 1.6958\n",
      "(7) 1.6304\n",
      "(9) 1.5129\n",
      "(11) 1.4235\n",
      "(13) 1.3893\n",
      "(15) 1.3501\n",
      "(17) 1.3283\n",
      "(19) 1.3193\n",
      "(21) 1.2925\n",
      "(23) 1.2757\n",
      "(25) 1.2988\n",
      "(27) 1.2948\n",
      "(29) 1.2510\n",
      "(31) 1.2334\n",
      "(33) 1.2507\n",
      "(35) 1.2269\n",
      "(37) 1.2207\n",
      "(39) 1.2225\n",
      "(41) 1.2270\n",
      "(43) 1.2148\n",
      "(45) 1.2406\n",
      "(47) 1.2053\n",
      "(49) 1.2312\n",
      "(50) 1.1996\n",
      "CPU times: user 3min 24s, sys: 15min 26s, total: 18min 51s\n",
      "Wall time: 33.6 s\n"
     ]
    }
   ],
   "source": [
    "%%time\n",
    "losses = flow.train(data, verbose=True)"
   ]
  },
  {
   "cell_type": "markdown",
   "metadata": {},
   "source": [
    "Now let's plot the training losses to make sure everything looks like we expect it to..."
   ]
  },
  {
   "cell_type": "code",
   "execution_count": 6,
   "metadata": {},
   "outputs": [
    {
     "data": {
      "image/png": "[encoded data removed]",
      "text/plain": [
       "<Figure size 432x288 with 1 Axes>"
      ]
     },
     "metadata": {
      "needs_background": "light"
     },
     "output_type": "display_data"
    }
   ],
   "source": [
    "plt.plot(losses)\n",
    "plt.xlabel(\"Epoch\")\n",
    "plt.ylabel(\"Training loss\")\n",
    "plt.show()"
   ]
  },
  {
   "cell_type": "markdown",
   "metadata": {},
   "source": [
    "Perfect!\n",
    "\n",
    "Now we can draw samples from the flow, using the `sample` method.\n",
    "Let's draw 10000 samples and make another histogram to see if it matches the data."
   ]
  },
  {
   "cell_type": "code",
   "execution_count": 7,
   "metadata": {},
   "outputs": [],
   "source": [
    "samples = flow.sample(10000, seed=0)"
   ]
  },
  {
   "cell_type": "code",
   "execution_count": 8,
   "metadata": {},
   "outputs": [
    {
     "data": {
      "image/png": "[encoded data removed]",
      "text/plain": [
       "<Figure size 432x288 with 1 Axes>"
      ]
     },
     "metadata": {
      "needs_background": "light"
     },
     "output_type": "display_data"
    }
   ],
   "source": [
    "plt.hist2d(samples['x'], samples['y'], bins=200, range=((-2,2),(-2,2)))\n",
    "plt.xlabel('x')\n",
    "plt.ylabel('y')\n",
    "plt.show()"
   ]
  },
  {
   "cell_type": "markdown",
   "metadata": {},
   "source": [
    "Looks great!\n",
    "\n",
    "We can also use the flow to calculate redshift posteriors using the `posterior` method. We need to provide the name of the column we want to calculate a posterior for, as well as a grid on which to calculate the posterior."
   ]
  },
  {
   "cell_type": "code",
   "execution_count": 9,
   "metadata": {},
   "outputs": [],
   "source": [
    "grid = np.arange(-2, 2.02, 0.02)\n",
    "pdfs = flow.posterior(data, column=\"x\", grid=grid)"
   ]
  },
  {
   "cell_type": "markdown",
   "metadata": {},
   "source": [
    "Let's plot the first posterior."
   ]
  },
  {
   "cell_type": "code",
   "execution_count": 10,
   "metadata": {},
   "outputs": [
    {
     "data": {
      "image/png": "[encoded data removed]",
      "text/plain": [
       "<Figure size 432x288 with 1 Axes>"
      ]
     },
     "metadata": {
      "needs_background": "light"
     },
     "output_type": "display_data"
    }
   ],
   "source": [
    "plt.plot(grid, pdfs[0])\n",
    "plt.title(f\"$y$ = {data['y'][0]:.2f}\")\n",
    "plt.xlabel(\"$x$\")\n",
    "plt.ylabel(\"$p(x|y)$\")\n",
    "plt.show()"
   ]
  },
  {
   "cell_type": "markdown",
   "metadata": {},
   "source": [
    "Now let's store some information with the flow about the data it was trained on."
   ]
  },
  {
   "cell_type": "code",
   "execution_count": 11,
   "metadata": {},
   "outputs": [],
   "source": [
    "import pzflow\n",
    "flow.info = f\"\"\"\n",
    "This is an example flow, trained on 100,000 points from the scitkit-learn\n",
    "two moons data set.\n",
    "\n",
    "The data set used to train this flow is available in the `examples` module:\n",
    ">>> from pzflow.examples import two_moons_data\n",
    ">>> data = two_moons_data()\n",
    "\n",
    "This flow was created with pzflow version {pzflow.__version__}\n",
    "\"\"\""
   ]
  },
  {
   "cell_type": "code",
   "execution_count": 12,
   "metadata": {},
   "outputs": [
    {
     "name": "stdout",
     "output_type": "stream",
     "text": [
      "\n",
      "This is an example flow, trained on 100,000 points from the scitkit-learn\n",
      "two moons data set.\n",
      "\n",
      "The data set used to train this flow is available in the `examples` module:\n",
      ">>> from pzflow.examples import two_moons_data\n",
      ">>> data = two_moons_data()\n",
      "\n",
      "This flow was created with pzflow version 1.7.0\n",
      "\n"
     ]
    }
   ],
   "source": [
    "print(flow.info)"
   ]
  },
  {
   "cell_type": "markdown",
   "metadata": {},
   "source": [
    "Now let's save the flow to a file that can be loaded later:"
   ]
  },
  {
   "cell_type": "code",
   "execution_count": 13,
   "metadata": {},
   "outputs": [],
   "source": [
    "flow.save(\"example-flow.pkl\")"
   ]
  },
  {
   "cell_type": "markdown",
   "metadata": {},
   "source": [
    "This file can be loaded on Flow instantiation:"
   ]
  },
  {
   "cell_type": "code",
   "execution_count": 14,
   "metadata": {},
   "outputs": [],
   "source": [
    "flow = Flow(file=\"example-flow.pkl\")"
   ]
  },
  {
   "cell_type": "code",
   "execution_count": null,
   "metadata": {},
   "outputs": [],
   "source": []
  }
 ],
 "metadata": {
  "kernelspec": {
   "display_name": "Python [conda env:.conda-pzflow]",
   "language": "python",
   "name": "conda-env-.conda-pzflow-py"
  },
  "language_info": {
   "codemirror_mode": {
    "name": "ipython",
    "version": 3
   },
   "file_extension": ".py",
   "mimetype": "text/x-python",
   "name": "python",
   "nbconvert_exporter": "python",
   "pygments_lexer": "ipython3",
   "version": "3.9.1"
  }
 },
 "nbformat": 4,
 "nbformat_minor": 4
}