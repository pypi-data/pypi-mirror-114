{
 "cells": [
  {
   "cell_type": "markdown",
   "metadata": {},
   "source": [
    "[![Open In Colab](https://colab.research.google.com/assets/colab-badge.svg)](https://colab.research.google.com/github/jfcrenshaw/pzflow/blob/main/examples/conditional_redshift_example.ipynb)\n",
    "\n",
    "If running in Colab, to switch to GPU, go to the menu and select Runtime -> Change runtime type -> Hardware accelerator -> GPU.\n",
    "\n",
    "In addition, uncomment and run the following code:"
   ]
  },
  {
   "cell_type": "code",
   "execution_count": 1,
   "metadata": {},
   "outputs": [],
   "source": [
    "# !pip install pzflow"
   ]
  },
  {
   "cell_type": "markdown",
   "metadata": {},
   "source": [
    "-------------------\n",
    "## Redshift example\n",
    "\n",
    "This notebook uses the same data as the [redshift example](https://github.com/jfcrenshaw/pzflow/blob/main/examples/redshift_example.ipynb), but this time, instead of modeling the full 7-dimensional probability distribution, we will model the distribution of redshifts, conditioned on the magnitudes.\n",
    "\n",
    "Note that this just a basic 1-dimensional example, but it is also possible to condition a high-dimesional distribution on multiple variables. For example, you might build the 7-dimensional flow from the [redshift example](https://github.com/jfcrenshaw/pzflow/blob/main/examples/redshift_example.ipynb), but condition the flow on right ascension and declination."
   ]
  },
  {
   "cell_type": "code",
   "execution_count": 1,
   "metadata": {},
   "outputs": [],
   "source": [
    "import jax.numpy as np\n",
    "import matplotlib.pyplot as plt\n",
    "\n",
    "from pzflow import Flow\n",
    "from pzflow.bijectors import Chain, InvSoftplus, StandardScaler, RollingSplineCoupling\n",
    "from pzflow.examples import galaxy_data\n",
    "\n",
    "import pandas as pd"
   ]
  },
  {
   "cell_type": "markdown",
   "metadata": {},
   "source": [
    "First let's load the example galaxy data set included with `pzflow`.\n",
    "Let's convert the magnitudes to colors since they more closely correlate with redshift."
   ]
  },
  {
   "cell_type": "code",
   "execution_count": 2,
   "metadata": {},
   "outputs": [
    {
     "name": "stderr",
     "output_type": "stream",
     "text": [
      "WARNING:absl:No GPU/TPU found, falling back to CPU. (Set TF_CPP_MIN_LOG_LEVEL=0 and rerun for more info.)\n"
     ]
    },
    {
     "data": {
      "text/html": [
       "<div>\n",
       "<style scoped>\n",
       "    .dataframe tbody tr th:only-of-type {\n",
       "        vertical-align: middle;\n",
       "    }\n",
       "\n",
       "    .dataframe tbody tr th {\n",
       "        vertical-align: top;\n",
       "    }\n",
       "\n",
       "    .dataframe thead th {\n",
       "        text-align: right;\n",
       "    }\n",
       "</style>\n",
       "<table border=\"1\" class=\"dataframe\">\n",
       "  <thead>\n",
       "    <tr style=\"text-align: right;\">\n",
       "      <th></th>\n",
       "      <th>redshift</th>\n",
       "      <th>r</th>\n",
       "      <th>u-g</th>\n",
       "      <th>g-r</th>\n",
       "      <th>r-i</th>\n",
       "      <th>i-z</th>\n",
       "      <th>z-y</th>\n",
       "    </tr>\n",
       "  </thead>\n",
       "  <tbody>\n",
       "    <tr>\n",
       "      <th>0</th>\n",
       "      <td>0.287087</td>\n",
       "      <td>25.187710</td>\n",
       "      <td>-0.857483</td>\n",
       "      <td>-0.714067</td>\n",
       "      <td>-0.255392</td>\n",
       "      <td>-0.195415</td>\n",
       "      <td>-0.065279</td>\n",
       "    </tr>\n",
       "    <tr>\n",
       "      <th>1</th>\n",
       "      <td>0.293313</td>\n",
       "      <td>25.977161</td>\n",
       "      <td>-0.749060</td>\n",
       "      <td>-0.702137</td>\n",
       "      <td>-0.277067</td>\n",
       "      <td>-0.177332</td>\n",
       "      <td>-0.105131</td>\n",
       "    </tr>\n",
       "    <tr>\n",
       "      <th>2</th>\n",
       "      <td>1.497276</td>\n",
       "      <td>25.450055</td>\n",
       "      <td>-1.225203</td>\n",
       "      <td>-0.618744</td>\n",
       "      <td>-0.989548</td>\n",
       "      <td>-0.573286</td>\n",
       "      <td>-0.681108</td>\n",
       "    </tr>\n",
       "    <tr>\n",
       "      <th>3</th>\n",
       "      <td>0.283310</td>\n",
       "      <td>24.599570</td>\n",
       "      <td>-1.870909</td>\n",
       "      <td>-1.683596</td>\n",
       "      <td>-0.876078</td>\n",
       "      <td>-0.509384</td>\n",
       "      <td>-0.354095</td>\n",
       "    </tr>\n",
       "    <tr>\n",
       "      <th>4</th>\n",
       "      <td>1.545183</td>\n",
       "      <td>27.333528</td>\n",
       "      <td>-1.397764</td>\n",
       "      <td>-0.544775</td>\n",
       "      <td>-0.790152</td>\n",
       "      <td>-0.481434</td>\n",
       "      <td>-0.678885</td>\n",
       "    </tr>\n",
       "  </tbody>\n",
       "</table>\n",
       "</div>"
      ],
      "text/plain": [
       "   redshift          r       u-g       g-r       r-i       i-z       z-y\n",
       "0  0.287087  25.187710 -0.857483 -0.714067 -0.255392 -0.195415 -0.065279\n",
       "1  0.293313  25.977161 -0.749060 -0.702137 -0.277067 -0.177332 -0.105131\n",
       "2  1.497276  25.450055 -1.225203 -0.618744 -0.989548 -0.573286 -0.681108\n",
       "3  0.283310  24.599570 -1.870909 -1.683596 -0.876078 -0.509384 -0.354095\n",
       "4  1.545183  27.333528 -1.397764 -0.544775 -0.790152 -0.481434 -0.678885"
      ]
     },
     "execution_count": 2,
     "metadata": {},
     "output_type": "execute_result"
    }
   ],
   "source": [
    "# load the galaxy data\n",
    "data = galaxy_data()\n",
    "\n",
    "# convert magnitudes to a reference magnitude and colors\n",
    "data = data.values\n",
    "data[:,1], data[:, 2:] = data[:, 3], np.diff(data[:,1:])\n",
    "\n",
    "# save the new set\n",
    "data = pd.DataFrame(data, columns=('redshift','r','u-g','g-r','r-i','i-z','z-y'))\n",
    "data.head()"
   ]
  },
  {
   "cell_type": "markdown",
   "metadata": {},
   "source": [
    "Now we must construct the bijector. \n",
    "It will be very similar to the bijector from the [redshift example](https://github.com/jfcrenshaw/pzflow/blob/main/examples/redshift_example.ipynb). \n",
    "\n",
    "To understand why this bijector is different you have to understand the difference between data variables (i.e. redshift) and conditional variables (i.e. the colors).\n",
    "The data variables are the variables that are subject to the bijector, which is conditioned on the conditional variables.\n",
    "In this flow, we will draw a single latent variable from a univariate Gaussian, apply the bijection, conditioned on the colors, to that single variable, and as a result, we will get a redshift.\n",
    "The bijection is conditioned on the galaxy colors, but the galaxy colors do not have the bijection applied to them.\n",
    "In other words:\n",
    "$$ \\sigma \\sim \\mathcal{N}(0,1) \\quad \\text{and} \\quad \\text{redshift} = f(\\sigma| \\, r, u-g, g-r, r-i, i-z, z-y).$$\n",
    "\n",
    "For this reason, we will no longer use the Color Transform, since the colors will not be in the bijector chain (this is why we went ahead and calculated the colors above).\n",
    "We will keep the Inverse Softlus, because we still want positive redshifts, and we will keep the Standard Scaler to standard scale our redshifts.\n",
    "\n",
    "Since we are only transforming one variable, let's only use a single layer of the Rolling Spline Coupling.\n",
    "However, there is one very important change we must make!\n",
    "We must set `n_conditions = 6`, because we are conditioning on 6 variables (i.e. r, u-g, g-r, r-i, i-z, and z-y)"
   ]
  },
  {
   "cell_type": "code",
   "execution_count": 3,
   "metadata": {},
   "outputs": [],
   "source": [
    "# set the inverse softplus parameters, \n",
    "# to ensure that sampled redshifts are positive\n",
    "column_idx = 0\n",
    "sharpness = 10\n",
    "\n",
    "# calculate the mean and standard deviations of the dimensions\n",
    "# note that on this side of the color transform, we are working\n",
    "# in color space, so I calculate the mean and std dev of these \n",
    "# variables instead of the raw magnitudes\n",
    "means = data['redshift'].mean()\n",
    "stds = data['redshift'].std()\n",
    "\n",
    "# construct our bijector\n",
    "# by chaining all these layers\n",
    "bijector = Chain(\n",
    "    InvSoftplus(column_idx, sharpness),\n",
    "    StandardScaler(means, stds),\n",
    "    RollingSplineCoupling(nlayers=1, n_conditions=6),\n",
    ")"
   ]
  },
  {
   "cell_type": "markdown",
   "metadata": {},
   "source": [
    "Now we instantiate the Flow.\n",
    "This is identical to before, except now we must differentiate between `data_columns` and `conditional_columns`."
   ]
  },
  {
   "cell_type": "code",
   "execution_count": 4,
   "metadata": {},
   "outputs": [],
   "source": [
    "# To create the conditional flow, we have to provide\n",
    "# 1. The names of the data columns\n",
    "# 2. The bijector\n",
    "# 3. The names of the conditional columns\n",
    "flow = Flow(data.columns[:1], bijector, conditional_columns=data.columns[1:])"
   ]
  },
  {
   "cell_type": "markdown",
   "metadata": {},
   "source": [
    "Now we can train our normalizing flow in the exact same way as before."
   ]
  },
  {
   "cell_type": "code",
   "execution_count": 5,
   "metadata": {},
   "outputs": [
    {
     "name": "stdout",
     "output_type": "stream",
     "text": [
      "Training 125 epochs \n",
      "Loss:\n",
      "(0) 0.9749\n",
      "(1) -1.2517\n",
      "(7) -2.5445\n",
      "(13) -2.6960\n",
      "(19) -2.7254\n",
      "(25) -2.9319\n",
      "(31) -3.0905\n",
      "(37) -3.1664\n",
      "(43) -3.2403\n",
      "(49) -3.2438\n",
      "(55) -3.4073\n",
      "(61) -3.4185\n",
      "(67) -3.4451\n",
      "(73) -3.4790\n",
      "(79) -3.4122\n",
      "(85) -3.5427\n",
      "(91) -3.5764\n",
      "(97) -3.6338\n",
      "(103) -3.6679\n",
      "(109) -3.6912\n",
      "(115) -3.6316\n",
      "(121) -3.6995\n",
      "(125) -3.7815\n",
      "CPU times: user 38min 15s, sys: 3h 12min 44s, total: 3h 50min 59s\n",
      "Wall time: 2min 49s\n"
     ]
    }
   ],
   "source": [
    "%%time\n",
    "losses = flow.train(data, epochs=125, verbose=True)"
   ]
  },
  {
   "cell_type": "markdown",
   "metadata": {},
   "source": [
    "Now let's plot the training losses to make sure everything looks like we expect it to..."
   ]
  },
  {
   "cell_type": "code",
   "execution_count": 6,
   "metadata": {},
   "outputs": [
    {
     "data": {
      "image/png": "[encoded data removed]",
      "text/plain": [
       "<Figure size 432x288 with 1 Axes>"
      ]
     },
     "metadata": {
      "needs_background": "light"
     },
     "output_type": "display_data"
    }
   ],
   "source": [
    "plt.plot(losses)\n",
    "plt.xlabel(\"Epoch\")\n",
    "plt.ylabel(\"Training loss\")\n",
    "plt.show()"
   ]
  },
  {
   "cell_type": "markdown",
   "metadata": {},
   "source": [
    "Great!\n",
    "\n",
    "You can use this conditional flow in essentially the same way as the non-conditional flows.\n",
    "For example, you can calculate posteriors:"
   ]
  },
  {
   "cell_type": "code",
   "execution_count": 7,
   "metadata": {},
   "outputs": [],
   "source": [
    "galaxy = data[:1]\n",
    "grid = np.arange(0, 2.02, 0.02)\n",
    "pdf = flow.posterior(galaxy, column=\"redshift\", grid=grid)"
   ]
  },
  {
   "cell_type": "code",
   "execution_count": 8,
   "metadata": {},
   "outputs": [
    {
     "data": {
      "image/png": "[encoded data removed]",
      "text/plain": [
       "<Figure size 432x288 with 1 Axes>"
      ]
     },
     "metadata": {
      "needs_background": "light"
     },
     "output_type": "display_data"
    }
   ],
   "source": [
    "plt.plot(grid, pdf[0], label='Posterior')\n",
    "plt.axvline(galaxy['redshift'][0], 0, 1, c='C3', label='True redshift')\n",
    "plt.legend()\n",
    "plt.xlabel(\"redshift\")\n",
    "plt.show()"
   ]
  },
  {
   "cell_type": "markdown",
   "metadata": {},
   "source": [
    "We can also sample from the flow, but the key difference is that now we must provide conditions on which to condition the samples. In addition, `nsamples` controls how many times each condition is sampled from. So for example, if we take the first 500 conditions in our data set, and set `nsamples = 4`, we will get 2000 samples."
   ]
  },
  {
   "cell_type": "code",
   "execution_count": 4,
   "metadata": {},
   "outputs": [
    {
     "name": "stdout",
     "output_type": "stream",
     "text": [
      "(2000, 7)\n"
     ]
    }
   ],
   "source": [
    "# draw 4 samples for each of the first 500 conditions\n",
    "samples = flow.sample(4, conditions=data[:500], seed=0)\n",
    "print(samples.shape)"
   ]
  },
  {
   "cell_type": "code",
   "execution_count": 5,
   "metadata": {},
   "outputs": [
    {
     "data": {
      "text/html": [
       "<div>\n",
       "<style scoped>\n",
       "    .dataframe tbody tr th:only-of-type {\n",
       "        vertical-align: middle;\n",
       "    }\n",
       "\n",
       "    .dataframe tbody tr th {\n",
       "        vertical-align: top;\n",
       "    }\n",
       "\n",
       "    .dataframe thead th {\n",
       "        text-align: right;\n",
       "    }\n",
       "</style>\n",
       "<table border=\"1\" class=\"dataframe\">\n",
       "  <thead>\n",
       "    <tr style=\"text-align: right;\">\n",
       "      <th></th>\n",
       "      <th>redshift</th>\n",
       "      <th>r</th>\n",
       "      <th>u-g</th>\n",
       "      <th>g-r</th>\n",
       "      <th>r-i</th>\n",
       "      <th>i-z</th>\n",
       "      <th>z-y</th>\n",
       "    </tr>\n",
       "  </thead>\n",
       "  <tbody>\n",
       "    <tr>\n",
       "      <th>0</th>\n",
       "      <td>0.285151</td>\n",
       "      <td>25.187710</td>\n",
       "      <td>-0.857483</td>\n",
       "      <td>-0.714067</td>\n",
       "      <td>-0.255392</td>\n",
       "      <td>-0.195415</td>\n",
       "      <td>-0.065279</td>\n",
       "    </tr>\n",
       "    <tr>\n",
       "      <th>1</th>\n",
       "      <td>0.282687</td>\n",
       "      <td>25.187710</td>\n",
       "      <td>-0.857483</td>\n",
       "      <td>-0.714067</td>\n",
       "      <td>-0.255392</td>\n",
       "      <td>-0.195415</td>\n",
       "      <td>-0.065279</td>\n",
       "    </tr>\n",
       "    <tr>\n",
       "      <th>2</th>\n",
       "      <td>0.275393</td>\n",
       "      <td>25.187710</td>\n",
       "      <td>-0.857483</td>\n",
       "      <td>-0.714067</td>\n",
       "      <td>-0.255392</td>\n",
       "      <td>-0.195415</td>\n",
       "      <td>-0.065279</td>\n",
       "    </tr>\n",
       "    <tr>\n",
       "      <th>3</th>\n",
       "      <td>0.284915</td>\n",
       "      <td>25.187710</td>\n",
       "      <td>-0.857483</td>\n",
       "      <td>-0.714067</td>\n",
       "      <td>-0.255392</td>\n",
       "      <td>-0.195415</td>\n",
       "      <td>-0.065279</td>\n",
       "    </tr>\n",
       "    <tr>\n",
       "      <th>4</th>\n",
       "      <td>0.216619</td>\n",
       "      <td>25.977161</td>\n",
       "      <td>-0.749060</td>\n",
       "      <td>-0.702137</td>\n",
       "      <td>-0.277067</td>\n",
       "      <td>-0.177332</td>\n",
       "      <td>-0.105131</td>\n",
       "    </tr>\n",
       "    <tr>\n",
       "      <th>5</th>\n",
       "      <td>0.316357</td>\n",
       "      <td>25.977161</td>\n",
       "      <td>-0.749060</td>\n",
       "      <td>-0.702137</td>\n",
       "      <td>-0.277067</td>\n",
       "      <td>-0.177332</td>\n",
       "      <td>-0.105131</td>\n",
       "    </tr>\n",
       "    <tr>\n",
       "      <th>6</th>\n",
       "      <td>0.294900</td>\n",
       "      <td>25.977161</td>\n",
       "      <td>-0.749060</td>\n",
       "      <td>-0.702137</td>\n",
       "      <td>-0.277067</td>\n",
       "      <td>-0.177332</td>\n",
       "      <td>-0.105131</td>\n",
       "    </tr>\n",
       "    <tr>\n",
       "      <th>7</th>\n",
       "      <td>0.298317</td>\n",
       "      <td>25.977161</td>\n",
       "      <td>-0.749060</td>\n",
       "      <td>-0.702137</td>\n",
       "      <td>-0.277067</td>\n",
       "      <td>-0.177332</td>\n",
       "      <td>-0.105131</td>\n",
       "    </tr>\n",
       "    <tr>\n",
       "      <th>8</th>\n",
       "      <td>1.415126</td>\n",
       "      <td>25.450054</td>\n",
       "      <td>-1.225203</td>\n",
       "      <td>-0.618744</td>\n",
       "      <td>-0.989548</td>\n",
       "      <td>-0.573286</td>\n",
       "      <td>-0.681108</td>\n",
       "    </tr>\n",
       "    <tr>\n",
       "      <th>9</th>\n",
       "      <td>1.411659</td>\n",
       "      <td>25.450054</td>\n",
       "      <td>-1.225203</td>\n",
       "      <td>-0.618744</td>\n",
       "      <td>-0.989548</td>\n",
       "      <td>-0.573286</td>\n",
       "      <td>-0.681108</td>\n",
       "    </tr>\n",
       "  </tbody>\n",
       "</table>\n",
       "</div>"
      ],
      "text/plain": [
       "   redshift          r       u-g       g-r       r-i       i-z       z-y\n",
       "0  0.285151  25.187710 -0.857483 -0.714067 -0.255392 -0.195415 -0.065279\n",
       "1  0.282687  25.187710 -0.857483 -0.714067 -0.255392 -0.195415 -0.065279\n",
       "2  0.275393  25.187710 -0.857483 -0.714067 -0.255392 -0.195415 -0.065279\n",
       "3  0.284915  25.187710 -0.857483 -0.714067 -0.255392 -0.195415 -0.065279\n",
       "4  0.216619  25.977161 -0.749060 -0.702137 -0.277067 -0.177332 -0.105131\n",
       "5  0.316357  25.977161 -0.749060 -0.702137 -0.277067 -0.177332 -0.105131\n",
       "6  0.294900  25.977161 -0.749060 -0.702137 -0.277067 -0.177332 -0.105131\n",
       "7  0.298317  25.977161 -0.749060 -0.702137 -0.277067 -0.177332 -0.105131\n",
       "8  1.415126  25.450054 -1.225203 -0.618744 -0.989548 -0.573286 -0.681108\n",
       "9  1.411659  25.450054 -1.225203 -0.618744 -0.989548 -0.573286 -0.681108"
      ]
     },
     "execution_count": 5,
     "metadata": {},
     "output_type": "execute_result"
    }
   ],
   "source": [
    "# lets print the first 10\n",
    "# see how conditions 0-3 are the same?\n",
    "# and 4-7? etc.\n",
    "samples[:10]"
   ]
  },
  {
   "cell_type": "markdown",
   "metadata": {},
   "source": [
    "Let's draw one sample for each condition, to make sure that our samples match the data distribution"
   ]
  },
  {
   "cell_type": "code",
   "execution_count": 6,
   "metadata": {},
   "outputs": [],
   "source": [
    "samples = flow.sample(1, conditions=data, seed=0)"
   ]
  },
  {
   "cell_type": "code",
   "execution_count": 7,
   "metadata": {},
   "outputs": [
    {
     "data": {
      "image/png": "[encoded data removed]",
      "text/plain": [
       "<Figure size 432x288 with 1 Axes>"
      ]
     },
     "metadata": {
      "needs_background": "light"
     },
     "output_type": "display_data"
    }
   ],
   "source": [
    "plt.hist(data['redshift'], range=(0, 2.5), bins=40, histtype='step', label='data')\n",
    "plt.hist(samples['redshift'], range=(0, 2.5), bins=40, histtype='step', label='samples')\n",
    "plt.legend()\n",
    "plt.show()"
   ]
  },
  {
   "cell_type": "markdown",
   "metadata": {},
   "source": [
    "Perfect!"
   ]
  },
  {
   "cell_type": "code",
   "execution_count": null,
   "metadata": {},
   "outputs": [],
   "source": []
  }
 ],
 "metadata": {
  "interpreter": {
   "hash": "ddb71c8dc1ffef2557a2c9d44be5bf38b52fc98479b572e5007cdf63195ae033"
  },
  "kernelspec": {
   "display_name": "Python 3.9.1 64-bit ('pzflow': conda)",
   "name": "python3"
  },
  "language_info": {
   "name": "python",
   "version": ""
  }
 },
 "nbformat": 4,
 "nbformat_minor": 4
}