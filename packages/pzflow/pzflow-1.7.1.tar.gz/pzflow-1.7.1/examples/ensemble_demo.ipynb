{
 "cells": [
  {
   "cell_type": "markdown",
   "metadata": {},
   "source": [
    "[![Open In Colab](https://colab.research.google.com/assets/colab-badge.svg)](https://colab.research.google.com/github/jfcrenshaw/pzflow/blob/main/examples/ensemble_demo.ipynb)\n",
    "\n",
    "If running in Colab, to switch to GPU, go to the menu and select Runtime -> Change runtime type -> Hardware accelerator -> GPU.\n",
    "\n",
    "In addition, uncomment and run the following code:"
   ]
  },
  {
   "cell_type": "code",
   "execution_count": 1,
   "metadata": {},
   "outputs": [],
   "source": [
    "# !pip install pzflow"
   ]
  },
  {
   "cell_type": "markdown",
   "metadata": {},
   "source": [
    "------------------\n",
    "## Flow ensemble demo\n",
    "\n",
    "This notebook demonstrates building a deep ensemble of normalizing flows with `pzflow`.\n",
    "We will use the two moons example from [intro.ipynb](https://github.com/jfcrenshaw/pzflow/blob/main/examples/intro.ipynb) again."
   ]
  },
  {
   "cell_type": "code",
   "execution_count": 1,
   "metadata": {},
   "outputs": [],
   "source": [
    "from pzflow import FlowEnsemble\n",
    "from pzflow.bijectors import RollingSplineCoupling\n",
    "from pzflow.examples import two_moons_data\n",
    "\n",
    "import jax.numpy as np\n",
    "import matplotlib.pyplot as plt"
   ]
  },
  {
   "cell_type": "markdown",
   "metadata": {},
   "source": [
    "First let's load some example data. It's the familiar two moons data set from scikit-learn, loaded in a Pandas DataFrame, which is the data format `pzflow` uses on the user-end."
   ]
  },
  {
   "cell_type": "code",
   "execution_count": 2,
   "metadata": {},
   "outputs": [
    {
     "data": {
      "text/html": [
       "<div>\n",
       "<style scoped>\n",
       "    .dataframe tbody tr th:only-of-type {\n",
       "        vertical-align: middle;\n",
       "    }\n",
       "\n",
       "    .dataframe tbody tr th {\n",
       "        vertical-align: top;\n",
       "    }\n",
       "\n",
       "    .dataframe thead th {\n",
       "        text-align: right;\n",
       "    }\n",
       "</style>\n",
       "<table border=\"1\" class=\"dataframe\">\n",
       "  <thead>\n",
       "    <tr style=\"text-align: right;\">\n",
       "      <th></th>\n",
       "      <th>x</th>\n",
       "      <th>y</th>\n",
       "    </tr>\n",
       "  </thead>\n",
       "  <tbody>\n",
       "    <tr>\n",
       "      <th>0</th>\n",
       "      <td>-1.026942</td>\n",
       "      <td>1.410649</td>\n",
       "    </tr>\n",
       "    <tr>\n",
       "      <th>1</th>\n",
       "      <td>0.814149</td>\n",
       "      <td>-1.365693</td>\n",
       "    </tr>\n",
       "    <tr>\n",
       "      <th>2</th>\n",
       "      <td>1.718791</td>\n",
       "      <td>0.362482</td>\n",
       "    </tr>\n",
       "    <tr>\n",
       "      <th>3</th>\n",
       "      <td>0.677510</td>\n",
       "      <td>-1.685869</td>\n",
       "    </tr>\n",
       "    <tr>\n",
       "      <th>4</th>\n",
       "      <td>1.060328</td>\n",
       "      <td>-1.363168</td>\n",
       "    </tr>\n",
       "    <tr>\n",
       "      <th>...</th>\n",
       "      <td>...</td>\n",
       "      <td>...</td>\n",
       "    </tr>\n",
       "    <tr>\n",
       "      <th>9995</th>\n",
       "      <td>-1.121514</td>\n",
       "      <td>1.657424</td>\n",
       "    </tr>\n",
       "    <tr>\n",
       "      <th>9996</th>\n",
       "      <td>-0.994531</td>\n",
       "      <td>1.445759</td>\n",
       "    </tr>\n",
       "    <tr>\n",
       "      <th>9997</th>\n",
       "      <td>1.170882</td>\n",
       "      <td>-1.276065</td>\n",
       "    </tr>\n",
       "    <tr>\n",
       "      <th>9998</th>\n",
       "      <td>1.061871</td>\n",
       "      <td>-1.318802</td>\n",
       "    </tr>\n",
       "    <tr>\n",
       "      <th>9999</th>\n",
       "      <td>-0.316731</td>\n",
       "      <td>1.340146</td>\n",
       "    </tr>\n",
       "  </tbody>\n",
       "</table>\n",
       "<p>10000 rows × 2 columns</p>\n",
       "</div>"
      ],
      "text/plain": [
       "             x         y\n",
       "0    -1.026942  1.410649\n",
       "1     0.814149 -1.365693\n",
       "2     1.718791  0.362482\n",
       "3     0.677510 -1.685869\n",
       "4     1.060328 -1.363168\n",
       "...        ...       ...\n",
       "9995 -1.121514  1.657424\n",
       "9996 -0.994531  1.445759\n",
       "9997  1.170882 -1.276065\n",
       "9998  1.061871 -1.318802\n",
       "9999 -0.316731  1.340146\n",
       "\n",
       "[10000 rows x 2 columns]"
      ]
     },
     "execution_count": 2,
     "metadata": {},
     "output_type": "execute_result"
    }
   ],
   "source": [
    "data = two_moons_data()\n",
    "data"
   ]
  },
  {
   "cell_type": "markdown",
   "metadata": {},
   "source": [
    "Let's plot it to see what it looks like."
   ]
  },
  {
   "cell_type": "code",
   "execution_count": 3,
   "metadata": {},
   "outputs": [
    {
     "data": {
      "image/png": "[encoded data removed]",
      "text/plain": [
       "<Figure size 432x288 with 1 Axes>"
      ]
     },
     "metadata": {
      "needs_background": "light"
     },
     "output_type": "display_data"
    }
   ],
   "source": [
    "plt.hist2d(data['x'], data['y'], bins=200)\n",
    "plt.xlabel('x')\n",
    "plt.ylabel('y')\n",
    "plt.show()"
   ]
  },
  {
   "cell_type": "markdown",
   "metadata": {},
   "source": [
    "Now we will build an ensemble of normalizing flows using the `FlowEnsemble` class.\n",
    "It is constructed almost identically to `Flow`, except now we also have a parameter `N` which controls how many different copies of the `Flow` are created.\n",
    "Each of these `Flow`s is identical, just with different random parameters instantiated."
   ]
  },
  {
   "cell_type": "code",
   "execution_count": 5,
   "metadata": {},
   "outputs": [],
   "source": [
    "# set number of layers in the RollingSplineCoupling\n",
    "# equal to the input dimension\n",
    "nlayers = data.shape[1]\n",
    "\n",
    "# create the bijector\n",
    "bijector = RollingSplineCoupling(nlayers=nlayers)\n",
    "\n",
    "# create the normalizing flow\n",
    "flowEns = FlowEnsemble(data.columns, bijector, N=4)"
   ]
  },
  {
   "cell_type": "markdown",
   "metadata": {},
   "source": [
    "Now we can train the Ensemble.\n",
    "Just like a refular `Flow`, this is as simple as calling `flowEns.train(data)`."
   ]
  },
  {
   "cell_type": "code",
   "execution_count": 6,
   "metadata": {},
   "outputs": [
    {
     "name": "stdout",
     "output_type": "stream",
     "text": [
      "Flow 0\n",
      "Training 50 epochs \n",
      "Loss:\n",
      "(0) 2.7930\n",
      "(1) 2.4776\n",
      "(3) 2.0141\n",
      "(5) 1.6958\n",
      "(7) 1.6304\n",
      "(9) 1.5129\n",
      "(11) 1.4235\n",
      "(13) 1.3893\n",
      "(15) 1.3501\n",
      "(17) 1.3283\n",
      "(19) 1.3193\n",
      "(21) 1.2925\n",
      "(23) 1.2757\n",
      "(25) 1.2988\n",
      "(27) 1.2948\n",
      "(29) 1.2510\n",
      "(31) 1.2334\n",
      "(33) 1.2507\n",
      "(35) 1.2269\n",
      "(37) 1.2207\n",
      "(39) 1.2225\n",
      "(41) 1.2270\n",
      "(43) 1.2148\n",
      "(45) 1.2406\n",
      "(47) 1.2053\n",
      "(49) 1.2312\n",
      "(50) 1.1996\n",
      "Flow 1\n",
      "Training 50 epochs \n",
      "Loss:\n",
      "(0) 2.8623\n",
      "(1) 2.5115\n",
      "(3) 2.0411\n",
      "(5) 1.7729\n",
      "(7) 1.6241\n",
      "(9) 1.5191\n",
      "(11) 1.4189\n",
      "(13) 1.3591\n",
      "(15) 1.3286\n",
      "(17) 1.3321\n",
      "(19) 1.3283\n",
      "(21) 1.2671\n",
      "(23) 1.2733\n",
      "(25) 1.2783\n",
      "(27) 1.2857\n",
      "(29) 1.2568\n",
      "(31) 1.2315\n",
      "(33) 1.2546\n",
      "(35) 1.2223\n",
      "(37) 1.2194\n",
      "(39) 1.2256\n",
      "(41) 1.2134\n",
      "(43) 1.2184\n",
      "(45) 1.2206\n",
      "(47) 1.2161\n",
      "(49) 1.1963\n",
      "(50) 1.1997\n",
      "Flow 2\n",
      "Training 50 epochs \n",
      "Loss:\n",
      "(0) 2.8077\n",
      "(1) 2.5075\n",
      "(3) 2.0788\n",
      "(5) 1.7661\n",
      "(7) 1.6232\n",
      "(9) 1.5054\n",
      "(11) 1.4244\n",
      "(13) 1.3677\n",
      "(15) 1.3316\n",
      "(17) 1.3282\n",
      "(19) 1.3018\n",
      "(21) 1.2639\n",
      "(23) 1.2603\n",
      "(25) 1.2559\n",
      "(27) 1.2562\n",
      "(29) 1.2280\n",
      "(31) 1.2215\n",
      "(33) 1.2216\n",
      "(35) 1.2252\n",
      "(37) 1.2268\n",
      "(39) 1.2249\n",
      "(41) 1.2194\n",
      "(43) 1.2010\n",
      "(45) 1.2316\n",
      "(47) 1.2203\n",
      "(49) 1.2140\n",
      "(50) 1.2125\n",
      "Flow 3\n",
      "Training 50 epochs \n",
      "Loss:\n",
      "(0) 2.9199\n",
      "(1) 2.5283\n",
      "(3) 2.1105\n",
      "(5) 1.7763\n",
      "(7) 1.6570\n",
      "(9) 1.5809\n",
      "(11) 1.4698\n",
      "(13) 1.4144\n",
      "(15) 1.3720\n",
      "(17) 1.3454\n",
      "(19) 1.3418\n",
      "(21) 1.3015\n",
      "(23) 1.2915\n",
      "(25) 1.2872\n",
      "(27) 1.2728\n",
      "(29) 1.2675\n",
      "(31) 1.2602\n",
      "(33) 1.2544\n",
      "(35) 1.2411\n",
      "(37) 1.2322\n",
      "(39) 1.2421\n",
      "(41) 1.2323\n",
      "(43) 1.2297\n",
      "(45) 1.2425\n",
      "(47) 1.2340\n",
      "(49) 1.2228\n",
      "(50) 1.2266\n",
      "CPU times: user 12min 19s, sys: 58min 41s, total: 1h 11min\n",
      "Wall time: 2min 27s\n"
     ]
    }
   ],
   "source": [
    "%%time\n",
    "losses = flowEns.train(data, verbose=True)"
   ]
  },
  {
   "cell_type": "markdown",
   "metadata": {},
   "source": [
    "The losses returned by a `FlowEnsemble` are saved in a dictionary. Let's plot them."
   ]
  },
  {
   "cell_type": "code",
   "execution_count": 7,
   "metadata": {},
   "outputs": [
    {
     "data": {
      "image/png": "[encoded data removed]",
      "text/plain": [
       "<Figure size 432x288 with 1 Axes>"
      ]
     },
     "metadata": {
      "needs_background": "light"
     },
     "output_type": "display_data"
    }
   ],
   "source": [
    "for n, l in losses.items():\n",
    "    plt.plot(l, label=n)\n",
    "plt.legend()\n",
    "plt.xlabel(\"Epoch\")\n",
    "plt.ylabel(\"Training loss\")\n",
    "plt.show()"
   ]
  },
  {
   "cell_type": "markdown",
   "metadata": {},
   "source": [
    "Perfect!\n",
    "\n",
    "Now we can draw samples from the ensemble, using the `sample` method.\n",
    "Let's draw 10000 samples and make another histogram to see if it matches the data."
   ]
  },
  {
   "cell_type": "code",
   "execution_count": 9,
   "metadata": {},
   "outputs": [],
   "source": [
    "samples = flowEns.sample(10000, seed=0)"
   ]
  },
  {
   "cell_type": "code",
   "execution_count": 10,
   "metadata": {},
   "outputs": [
    {
     "data": {
      "image/png": "[encoded data removed]",
      "text/plain": [
       "<Figure size 432x288 with 1 Axes>"
      ]
     },
     "metadata": {
      "needs_background": "light"
     },
     "output_type": "display_data"
    }
   ],
   "source": [
    "plt.hist2d(samples['x'], samples['y'], bins=200, range=((-2,2),(-2,2)))\n",
    "plt.xlabel('x')\n",
    "plt.ylabel('y')\n",
    "plt.show()"
   ]
  },
  {
   "cell_type": "markdown",
   "metadata": {},
   "source": [
    "Looks great!\n",
    "\n",
    "Note that when sampling from the ensemble, it will draw uniformly from the constituent flows in the ensemble.\n",
    "So, e.g., if your ensemble has 4 flows and you ask for 16 samples, it will draw 4 sample from each of the 4 flows in the sample.\n",
    "The process is slightly different if the number of flows doesn't evenly divide the number of samples.\n",
    "If you have 4 flows and ask for 17 samples, it will draw 5 samples from each flow, so that you now have 20 samples, and then it will randomly select 17 of those.\n",
    "\n",
    "There is also one more important feature to note.\n",
    "In the `sample` method, if you set `returnEnsemble=True`, then it will sample `nsamples` from each flow, and then will return all of those samples, sorted by the flow they came from.\n",
    "This allows you to e.g. compare samples from each of the constituent flows and see if they're consistent with one another.\n",
    "\n",
    "Let's draw 4 samples from each flow and print them so we can get an idea of how this works:"
   ]
  },
  {
   "cell_type": "code",
   "execution_count": 16,
   "metadata": {},
   "outputs": [
    {
     "data": {
      "text/html": [
       "<div>\n",
       "<style scoped>\n",
       "    .dataframe tbody tr th:only-of-type {\n",
       "        vertical-align: middle;\n",
       "    }\n",
       "\n",
       "    .dataframe tbody tr th {\n",
       "        vertical-align: top;\n",
       "    }\n",
       "\n",
       "    .dataframe thead th {\n",
       "        text-align: right;\n",
       "    }\n",
       "</style>\n",
       "<table border=\"1\" class=\"dataframe\">\n",
       "  <thead>\n",
       "    <tr style=\"text-align: right;\">\n",
       "      <th></th>\n",
       "      <th></th>\n",
       "      <th>x</th>\n",
       "      <th>y</th>\n",
       "    </tr>\n",
       "  </thead>\n",
       "  <tbody>\n",
       "    <tr>\n",
       "      <th rowspan=\"4\" valign=\"top\">Flow 0</th>\n",
       "      <th>0</th>\n",
       "      <td>-0.528685</td>\n",
       "      <td>-0.060074</td>\n",
       "    </tr>\n",
       "    <tr>\n",
       "      <th>1</th>\n",
       "      <td>-0.701999</td>\n",
       "      <td>1.550957</td>\n",
       "    </tr>\n",
       "    <tr>\n",
       "      <th>2</th>\n",
       "      <td>-1.081160</td>\n",
       "      <td>1.425773</td>\n",
       "    </tr>\n",
       "    <tr>\n",
       "      <th>3</th>\n",
       "      <td>-0.799602</td>\n",
       "      <td>1.419930</td>\n",
       "    </tr>\n",
       "    <tr>\n",
       "      <th rowspan=\"4\" valign=\"top\">Flow 1</th>\n",
       "      <th>0</th>\n",
       "      <td>-0.215820</td>\n",
       "      <td>-0.538099</td>\n",
       "    </tr>\n",
       "    <tr>\n",
       "      <th>1</th>\n",
       "      <td>-0.639688</td>\n",
       "      <td>1.551618</td>\n",
       "    </tr>\n",
       "    <tr>\n",
       "      <th>2</th>\n",
       "      <td>-1.024174</td>\n",
       "      <td>1.450489</td>\n",
       "    </tr>\n",
       "    <tr>\n",
       "      <th>3</th>\n",
       "      <td>-0.728037</td>\n",
       "      <td>1.409663</td>\n",
       "    </tr>\n",
       "    <tr>\n",
       "      <th rowspan=\"4\" valign=\"top\">Flow 2</th>\n",
       "      <th>0</th>\n",
       "      <td>-0.509558</td>\n",
       "      <td>-0.055703</td>\n",
       "    </tr>\n",
       "    <tr>\n",
       "      <th>1</th>\n",
       "      <td>-0.840349</td>\n",
       "      <td>1.471140</td>\n",
       "    </tr>\n",
       "    <tr>\n",
       "      <th>2</th>\n",
       "      <td>-1.181892</td>\n",
       "      <td>1.330406</td>\n",
       "    </tr>\n",
       "    <tr>\n",
       "      <th>3</th>\n",
       "      <td>-1.002298</td>\n",
       "      <td>1.281229</td>\n",
       "    </tr>\n",
       "    <tr>\n",
       "      <th rowspan=\"4\" valign=\"top\">Flow 3</th>\n",
       "      <th>0</th>\n",
       "      <td>-0.486350</td>\n",
       "      <td>-0.253235</td>\n",
       "    </tr>\n",
       "    <tr>\n",
       "      <th>1</th>\n",
       "      <td>-0.678824</td>\n",
       "      <td>1.566026</td>\n",
       "    </tr>\n",
       "    <tr>\n",
       "      <th>2</th>\n",
       "      <td>-1.135184</td>\n",
       "      <td>1.381792</td>\n",
       "    </tr>\n",
       "    <tr>\n",
       "      <th>3</th>\n",
       "      <td>-0.792047</td>\n",
       "      <td>1.410186</td>\n",
       "    </tr>\n",
       "  </tbody>\n",
       "</table>\n",
       "</div>"
      ],
      "text/plain": [
       "                 x         y\n",
       "Flow 0 0 -0.528685 -0.060074\n",
       "       1 -0.701999  1.550957\n",
       "       2 -1.081160  1.425773\n",
       "       3 -0.799602  1.419930\n",
       "Flow 1 0 -0.215820 -0.538099\n",
       "       1 -0.639688  1.551618\n",
       "       2 -1.024174  1.450489\n",
       "       3 -0.728037  1.409663\n",
       "Flow 2 0 -0.509558 -0.055703\n",
       "       1 -0.840349  1.471140\n",
       "       2 -1.181892  1.330406\n",
       "       3 -1.002298  1.281229\n",
       "Flow 3 0 -0.486350 -0.253235\n",
       "       1 -0.678824  1.566026\n",
       "       2 -1.135184  1.381792\n",
       "       3 -0.792047  1.410186"
      ]
     },
     "execution_count": 16,
     "metadata": {},
     "output_type": "execute_result"
    }
   ],
   "source": [
    "flowEns.sample(4, seed=0, returnEnsemble=True)"
   ]
  },
  {
   "cell_type": "markdown",
   "metadata": {},
   "source": [
    "We can also use the ensemble to calculate redshift posteriors using the `posterior` method. This works by calculating the unnormalized posterior for each constituent flow, averaging over them all, then normalizing. (Note we can do the same thing with the `log_prob` method)"
   ]
  },
  {
   "cell_type": "code",
   "execution_count": 19,
   "metadata": {},
   "outputs": [],
   "source": [
    "grid = np.arange(-2, 2.02, 0.02)\n",
    "pdfs = flowEns.posterior(data, column=\"x\", grid=grid)"
   ]
  },
  {
   "cell_type": "markdown",
   "metadata": {},
   "source": [
    "Let's plot the first posterior."
   ]
  },
  {
   "cell_type": "code",
   "execution_count": 20,
   "metadata": {},
   "outputs": [
    {
     "data": {
      "image/png": "[encoded data removed]",
      "text/plain": [
       "<Figure size 432x288 with 1 Axes>"
      ]
     },
     "metadata": {
      "needs_background": "light"
     },
     "output_type": "display_data"
    }
   ],
   "source": [
    "plt.plot(grid, pdfs[0])\n",
    "plt.title(f\"$y$ = {data['y'][0]:.2f}\")\n",
    "plt.xlabel(\"$x$\")\n",
    "plt.ylabel(\"$p(x|y)$\")\n",
    "plt.show()"
   ]
  },
  {
   "cell_type": "markdown",
   "metadata": {},
   "source": [
    "Similarly to the `sample` method, we can set `returnEnsemble=True` to return the pdfs for each of the constituent flows."
   ]
  },
  {
   "cell_type": "code",
   "execution_count": 21,
   "metadata": {},
   "outputs": [],
   "source": [
    "ensemble_pdfs = flowEns.posterior(data, column=\"x\", grid=grid, returnEnsemble=True)"
   ]
  },
  {
   "cell_type": "markdown",
   "metadata": {},
   "source": [
    "the returned array has shape (nsamples, nflows, grid.size):"
   ]
  },
  {
   "cell_type": "code",
   "execution_count": 22,
   "metadata": {},
   "outputs": [
    {
     "data": {
      "text/plain": [
       "(10000, 4, 201)"
      ]
     },
     "execution_count": 22,
     "metadata": {},
     "output_type": "execute_result"
    }
   ],
   "source": [
    "ensemble_pdfs.shape"
   ]
  },
  {
   "cell_type": "markdown",
   "metadata": {},
   "source": [
    "Let's plot all the pdfs from the ensemble for the first galaxy:"
   ]
  },
  {
   "cell_type": "code",
   "execution_count": 24,
   "metadata": {},
   "outputs": [
    {
     "data": {
      "image/png": "[encoded data removed]",
      "text/plain": [
       "<Figure size 432x288 with 1 Axes>"
      ]
     },
     "metadata": {
      "needs_background": "light"
     },
     "output_type": "display_data"
    }
   ],
   "source": [
    "for i in range(ensemble_pdfs.shape[1]):\n",
    "    plt.plot(grid, ensemble_pdfs[0,i])\n",
    "plt.plot(grid, pdfs[0], ls=\"--\", c=\"k\", label=\"Mean\")\n",
    "plt.legend()\n",
    "plt.title(f\"$y$ = {data['y'][0]:.2f}\")\n",
    "plt.xlabel(\"$x$\")\n",
    "plt.ylabel(\"$p(x|y)$\")\n",
    "plt.show()"
   ]
  },
  {
   "cell_type": "markdown",
   "metadata": {},
   "source": [
    "Now let's save the ensemble to a file that can be loaded later:"
   ]
  },
  {
   "cell_type": "code",
   "execution_count": 26,
   "metadata": {},
   "outputs": [],
   "source": [
    "flowEns.save(\"example-ensemble.pkl\")"
   ]
  },
  {
   "cell_type": "markdown",
   "metadata": {},
   "source": [
    "This file can be loaded on Flow instantiation:"
   ]
  },
  {
   "cell_type": "code",
   "execution_count": 28,
   "metadata": {},
   "outputs": [],
   "source": [
    "flowEns = FlowEnsemble(file=\"example-ensemble.pkl\")"
   ]
  },
  {
   "cell_type": "code",
   "execution_count": null,
   "metadata": {},
   "outputs": [],
   "source": []
  }
 ],
 "metadata": {
  "interpreter": {
   "hash": "ddb71c8dc1ffef2557a2c9d44be5bf38b52fc98479b572e5007cdf63195ae033"
  },
  "kernelspec": {
   "display_name": "Python 3.9.1 64-bit ('pzflow': conda)",
   "name": "python3"
  },
  "language_info": {
   "name": "python",
   "version": ""
  }
 },
 "nbformat": 4,
 "nbformat_minor": 4
}