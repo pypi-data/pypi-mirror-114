{
 "cells": [
  {
   "cell_type": "code",
   "execution_count": 1,
   "metadata": {},
   "outputs": [],
   "source": [
    "#hide\n",
    "from planetarypy.config import *"
   ]
  },
  {
   "cell_type": "markdown",
   "metadata": {},
   "source": [
    "# PlanetaryPy\n",
    "\n",
    "> This will become (part of) the core package of the [PlanetaryPy](https://planetarypy.org/) organisation.\n",
    "\n",
    "This is an alpha release for testing."
   ]
  },
  {
   "cell_type": "markdown",
   "metadata": {},
   "source": [
    "## Current focus\n",
    "\n",
    "* Enable finding PDS data by downloading and managing PDS3 index files\n",
    "  * Conversion of these index files to `pandas.DataFrames` for search and filtering\n",
    "* Downloading and local management of PDS3 data as identified via the index files or directly via data/product IDs."
   ]
  },
  {
   "cell_type": "markdown",
   "metadata": {},
   "source": [
    "## Install"
   ]
  },
  {
   "cell_type": "markdown",
   "metadata": {},
   "source": [
    "`pip install planetarypy`"
   ]
  }
 ],
 "metadata": {
  "kernelspec": {
   "display_name": "Python 3 (ipykernel)",
   "language": "python",
   "name": "python3"
  },
  "language_info": {
   "codemirror_mode": {
    "name": "ipython",
    "version": 3
   },
   "file_extension": ".py",
   "mimetype": "text/x-python",
   "name": "python",
   "nbconvert_exporter": "python",
   "pygments_lexer": "ipython3",
   "version": "3.8.10"
  }
 },
 "nbformat": 4,
 "nbformat_minor": 4
}
