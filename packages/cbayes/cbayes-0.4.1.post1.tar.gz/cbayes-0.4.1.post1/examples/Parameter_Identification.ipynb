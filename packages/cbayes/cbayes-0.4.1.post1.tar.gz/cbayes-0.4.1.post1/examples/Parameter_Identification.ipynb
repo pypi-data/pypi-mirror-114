{
 "cells": [
  {
   "cell_type": "code",
   "execution_count": 1,
   "metadata": {},
   "outputs": [],
   "source": [
    "import scipy.stats as sstats\n",
    "import numpy as np\n",
    "import matplotlib.pyplot as plt\n",
    "import ipywidgets as wid\n",
    "import progressbar"
   ]
  },
  {
   "cell_type": "code",
   "execution_count": 2,
   "metadata": {},
   "outputs": [],
   "source": [
    "plt.rcParams['font.size'] = 18"
   ]
  },
  {
   "cell_type": "markdown",
   "metadata": {},
   "source": [
    "# Problem Setup \n",
    "\n",
    "- We have a one-dimensional input space $\\Lambda \\subset \\mathcal{R}$ \n",
    "    - we choose some nominal value $\\lambda_0$ to represent a true parameter that we attempt to identify\n",
    "    - we map this value to the output space and perturb it with noise from a mean-zero gaussian distribution with\n",
    "    - we use an initial distribution that is gaussian\n",
    "    - we propagate $N$ samples from this disribution, so the output matrix has each sample in a column. \n",
    "    \n",
    "- Let $M$ denote the number of observations made of an experiment (number of trials/repetitions)\n",
    "    - these are rows in our output matrix.\n",
    "    \n",
    "- We define our map $A: \\mathcal{R} \\to \\mathcal{R}^M$ to repeat the values and represent multiple trials\n"
   ]
  },
  {
   "cell_type": "markdown",
   "metadata": {},
   "source": [
    "## Exponential Decay"
   ]
  },
  {
   "cell_type": "code",
   "execution_count": 3,
   "metadata": {},
   "outputs": [],
   "source": [
    "lam_0 = 0.25\n",
    "def makemodel(t):\n",
    "    def model(lam = np.array([[lam_0]]) ):\n",
    "        QoI = lam[0,:].reshape(-1,1)*np.exp(-0.5*t)\n",
    "        return QoI.T\n",
    "    return model"
   ]
  },
  {
   "cell_type": "markdown",
   "metadata": {},
   "source": [
    "## Harmonic Oscillator"
   ]
  },
  {
   "cell_type": "code",
   "execution_count": 4,
   "metadata": {},
   "outputs": [],
   "source": [
    "lam_0 = 0.25\n",
    "def makemodel(t):\n",
    "    def model(lam = np.array([[lam_0]]) ):\n",
    "        QoI = (0.25 - lam[0,:].reshape(-1,1))*np.cos(np.pi*t)\n",
    "        return QoI.T\n",
    "    return model"
   ]
  },
  {
   "cell_type": "code",
   "execution_count": 5,
   "metadata": {},
   "outputs": [],
   "source": [
    "# def makemodel(t):\n",
    "#     num_obs = len(t)\n",
    "#     t = t.reshape(1,-1)\n",
    "#     def model(lam = None):\n",
    "#         if lam is None: \n",
    "#             lam = np.zeros((1,3))\n",
    "#             lam[:,0] = initial_condition_0\n",
    "#             lam[:,1] = decay_rate_0\n",
    "#             lam[:,2] = frequency_0\n",
    "#         initial_condition = lam[:,0].reshape(-1,1)\n",
    "#         decay_rate = lam[:,1].reshape(-1,1)\n",
    "#         frequency = lam[:,2].reshape(-1,1)\n",
    "#         QoI = initial_condition*np.exp(-decay_rate*t)\n",
    "#         QoI *= np.cos(np.multiply(0.5*frequency*t, 2*np.pi))\n",
    "#         if QoI.shape[0] == 1:\n",
    "#             return QoI.reshape(1,-1) # this allows support for simpler 1D plotting.\n",
    "#         else:\n",
    "#             return QoI\n",
    "#     return model"
   ]
  },
  {
   "cell_type": "markdown",
   "metadata": {},
   "source": [
    "# All in One"
   ]
  },
  {
   "cell_type": "code",
   "execution_count": 6,
   "metadata": {},
   "outputs": [],
   "source": [
    "def solve_problem(N = 1000, \n",
    "                prior_mean = 0.0,\n",
    "                prior_std = 0.25,\n",
    "                M = 10, \n",
    "                data_std = 0.0125,\n",
    "                lam_true = lam_0, \n",
    "                time = (1,5),\n",
    "                seed=None,\n",
    "                plot=True):\n",
    "    \n",
    "    start_time, end_time = time # unpack some parameters\n",
    "    N, M = int(N), int(M) # enforce types \n",
    "    if seed is not None:\n",
    "        seed = int(seed)\n",
    "        np.random.seed(seed)\n",
    "\n",
    "    t = np.linspace(start_time, end_time, M)\n",
    "    ed_model = makemodel(t)\n",
    "    \n",
    "    def model(input_samples):\n",
    "#         output_samples = A@input_samples # matrix multiplication \n",
    "        output_samples = ed_model(input_samples)\n",
    "        return output_samples\n",
    "    \n",
    "    true_data = model(np.array([[lam_true]]))\n",
    "    \n",
    "    observed_data = true_data + data_std*np.random.randn(M).reshape(-1,1)\n",
    "    obs_data_mean, obs_data_std = np.mean(observed_data), np.std(observed_data)\n",
    "#     print('Stats on observed data:', 'mean:', obs_data_mean, 'sd:', obs_data_std)\n",
    "    initial_dist = sstats.distributions.norm(loc=prior_mean, scale=prior_std)\n",
    "    # initial_dist = sstats.distributions.uniform(loc=0, scale=0.5)\n",
    "    \n",
    "    # PLOTTING PARAMETERS\n",
    "    mesh_sz = 2500\n",
    "\n",
    "    initial_eval_mesh = np.linspace(-1, 1, mesh_sz)\n",
    "    \n",
    "\n",
    "    if plot:\n",
    "        # plt.figure(figsize=(10,5))\n",
    "        # plt.scatter(true_data[0],[1], c='r', s=100, label='truth')\n",
    "        # plt.scatter(observed_data,np.ones(M), label='data')\n",
    "        # plt.legend()\n",
    "        # plt.xlim(0.15, 0.35)\n",
    "\n",
    "        \n",
    "        fig, axs = plt.subplots(ncols=2, nrows=2, figsize=(20,15))\n",
    "        ### VISUALIZE INITIAL VS DATA OBSERVED\n",
    "\n",
    "        axs[0,0].plot(initial_eval_mesh, initial_dist.pdf(initial_eval_mesh),c='k',lw=5)\n",
    "        for i in range(M):\n",
    "            sample = observed_data[i]\n",
    "            temp_dist = sstats.distributions.norm(loc=sample, scale=data_std)\n",
    "            axs[0,0].plot(initial_eval_mesh, temp_dist.pdf(initial_eval_mesh))\n",
    "        # plt.xlim(0.15, 0.3)\n",
    "        axs[0,0].set_ylim(0,2)\n",
    "        axs[0,0].set_title(\"Initial Density and observed data with uncertainty\")\n",
    "\n",
    "\n",
    "    # generate input samples and map them to data space\n",
    "    input_samples = initial_dist.rvs(N).reshape(1,-1)\n",
    "    if plot: print('input sample shape:', input_samples.shape)\n",
    "\n",
    "    # define map and output space\n",
    "    output_samples = model(input_samples)\n",
    "    if plot: print('output sample shape:', output_samples.shape)\n",
    "\n",
    "    def loss_fun(output_samples):\n",
    "#         return (1./M)*np.sum( np.power(np.divide(output_samples - observed_data, data_std), 2), axis=0)\n",
    "#         return (1./np.sqrt(2*M))*np.sum( np.power(np.divide(output_samples - observed_data, data_std) , 2) - 1.0, axis=0)\n",
    "        return (1./data_std)*(1./np.sqrt(M))*np.sum( output_samples - observed_data, axis=0)\n",
    "    \n",
    "    qoi = loss_fun(output_samples)\n",
    "        \n",
    "    \n",
    "    \n",
    "    ### Define Pushforward of Initial - choose method\n",
    "    # FIT PF\n",
    "#     a, l, s = sstats.distributions.gamma.fit(qoi)\n",
    "#     # print(a, l, s)\n",
    "#     gamma_fit = sstats.distributions.gamma(a=a,loc=l,scale=s)\n",
    "\n",
    "#     d, l, s = sstats.distributions.chi2.fit(qoi)\n",
    "#     chi2_fit = sstats.distributions.chi2(df=d,loc=l,scale=s)\n",
    "\n",
    "    # COMPUTE ESTIMATE OF PUSHFORWARD DISTRIBUTION\n",
    "    gkde_fit = sstats.gaussian_kde(qoi)\n",
    "    def pf_initial_dist_PDF(x):\n",
    "        # return chi2_fit.pdf(x)\n",
    "        # return gamma_fit.pdf(x)\n",
    "        return gkde_fit.evaluate(x)\n",
    "\n",
    "    eval_pf_initial = pf_initial_dist_PDF(qoi)\n",
    "    # print('Pushforward of Initial Distribution computed. shape:', eval_pf_initial.shape)\n",
    "\n",
    "    # Define Observed Distribution\n",
    "    obs_dist = sstats.distributions.norm()\n",
    "#     obs_dist = sstats.distributions.gamma(a=M/2.0, scale=2.0/M)\n",
    "    # obs_dist = sstats.distributions.chi2(df=M)\n",
    "    eval_obs = obs_dist.pdf(qoi)\n",
    "\n",
    "    \n",
    "    if plot:\n",
    "        num_bins = 100\n",
    "        print('Loss fun min:', qoi.min(), 'Loss fun max:', qoi.max())\n",
    "        # x_eval = np.linspace(-1000,1000,mesh_sz*5)\n",
    "        x_eval = np.linspace(qoi.min(), qoi.max(), mesh_sz*5)\n",
    "        \n",
    "        #     gamma_eval = gamma_fit.pdf(x_eval)\n",
    "        #     chi2_eval = chi2_fit.pdf(x_eval)\n",
    "        gkde_eval = gkde_fit.evaluate(x_eval)\n",
    "        axs[0,1].hist(qoi, num_bins, density=True)\n",
    "    #     axs[0,1].plot(x_eval, gamma_eval, c='b', label='gamma fit')\n",
    "    #     axs[0,1].plot(x_eval, chi2_eval, c='r', label='chi2 fit')\n",
    "        axs[0,1].plot(x_eval, gkde_eval, '--',c='r', label='gkde fit')\n",
    "        axs[0,1].plot(x_eval, obs_dist.pdf(x_eval), c='k', label = 'observed')\n",
    "        axs[0,1].set_xlim(-5,5)\n",
    "        axs[0,1].set_ylim(0,np.max(gkde_eval))\n",
    "        axs[0,1].legend()\n",
    "\n",
    "\n",
    "\n",
    "    ### SOLVE INVERSE PROBLEM \n",
    "    eval_initial = initial_dist.pdf(input_samples)\n",
    "#     print('MIN oF PF_INPUT_EVAL:.', np.min(eval_pf_initial))\n",
    "\n",
    "    ratio = np.divide(eval_obs, eval_pf_initial) # COMPUTE RATIO\n",
    "    updated_dist = eval_initial*ratio # EVALUATE UPDATED DENSITY ON INPUT SAMPLES\n",
    "    rn = np.random.rand(N)\n",
    "    accepted_inds = [i for i in range(N) if ratio[i] > rn[i]]\n",
    "\n",
    "    def eval_updated(x): # takes input sample and evaluates it through the updated density\n",
    "        y = loss_fun(model(x.reshape(1,-1)))\n",
    "        return  initial_dist.pdf(x)*np.divide(obs_dist.pdf(y), pf_initial_dist_PDF(y))\n",
    "    \n",
    "    input_samples = input_samples.ravel() # reshape 1D vectors for easier access\n",
    "    updated_dist = updated_dist.ravel()\n",
    "    \n",
    "    \n",
    "    updated_dist_eval_at_truth = eval_updated(np.array([lam_true]))\n",
    "    updated_eval_mesh = np.linspace(0.2, 0.3, mesh_sz)\n",
    "    updated_dist_evaluated_on_mesh = eval_updated(updated_eval_mesh) \n",
    "    \n",
    "    max_input_sample_index = np.argmax(updated_dist)\n",
    "    if lam_true != 0:\n",
    "        rel_error_mc = np.abs( (input_samples[max_input_sample_index] - lam_true )/lam_true )\n",
    "    else:\n",
    "        rel_error_mc = np.abs( (input_samples[max_input_sample_index] - lam_true )/1.0 )\n",
    "    \n",
    "    error_mc = np.mean(np.power(output_samples[:,max_input_sample_index] - observed_data,2))\n",
    "    \n",
    "    \n",
    "    # VISUALIZE UPDATED DENSITY\n",
    "    max_eval_sample_index = np.argmax(updated_dist_evaluated_on_mesh)\n",
    "    \n",
    "    if lam_true != 0:\n",
    "        rel_error_mesh = np.abs( (updated_eval_mesh[max_eval_sample_index] - lam_true )/lam_true )\n",
    "    else:\n",
    "        rel_error_mesh = np.abs( (updated_eval_mesh[max_eval_sample_index] - lam_true )/1.0 )\n",
    "        print('warning: the relative error computed is actually absolute error b/c lam_true = 0.')\n",
    "    \n",
    "    # PLOT RESULTS AND OBSERVED DATA\n",
    "\n",
    "    if plot:\n",
    "        print('Ratio computed. Mean:', np.mean(ratio))\n",
    "        print('data space predictive error: ', error_mc)\n",
    "        print('parameter space  error: ', rel_error_mc)\n",
    "        \n",
    "        axs[1,1].vlines(lam_true, 0, updated_dist_eval_at_truth, color='b', label='true value')\n",
    "        axs[1,1].plot(updated_eval_mesh, updated_dist_evaluated_on_mesh, c='k', label='updated eval, mesh: %d'%mesh_sz)\n",
    "        axs[1,1].scatter(input_samples[max_input_sample_index], updated_dist[max_input_sample_index], c='b', s=250, label='Max (MC), RE:%1.2e'%rel_error_mc)\n",
    "    #     axs[1,1].scatter(0.25, updated_dist_eval_at_truth, s=25, label='density val @ truth: %2.4f'%updated_dist_eval_at_truth)\n",
    "        axs[1,1].scatter(updated_eval_mesh[max_eval_sample_index], updated_dist_evaluated_on_mesh[max_eval_sample_index], c='orange', s=200, label='Max (mesh), RE:%1.2e'%rel_error_mesh)\n",
    "\n",
    "    #     axs[1,1].set_xlim(0.15, 0.35)\n",
    "        axs[1,1].set_xlim(0.2,0.3)\n",
    "        # axs[1,1].set_ylim(0, 200)\n",
    "        axs[1,1].set_title('Updated Density evaluated')\n",
    "    \n",
    "\n",
    "    \n",
    "    \n",
    "    if plot:\n",
    "        # axs[1,0].scatter(input_samples[0,accepted_inds], updated_dist[0,accepted_inds])\n",
    "        if len(accepted_inds) > 1: # KDE of accepted samples - an estimate of updated distribution\n",
    "            g = sstats.gaussian_kde(input_samples[accepted_inds])\n",
    "            axs[1,0].plot(initial_eval_mesh, g.evaluate(initial_eval_mesh), \n",
    "                        label='gkde of %d accepted'%len(accepted_inds), c='b', lw=2)\n",
    "\n",
    "#         for i in range(M-1): # plot the assumed noise distribution around each data point.\n",
    "#             sample = observed_data[i]\n",
    "#             temp_dist = sstats.distributions.norm(loc=sample, scale=data_std)\n",
    "#             axs[1,0].plot(initial_eval_mesh, temp_dist.pdf(initial_eval_mesh), c='k', alpha=0.1)\n",
    "        axs[1,0].plot(initial_eval, sstats.distributions.norm.pdf(loc=observed_data[M-1], \n",
    "                        scale=data_std, x=initial_eval), c='orange', alpha=0.75, label='observations') # OBSERVED DATA\n",
    "\n",
    "\n",
    "        if len(accepted_inds) > 1: # SCATTER ACCEPTED SAMPLES\n",
    "            sample = input_samples[accepted_inds[0]]\n",
    "            axs[1,0].scatter(sample, g.evaluate(sample), c='red', alpha=1, label='accepted samples')\n",
    "            for i in range(1,len(accepted_inds)):\n",
    "                sample = input_samples[accepted_inds[i]]\n",
    "                axs[1,0].scatter(sample, g.evaluate(sample), c='red', alpha=1)\n",
    "            axs[1,1].scatter(input_samples[accepted_inds], updated_dist[accepted_inds], c='red', s=50, label='accepted')\n",
    "        axs[1,1].scatter(input_samples, updated_dist,  c='k', s=10, label='initial samples')    \n",
    "\n",
    "\n",
    "        reference_dist = sstats.distributions.norm(loc=lam_true, scale=data_std)\n",
    "        ref_dist_eval = reference_dist.pdf(initial_eval_mesh)\n",
    "#         axs[1,0].plot(initial_eval_mesh, ref_dist_eval, label='N(%2.4f, %2.5f$^2$)'%(lam_true, data_std), c='green', lw=3, alpha=1.0)\n",
    "        axs[1,0].vlines(lam_true, 0, np.max(ref_dist_eval))\n",
    "        \n",
    "        if M == -1: # can't compute std on sample size of 1, this makes no sense for timeseries\n",
    "            approx_dist = sstats.distributions.norm(loc=obs_data_mean, scale=obs_data_std)\n",
    "            axs[1,0].plot(initial_eval_mesh, approx_dist.pdf(initial_eval_mesh), \n",
    "                label='N(%2.4f, %2.5f$^2$)'%(obs_data_mean, obs_data_std), c='purple', lw=3, alpha=1.0)\n",
    "            # axs[1,0].plot(initial_eval_mesh, g.evaluate(initial_eva_meshl), \n",
    "#                 label='gkde of %d accepted'%len(accepted_inds), c='b')\n",
    "\n",
    "#         axs[1,0].set_xlim(0.2,0.3)\n",
    "    #     axs[1,0].set_xlim(0.15, 0.35)\n",
    "        axs[1,0].set_title(\"Updated Density, observed data with uncertainty\")\n",
    "        axs[1,0].legend(fontsize=12)\n",
    "        axs[1,1].legend(fontsize=12)\n",
    "    if plot:\n",
    "        plt.show()\n",
    "        \n",
    "    SUMMARY = {\n",
    "        'N': N,\n",
    "        'M': M, \n",
    "        'seed': seed, \n",
    "        'prior_mean': prior_mean,\n",
    "        'prior_std': prior_std,\n",
    "        'data_std': data_std,\n",
    "        'lam_true': lam_true,\n",
    "        'mud_val': input_samples[max_input_sample_index],\n",
    "        'rel_error_mc': rel_error_mc,\n",
    "        'obs_data_mean': obs_data_mean,\n",
    "        'obs_data_std': obs_data_std,\n",
    "        'num_accepted': len(accepted_inds),\n",
    "        'time': [start_time, end_time],\n",
    "        'mean_r': ratio.mean(),\n",
    "        'qoi_min': qoi.min(),\n",
    "        'qoi_max': qoi.max()\n",
    "    }\n",
    "    if not plot:\n",
    "        return SUMMARY, input_samples[accepted_inds], observed_data"
   ]
  },
  {
   "cell_type": "code",
   "execution_count": 7,
   "metadata": {},
   "outputs": [
    {
     "data": {
      "application/vnd.jupyter.widget-view+json": {
       "model_id": "c6413c779ddf46d5b8f405d0410a554b",
       "version_major": 2,
       "version_minor": 0
      },
      "text/plain": [
       "interactive(children=(IntSlider(value=1000, continuous_update=False, description='N', max=10000, min=1000, ste…"
      ]
     },
     "metadata": {},
     "output_type": "display_data"
    },
    {
     "data": {
      "text/plain": [
       "<function __main__.solve_problem>"
      ]
     },
     "execution_count": 7,
     "metadata": {},
     "output_type": "execute_result"
    }
   ],
   "source": [
    "wid.interact_manual(solve_problem, \n",
    "                prior_mean=wid.FloatSlider(min=-0.25, max=0.25, step=0.05, continuous_update=False),  \n",
    "                prior_std=wid.FloatSlider(value=0.25, min=0.125, max=0.5, step=0.125, readout_format='.2e', continuous_update=False),     \n",
    "                data_std=wid.FloatSlider(value=0.01, min=0.0025, max=0.0125, step=0.0025, readout_format='.2e', continuous_update=False),\n",
    "                N = wid.IntSlider(value=500, min=1000, max=10000, step=1000, continuous_update=False), \n",
    "                M = wid.IntSlider(value=1, min=1, max=250, continuous_update=False), \n",
    "                time = wid.FloatRangeSlider(value=(1,5), min=1, max=5, step=0.05, continuous_update=False),\n",
    "                lam_true = wid.fixed(value=lam_0, continuous_update=False),\n",
    "                seed=wid.IntSlider(value=12, min=1, max=21, continuous_update=False),\n",
    "                plot = wid.fixed(True))\n"
   ]
  },
  {
   "cell_type": "markdown",
   "metadata": {},
   "source": [
    "# Make Predictions"
   ]
  },
  {
   "cell_type": "code",
   "execution_count": 8,
   "metadata": {},
   "outputs": [
    {
     "data": {
      "application/vnd.jupyter.widget-view+json": {
       "model_id": "fab9aea64e7548688a19696347aaef32",
       "version_major": 2,
       "version_minor": 0
      },
      "text/plain": [
       "interactive(children=(IntSlider(value=500, continuous_update=False, description='N', max=10000, min=500, step=…"
      ]
     },
     "metadata": {},
     "output_type": "display_data"
    },
    {
     "data": {
      "text/plain": [
       "<function __main__.make_predictions>"
      ]
     },
     "execution_count": 8,
     "metadata": {},
     "output_type": "execute_result"
    }
   ],
   "source": [
    "def make_predictions(N = 1000, \n",
    "                prior_mean = 0.0,\n",
    "                prior_std = 0.25,\n",
    "                M = 10, \n",
    "                data_std = 0.001,\n",
    "                lam_true = 0.5, \n",
    "                time = (1,5),\n",
    "                seed=None, \n",
    "                plot=False):\n",
    "\n",
    "    S, I, O = solve_problem(N, prior_mean, prior_std, M, data_std, lam_true, time, seed, plot)\n",
    "\n",
    "    start_time, end_time = S['time']\n",
    "    t = np.linspace(start_time, end_time, S['M'])\n",
    "    tt = np.linspace(0, 10, 1000)\n",
    "    model = makemodel(tt)\n",
    "    u_acc = model(I.reshape(1,-1))\n",
    "    obs_data = O\n",
    "    plt.figure(figsize=(20,10))\n",
    "\n",
    "    dd = np.mean(u_acc, axis=1)\n",
    "    plt.plot(tt, dd, c='k', alpha=1, lw=5, label='Mean Predicted Signal')\n",
    "\n",
    "    for i in range(len(I)):\n",
    "        d = u_acc[:,i]\n",
    "        if i==1:\n",
    "            plt.plot(tt, d, c='b', alpha=0.25, lw=1, label='Accepted Samples')\n",
    "        else:\n",
    "            plt.plot(tt, d, c='b', alpha=0.05, lw=1)\n",
    "\n",
    "    plt.scatter(t, obs_data, marker='o', c='r', s=50, alpha=1, label='Observed Data')\n",
    "    plt.plot(tt, model(np.array(S['mud_val']).reshape(-1,1)), c='green', lw=3, label='MUD prediction')\n",
    "    plt.plot(tt, model(), ls=':', c='k', lw=3, label='true signal')\n",
    "\n",
    "    plt.ylabel('Height', fontsize=18)\n",
    "    plt.xlabel('Time (s)', fontsize=18)\n",
    "    plt.title('Recovered Signal based on Accepted Samples', fontsize=28)\n",
    "    plt.legend(fontsize=18, loc='upper left')\n",
    "    plt.xlim([0,5+.05])\n",
    "    plt.ylim([-0.05,0.05])\n",
    "    # plt.hlines(np.mean(I),0,5)\n",
    "    # plt.savefig('recovered{}.png'.format(problem.upper()))\n",
    "    plt.legend()\n",
    "    plt.show()\n",
    "    \n",
    "    return None\n",
    "\n",
    "wid.interact_manual(make_predictions, \n",
    "                prior_mean=wid.FloatSlider(min=-0.25, max=0.25, step=0.05, continuous_update=False),  \n",
    "                prior_std=wid.FloatSlider(value=0.25, min=0.125, max=0.5, step=0.125, readout_format='.2e', continuous_update=False),     \n",
    "                data_std=wid.FloatSlider(value=0.01, min=0.0025, max=0.05, step=0.0025, readout_format='.2e', continuous_update=False),\n",
    "                N = wid.IntSlider(value=500, min=500, max=10000, step=1000, continuous_update=False), \n",
    "                M = wid.IntSlider(value=1, min=1, max=50, continuous_update=False), \n",
    "                time = wid.FloatRangeSlider(value=(1,5), min=1, max=5, step=0.05, continuous_update=False),\n",
    "                lam_true = wid.fixed(value=lam_0, continuous_update=False),\n",
    "                seed=wid.fixed(None),  \n",
    "#                 seed=wid.IntSlider(value=12, min=1, max=21, continuous_update=False),\n",
    "                plot = wid.fixed(False))\n"
   ]
  },
  {
   "cell_type": "markdown",
   "metadata": {},
   "source": [
    "## Conduct Experiments"
   ]
  },
  {
   "cell_type": "code",
   "execution_count": 9,
   "metadata": {},
   "outputs": [],
   "source": [
    "def init_data_vec():\n",
    "    DATA = {'M': [],\n",
    "     'N': [],\n",
    "     'data_std': [],\n",
    "     'lam_true': [],\n",
    "     'mean_r': [],\n",
    "     'qoi_max': [],\n",
    "     'qoi_min': [],\n",
    "     'num_accepted': [],\n",
    "     'obs_data_mean': [],\n",
    "     'obs_data_std': [],\n",
    "     'prior_mean': [],\n",
    "     'prior_std': [],\n",
    "     'rel_error_mc': [],\n",
    "     'mud_val': [],\n",
    "     'time': [],\n",
    "     'seed': []}\n",
    "    return DATA\n",
    "\n",
    "def append_summary(SUMMARY, DATA):\n",
    "    for k in SUMMARY.keys():\n",
    "        DATA[k].append(SUMMARY[k])\n",
    "    "
   ]
  },
  {
   "cell_type": "code",
   "execution_count": 23,
   "metadata": {},
   "outputs": [
    {
     "name": "stderr",
     "output_type": "stream",
     "text": [
      "100% (10 of 10) |########################| Elapsed Time: 0:00:05 Time:  0:00:05\n"
     ]
    },
    {
     "name": "stdout",
     "output_type": "stream",
     "text": [
      "Done running.\n"
     ]
    }
   ],
   "source": [
    "N_ = 1000\n",
    "# N_list = [50*2**n for n in range(8)]\n",
    "data_std_ = 0.01\n",
    "# M_list = [2,3,4,5,6,7,8,9, *np.arange(1,21)*5 ]\n",
    "M_list = [5, 10, 25, 50, 100, 200, 400]\n",
    "num_repeats = 10 # (number of random seeds tried)\n",
    "lam_true = 0.25\n",
    "prior_mean = 0\n",
    "prior_std = 0.5\n",
    "# data_std = np.round([0.001*2**n for n in np.linspace(0,np.log2(100),5)],12).ravel() \n",
    "seed_list = np.random.randint(2,10000,num_repeats) \n",
    "assert len(np.unique(seed_list)) == len(seed_list) # ensure no repetitions\n",
    "\n",
    "# ax = plt.subplot(1,1,1)\n",
    "DDD = {}\n",
    "for seed_ in progressbar.progressbar(seed_list):\n",
    "    DD = init_data_vec()\n",
    "    for M_ in M_list:\n",
    "        SMRY = solve_problem(time = (1.4,4.35), N=N_, M=M_, seed=seed_, data_std=data_std_, lam_true=lam_true, prior_mean=prior_mean, prior_std=prior_std, plot=False)\n",
    "        append_summary(SMRY[0], DD)\n",
    "#     print(, DD['rel_error_mc'])\n",
    "    DDD[str(seed_)] = DD\n",
    "print('Done running.')"
   ]
  },
  {
   "cell_type": "code",
   "execution_count": 24,
   "metadata": {},
   "outputs": [
    {
     "data": {
      "image/png": "[encoded data removed]",
      "text/plain": [
       "<matplotlib.figure.Figure at 0x7f034727d860>"
      ]
     },
     "metadata": {},
     "output_type": "display_data"
    }
   ],
   "source": [
    "plt.figure(figsize=(20,10))\n",
    "temp_val = np.zeros(len(M_list))\n",
    "for seed_ in seed_list:\n",
    "    temp_val += DDD[str(seed_)]['rel_error_mc']\n",
    "#     plt.semilogy(DDD[str(seed_)]['M'], DDD[str(seed_)]['rel_error_mc'], color='k', alpha=0.5)\n",
    "plt.loglog(M_list,temp_val/len(seed_list), label='Mean of %d trials'%(len(seed_list)) )\n",
    "plt.loglog(M_list, 0.1/np.sqrt(np.array(M_list)), label='$0.1/ \\sqrt{M}$')\n",
    "# plt.ylim([1E-1, 2])\n",
    "plt.ylabel('Relative Absolute Error (in $\\Lambda$)', fontsize=24)\n",
    "plt.xlabel('Number of Observations', fontsize=24)\n",
    "plt.legend()\n",
    "plt.show()"
   ]
  },
  {
   "cell_type": "code",
   "execution_count": null,
   "metadata": {},
   "outputs": [],
   "source": []
  },
  {
   "cell_type": "code",
   "execution_count": null,
   "metadata": {},
   "outputs": [],
   "source": []
  },
  {
   "cell_type": "code",
   "execution_count": null,
   "metadata": {},
   "outputs": [],
   "source": []
  },
  {
   "cell_type": "code",
   "execution_count": null,
   "metadata": {},
   "outputs": [],
   "source": []
  },
  {
   "cell_type": "code",
   "execution_count": null,
   "metadata": {},
   "outputs": [],
   "source": []
  }
 ],
 "metadata": {
  "kernelspec": {
   "display_name": "Python 3",
   "language": "python",
   "name": "python3"
  },
  "language_info": {
   "codemirror_mode": {
    "name": "ipython",
    "version": 3
   },
   "file_extension": ".py",
   "mimetype": "text/x-python",
   "name": "python",
   "nbconvert_exporter": "python",
   "pygments_lexer": "ipython3",
   "version": "3.6.4"
  }
 },
 "nbformat": 4,
 "nbformat_minor": 2
}
