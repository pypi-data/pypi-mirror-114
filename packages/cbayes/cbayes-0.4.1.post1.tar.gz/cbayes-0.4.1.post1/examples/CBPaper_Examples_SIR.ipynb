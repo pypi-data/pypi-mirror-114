{
 "cells": [
  {
   "cell_type": "markdown",
   "metadata": {},
   "source": [
    "# Consistent Bayes: Canonical Epidemiological Model (Parallelized)\n",
    "---\n",
    "\n",
    "Copyright 2018 Michael Pilosov\n"
   ]
  },
  {
   "cell_type": "markdown",
   "metadata": {},
   "source": [
    "### Import Libraries\n"
   ]
  },
  {
   "cell_type": "code",
   "execution_count": null,
   "metadata": {},
   "outputs": [],
   "source": [
    "# Mathematics and Plotting\n",
    "from HelperFuns import * # pyplot wrapper functions useful for visualizations, numpy, scipy, etc.\n",
    "# %matplotlib inline\n",
    "# %matplotlib notebook\n",
    "from cbayes import sample, solve, distributions\n",
    "# Interactivity\n",
    "from ipywidgets import *\n",
    "\n",
    "import numpy as np\n",
    "from scipy.integrate import odeint\n",
    "# import matplotlib.pyplot as plt\n",
    "import progressbar"
   ]
  },
  {
   "cell_type": "code",
   "execution_count": null,
   "metadata": {},
   "outputs": [],
   "source": [
    "plt.rcParams.update({'font.size': 18})\n",
    "plt.rcParams['figure.figsize'] = 20, 10"
   ]
  },
  {
   "cell_type": "code",
   "execution_count": null,
   "metadata": {},
   "outputs": [],
   "source": [
    "import ipyparallel as ipp # import the client\n",
    "rc = ipp.Client()\n",
    "dv = rc[:]\n",
    "rc.ids # list the ids of the engine the client can communicate with"
   ]
  },
  {
   "cell_type": "markdown",
   "metadata": {},
   "source": [
    "# Example Summary\n",
    "\n",
    "---\n",
    "\n"
   ]
  },
  {
   "cell_type": "markdown",
   "metadata": {},
   "source": [
    "---\n",
    "## Define Functions"
   ]
  },
  {
   "cell_type": "code",
   "execution_count": null,
   "metadata": {},
   "outputs": [],
   "source": [
    "##### FIXED PARAMETERS #####\n",
    "num_days = 365\n",
    "num_observations = 365 # how many observations are you able to make over the year?\n",
    "\n",
    "assumed_population_size = 5E4 # your assumed population size (truth for the model)\n",
    "infection_rate = 0.2 # (ppl/day) assumed infection rate\n",
    "recovery_time = 10 # (1/days) assumed recovery rate. both of these shouldn't matter if we do a good job ID'ing them.\n",
    "####\n",
    "\n",
    "def SSE_generator(model, obs_data, sigma=1):   # this generates a sum of squared residuals.\n",
    "    def QoI_fun(inputs): # that conforms to our desired model input\n",
    "        M = len(obs_data)\n",
    "        predictions = model(inputs)\n",
    "        assert predictions.shape[1] == len(obs_data)\n",
    "        residuals = predictions - obs_data\n",
    "        QoI = (1./M)*np.sum( (residuals/sigma)**2, axis=1 )\n",
    "        return QoI\n",
    "    return QoI_fun\n",
    "\n",
    "# The SIR model differential equations.\n",
    "def deriv(y, t, beta, gamma):\n",
    "    S, I, R = y\n",
    "    dSdt = -beta * S * I \n",
    "    dIdt = beta * S * I - gamma * I\n",
    "    dRdt = gamma * I\n",
    "    return dSdt, dIdt, dRdt\n",
    "\n",
    "def SIR(beta=infection_rate, gamma = 1./recovery_time, I0=1./assumed_population_size, t=np.linspace(0,num_days,num_observations),verbose=False):\n",
    "    # I0 is number of initial infected individuals\n",
    "    # R0 is number of initial  recovered/immune individuals\n",
    "    # S0 is everyone else, the susceptible \n",
    "    # beta is contact rate (socialness of society) (ppl/day)\n",
    "    # gamma is recovery rate (days^-1)\n",
    "    R0 = 0 # WE ALSO ASSUME ZERO NATURAL IMMUNITY OR VACCINE\n",
    "    S0 = 1. - R0 - I0\n",
    "    try:\n",
    "        assert(S0+I0+R0 == 1)\n",
    "    except AssertionError:\n",
    "        print(\"R0 must be nonnegative. you passed infeasible parameters\")\n",
    "        pass\n",
    "    y0 = np.array([S0, I0, R0])     # Initial conditions vector\n",
    "    if verbose:\n",
    "        print(\"[b, g] = [%.2f, %.2f], [S0 I0 R0] = [%.2f, %1.2e, %1.2e]\"%(beta, gamma, y0[0], y0[1], y0[2]), \"| max time =\", t[-1], \"| h =\", len(t))\n",
    "    ret = odeint(deriv, y0, t, args=(beta, gamma))\n",
    "    S, I, R = ret.T # Integrate the SIR equations over the time grid, t.\n",
    "    return S, I, R\n",
    "\n",
    "\n",
    "# This is for when we collect 2-D data\n",
    "def epidemic_IR(lam, verbose=False):\n",
    "    num_samples = lam.shape[0]\n",
    "    days = num_days\n",
    "    h = num_observations\n",
    "    t = np.linspace(0, days, h)\n",
    "    I_out = np.empty(shape=(num_samples, h))\n",
    "    R_out = np.empty(shape=(num_samples, h))\n",
    "    bar = progressbar.ProgressBar()\n",
    "    for n in bar(range(num_samples)):\n",
    "        beta, gamma = lam[n,:]\n",
    "        I0 = 1./assumed_population_size\n",
    "        S, I, R = SIR(beta, gamma, I0, t, verbose=verbose)\n",
    "        I_out[n,:] = I\n",
    "        R_out[n,:] = R\n",
    "    return np.array([I_out, R_out])\n",
    "\n",
    "\n",
    "def epidemic_I(lam, verbose=False): # necessary wrapper functions for SSE_generator\n",
    "    I_out, R_out = epidemic_IR(lam,verbose)\n",
    "    return I_out\n",
    "\n",
    "def epidemic_R(lam, verbose=False):\n",
    "    I_out, R_out = epidemic_IR(lam,verbose)\n",
    "    return R_out\n",
    "\n",
    "t = np.linspace(0, num_days, num_observations)\n",
    "S,I,R = SIR(t=t,verbose=True)"
   ]
  },
  {
   "cell_type": "markdown",
   "metadata": {},
   "source": [
    "## Time-Series Plot with Background Grid"
   ]
  },
  {
   "cell_type": "code",
   "execution_count": null,
   "metadata": {},
   "outputs": [],
   "source": [
    "# # Plot the data on three separate curves for S(t), I(t) and R(t)\n",
    "# fig = plt.figure(facecolor='w')\n",
    "# ax = fig.add_subplot(111, facecolor='#dddddd', axisbelow=True)\n",
    "# ax.plot(t, S, 'b', alpha=0.5, lw=2, label='Susceptible')\n",
    "# ax.plot(t, I, 'r', alpha=0.5, lw=2, label='Infected')\n",
    "# ax.plot(t, R, 'g', alpha=0.5, lw=2, label='Recovered with immunity')\n",
    "\n",
    "# ax.set_xlabel('Time (days)')\n",
    "# ax.set_ylabel('Proportion of Population')\n",
    "\n",
    "# ax.set_ylim(0,1.2)\n",
    "# ax.yaxis.set_tick_params(length=0)\n",
    "# ax.xaxis.set_tick_params(length=0)\n",
    "\n",
    "# ax.grid(b=True, which='major', c='w', lw=2, ls='-')\n",
    "# legend = ax.legend()\n",
    "# legend.get_frame().set_alpha(0.5)\n",
    "# for spine in ('top', 'right', 'bottom', 'left'):\n",
    "#     ax.spines[spine].set_visible(False)\n",
    "# plt.show()"
   ]
  },
  {
   "cell_type": "markdown",
   "metadata": {},
   "source": [
    "## Get a sense of the variation \n",
    "\n",
    "A common parameter choice is $\\beta$ = 0.2 and $\\gamma$ = 0.1, let us see how much varation this leads to even if we fix these."
   ]
  },
  {
   "cell_type": "code",
   "execution_count": null,
   "metadata": {},
   "outputs": [],
   "source": [
    "n = 50\n",
    "lam = np.random.rand(n,2)\n",
    "lam[:,0] = 0.1+0.2*lam[:,0]# beta\n",
    "lam[:,1] = 0.2*lam[:,1] # gamma\n",
    "\n",
    "# lam[:,2] = 10**(-np.linspace(3, 5, n) ) # I0\n",
    "# lam[:,2] = np.linspace(1./1E5, 1./1E4, n) # I0\n",
    "data = epidemic_IR(lam,verbose=False)"
   ]
  },
  {
   "cell_type": "code",
   "execution_count": null,
   "metadata": {},
   "outputs": [],
   "source": [
    "for i in range(n):\n",
    "    plt.plot(t, data[0, i, :], alpha=5.0/n, c='r') # I\n",
    "    plt.plot(t, data[1, i, :], alpha=5.0/n, c='k') # R\n",
    "#     plt.plot(t, 1 - data[0, i, :] - data[1, i, :], c='b', alpha=2/n) # S\n",
    "# plt.plot(t, 1-I-R, c='b', lw=3, ls=':')\n",
    "plt.plot(t, I, c='r', lw=3, ls='-', label=\"Infected\")\n",
    "plt.plot(t, R, c='k', lw=3, ls='-', label=\"Recovered\")\n",
    "plt.xlabel('Time (days)', fontsize=28)\n",
    "plt.ylabel('Proportion of Population', fontsize=28)\n",
    "plt.xlim([0,365])\n",
    "plt.ylim([0,1])\n",
    "plt.legend(fontsize=18)\n",
    "plt.savefig('saveimgs/SIR/SIR_signal.png')\n",
    "plt.show()"
   ]
  },
  {
   "cell_type": "markdown",
   "metadata": {},
   "source": [
    "--- \n",
    "\n",
    "# Define Your Parameter-to-Observables Map\n"
   ]
  },
  {
   "cell_type": "code",
   "execution_count": null,
   "metadata": {},
   "outputs": [],
   "source": [
    "observables = 2 # are you observing I (num_obs = 1) or both I and R (num_obs = 2)\n",
    "output_dim = 1 # are you assimilating the data into a 1D or 2D vector?\n",
    "sd_R = .05\n",
    "sd_I = .05"
   ]
  },
  {
   "cell_type": "markdown",
   "metadata": {},
   "source": [
    "--- \n",
    "\n",
    "# Define Prior Measure $P_\\Lambda$\n"
   ]
  },
  {
   "cell_type": "code",
   "execution_count": null,
   "metadata": {},
   "outputs": [],
   "source": [
    "input_dim = 2 # Specify input space dimension (n) -- this is a handle that the widgets depend on.\n",
    "num_samples = int(1E4) # number of input samples (N)\n",
    "s_set = sample.sample_set(size=(num_samples, input_dim))\n",
    "min_population_size = 1E4 # that you are willing to consider.\n",
    "max_population_size = 1E5 # that you are willing to consider.\n",
    "\n",
    "s_set.set_dist('beta', kwds={'a': 1, 'b': 1, 'loc': 0.1, 'scale': 0.3}, dim=0) # beta - rate of (ppl/day)\n",
    "s_set.set_dist('beta', kwds={'a': 1, 'b': 1, 'loc': 0, 'scale': 0.2}, dim=1) # gamma - recovery rate (1/days)\n",
    "# s_set.set_dist('beta', kwds={'a': 1, 'b': 1, 'loc': 1./max_population_size, 'scale': 1./min_population_size - 1./max_population_size}, dim=2) # I_0 (1/population_size)\n",
    "\n",
    "s_set.generate_samples()\n",
    "\n",
    "lam = s_set.samples # create a pointer for ease of reference later with plotting."
   ]
  },
  {
   "cell_type": "markdown",
   "metadata": {},
   "source": [
    "### Visualize Prior "
   ]
  },
  {
   "cell_type": "code",
   "execution_count": null,
   "metadata": {},
   "outputs": [],
   "source": [
    "# widgets.interactive(pltdata, data = fixed(lam), inds = fixed(None), \n",
    "#                     N = widgets.IntSlider(value=500, min = 100, max=5000, step=100, continuous_update=False), \n",
    "#                     eta_r = fixed(None), space=fixed(0.05), svd=widgets.Checkbox(value=False), color=widgets.Text(value=\"orange\", continuous_update=False),\n",
    "#                     view_dim_1 = widgets.IntSlider(value=0, min=0, max=input_dim-1, step=1, continuous_update=False), \n",
    "#                     view_dim_2 = widgets.IntSlider(value=input_dim-1, min=0, max=input_dim-1, step=1, continuous_update=False))"
   ]
  },
  {
   "cell_type": "markdown",
   "metadata": {},
   "source": [
    "---\n",
    "# Compute Data Space $O(\\Lambda) = \\mathcal{D}$ \n",
    "\n",
    "Format: `(n_dims, n_samples)`  "
   ]
  },
  {
   "cell_type": "code",
   "execution_count": null,
   "metadata": {},
   "outputs": [],
   "source": [
    "S_t, I_t, R_t = SIR() # t as a subscript stands for \"truth\"\n",
    "obs_data_I = I_t + np.random.randn(int(num_observations))*sd_I\n",
    "obs_data_R = R_t + np.random.randn(int(num_observations))*sd_R\n",
    "\n",
    "if observables == 2:\n",
    "    if output_dim == 1: # concatenate the Chi^2 data.\n",
    "        def PtO_fun(inputs): # that conforms to our desired model input\n",
    "            predictions = epidemic_IR(inputs)\n",
    "            M = len(obs_data_I)\n",
    "            assert predictions.shape[2] == len(obs_data_I)\n",
    "            residuals_I = predictions[0,:,:] - obs_data_I\n",
    "            residuals_R = predictions[1,:,:] - obs_data_R\n",
    "            temp = np.hstack([(residuals_R/sd_R)**2, (residuals_I/sd_I)**2])\n",
    "#             QoI = (1./(2*M))*np.sum(temp, axis=1).reshape(inputs.shape[0],1)\n",
    "            QoI = (1./(2*M))*(np.sum( (residuals_R/sd_R)**2, axis=1 ) + np.sum( (residuals_I/sd_I)**2, axis=1 ))\n",
    "            return QoI\n",
    "        \n",
    "    else: # output_dim = 2, treat as dual-Chi^2\n",
    "        def PtO_fun(inputs): # that conforms to our desired model input\n",
    "            predictions = epidemic_IR(inputs)\n",
    "            M = len(obs_data_I)\n",
    "            assert predictions.shape[2] == len(obs_data_I)\n",
    "            residuals_I = predictions[0,:,:] - obs_data_I\n",
    "            residuals_R = predictions[1,:,:] - obs_data_R\n",
    "            \n",
    "            QoI_R = (1./M)*np.sum((residuals_R/sd_R)**2, axis=1 ) \n",
    "            QoI_I = (1./M)*np.sum( (residuals_I/sd_I)**2, axis=1 )\n",
    "            return np.array([QoI_I, QoI_R]).T\n",
    "else: # one observable\n",
    "    PtO_fun = SSE_generator(epidemic_I, obs_data_I, sd_I)"
   ]
  },
  {
   "cell_type": "code",
   "execution_count": null,
   "metadata": {},
   "outputs": [],
   "source": [
    "p_set = sample.map_samples_and_create_problem(s_set, PtO_fun)\n",
    "D = p_set.output.samples\n",
    "\n",
    "# This is how we handle trying to infer the dimension based on what the map put out.\n",
    "# You can delete this once you are certain your model is correctly defined.\n",
    "try:\n",
    "    output_dim = D.shape[1] # if your function was coded correctly, you should have an (n, d) data space.\n",
    "except IndexError:\n",
    "    print(Warning(\"Warning: Your map might be returning the wrong dimensional data.\"))\n",
    "    try:\n",
    "       output_dim = D.shape[0] \n",
    "    except IndexError:\n",
    "        print(Warning(\"Warning: Guessing it's 1-dimensional.\"))\n",
    "        output_dim = 1\n",
    "print('dimensions :  lambda = '+str(lam.shape)+'   D = '+str(D.shape) )"
   ]
  },
  {
   "cell_type": "markdown",
   "metadata": {},
   "source": [
    "# Compute Push-Forward of the Prior $P_{O(\\Lambda)}$\n",
    "_ ... i.e. Characterize the Data Space_"
   ]
  },
  {
   "cell_type": "code",
   "execution_count": null,
   "metadata": {},
   "outputs": [],
   "source": [
    "# Interactive Marginal Visualization\n",
    "p_set.compute_pushforward_dist(method='g')\n",
    "pf_dist = p_set.pushforward_dist\n",
    "# pf_dist.kde_object.set_bandwidth(1E-10)\n",
    "# %matplotlib inline"
   ]
  },
  {
   "cell_type": "markdown",
   "metadata": {},
   "source": [
    "## Visualize Pushforward of Prior"
   ]
  },
  {
   "cell_type": "code",
   "execution_count": null,
   "metadata": {},
   "outputs": [],
   "source": [
    "# widgets.interactive(pltdata, data = fixed(pf_dist), inds = fixed(None), \n",
    "#         N = widgets.IntSlider(value=10000, min = 100, max=10000, step=100, continuous_update=False), \n",
    "#         eta_r = fixed(None), space=fixed(0.05), svd=fixed(False), color=widgets.Text(value=\"brown\", continuous_update=False),\n",
    "#         view_dim_1 = widgets.IntSlider(value=0, min=0, max=output_dim-1, step=1, continuous_update=False), \n",
    "#         view_dim_2 = widgets.IntSlider(value=output_dim-1, min=0, max=output_dim-1, step=1, continuous_update=False))"
   ]
  },
  {
   "cell_type": "markdown",
   "metadata": {},
   "source": [
    "# Define Observed Probability Measure $P_\\mathcal{D}$"
   ]
  },
  {
   "cell_type": "code",
   "execution_count": null,
   "metadata": {},
   "outputs": [],
   "source": [
    "if observables == 1: # you get to observe I\n",
    "    p_set.set_observed_dist('gamma', {'a':num_observations/2, 'scale':2/num_observations}, dim=0)\n",
    "else: # you get to observe R as well\n",
    "    if output_dim == 1:\n",
    "        p_set.set_observed_dist('gamma', {'a':(2*num_observations)/2, 'scale':2/(2*num_observations)}, dim=0)\n",
    "    else:\n",
    "        p_set.set_observed_dist('gamma', {'a':num_observations/2, 'scale':2/num_observations}, dim=0)\n",
    "        p_set.set_observed_dist('gamma', {'a':num_observations/2, 'scale':2/num_observations}, dim=1)\n",
    "\n",
    "obs_dist = p_set.observed_dist # this is define a pointer for ease of reference."
   ]
  },
  {
   "cell_type": "markdown",
   "metadata": {},
   "source": [
    "## Visualize Observed Density"
   ]
  },
  {
   "cell_type": "code",
   "execution_count": null,
   "metadata": {},
   "outputs": [],
   "source": [
    "# widgets.interactive(pltdata, data = fixed(obs_dist), inds = fixed(None), \n",
    "#         N = widgets.IntSlider(value=500, min = 100, max=5000, step=100, continuous_update=False), \n",
    "#         eta_r = fixed(None), space=fixed(0.05), svd=fixed(False), color=widgets.Text(value=\"wine\", continuous_update=False),\n",
    "#         view_dim_1 = widgets.IntSlider(value=0, min=0, max=output_dim-1, step=1, continuous_update=False), \n",
    "#         view_dim_2 = widgets.IntSlider(value=output_dim-1, min=0, max=output_dim-1, step=1, continuous_update=False))\n",
    "if output_dim == 1:\n",
    "    xx = np.linspace(-10,100,1000).reshape(-1,1)\n",
    "    obs_dist = p_set.observed_dist # this is define a pointer for ease of reference.\n",
    "    zz = pf_dist.pdf(xx)\n",
    "    yy = obs_dist.pdf(xx)\n",
    "    plt.plot(xx, zz, c='blue',label='pf_prior')\n",
    "    plt.plot(xx, yy,c='orange',label='observed')\n",
    "    plt.ylim([0,0.2])\n",
    "    plt.legend()\n",
    "    plt.show()"
   ]
  },
  {
   "cell_type": "markdown",
   "metadata": {},
   "source": [
    "---\n",
    "\n",
    "At this point we have performed the computations we need to. We have evaluated the input points through our map and performed a KDE on them. It would be useful at this point to save this object and/or its evaluation at every point in the data space for later re-use. Doing so here would be an appropriate place. "
   ]
  },
  {
   "cell_type": "markdown",
   "metadata": {},
   "source": [
    "--- \n",
    "\n",
    "# Accept/Reject Sampling of Posterior\n",
    "\n",
    "Since we have already used the samples in our prior to compute the pushforward density, we can re-use these with an accept/reject algorithm to get a set of samples generated from the posterior according to the solution of the stochastic inverse problem as outlined in the Consistent Bayes formulation. "
   ]
  },
  {
   "cell_type": "code",
   "execution_count": null,
   "metadata": {},
   "outputs": [],
   "source": [
    "p_set.set_ratio()\n",
    "eta_r = p_set.ratio\n",
    "solve.problem(p_set)"
   ]
  },
  {
   "cell_type": "code",
   "execution_count": null,
   "metadata": {},
   "outputs": [],
   "source": [
    "accept_inds = p_set.accept_inds\n",
    "lam_accept = p_set.input.samples[accept_inds,:]\n",
    "num_accept = len(accept_inds)\n",
    "print('Number accepted: %d = %2.2f%%'%(num_accept, 100*np.float(num_accept)/num_samples))"
   ]
  },
  {
   "cell_type": "markdown",
   "metadata": {},
   "source": [
    "## Visualize Posterior Density\n",
    "### (Visualize Accept/Reject Samples)\n"
   ]
  },
  {
   "cell_type": "code",
   "execution_count": null,
   "metadata": {
    "scrolled": false
   },
   "outputs": [],
   "source": [
    "if num_accept >= 2:\n",
    "    display(widgets.interactive(pltdata, data = fixed(lam), inds = fixed(accept_inds), \n",
    "            N = widgets.IntSlider(value=num_accept/2, min = 2, max=num_accept, step=1, continuous_update=False), \n",
    "            eta_r = fixed(None), space=fixed(0.05), svd=widgets.Checkbox(value=False), color=widgets.Text(value=\"orange\", continuous_update=False),\n",
    "            view_dim_1 = widgets.IntSlider(value=0, min=0, max=input_dim-1, step=1, continuous_update=False), \n",
    "            view_dim_2 = widgets.IntSlider(value=input_dim-1, min=0, max=input_dim-1, step=1, continuous_update=False)))\n",
    "else:\n",
    "    raise(Warning(\"not enough samples accepted.\"))\n",
    "# You will visualize the accepted samples in a subset of size N of the input samples. \n",
    "# This is mostly for faster plotting, but also so you can see the progression of accepted sampling in the algorithm.\n"
   ]
  },
  {
   "cell_type": "code",
   "execution_count": null,
   "metadata": {},
   "outputs": [],
   "source": [
    "# np.save('sir_save_dual.npy',p_set)\n",
    "# np.save('sir_save_comb.npy',p_set)"
   ]
  },
  {
   "cell_type": "code",
   "execution_count": null,
   "metadata": {},
   "outputs": [],
   "source": []
  },
  {
   "cell_type": "markdown",
   "metadata": {},
   "source": [
    "---\n",
    "# Now what? \n",
    "\n",
    "Well, we can..."
   ]
  },
  {
   "cell_type": "markdown",
   "metadata": {},
   "source": [
    "# Alternative Visualization Approach\n",
    "\n",
    "Now that we have constructed the posterior distribution, we can evaluate it at whatever set of samples we want, so we plot it directly, rather than use Accept/Reject.\n",
    "\n"
   ]
  },
  {
   "cell_type": "code",
   "execution_count": null,
   "metadata": {},
   "outputs": [],
   "source": [
    "nbins = 250\n",
    "\n",
    "mins = np.array([0.1, 0]) # original domain\n",
    "maxs = np.array([0.3, 0.2])\n",
    "\n",
    "X = ngrid(nbins, mins, maxs)\n",
    "post_eval = p_set.evaluate_posterior(X)\n",
    "# post_eval = p_set.compute_ratio(PtO_fun(X))*p_set.input.dist.pdf(X)"
   ]
  },
  {
   "cell_type": "code",
   "execution_count": null,
   "metadata": {},
   "outputs": [],
   "source": [
    "# Make the plot\n",
    "xi = X[:,0].reshape(nbins, nbins)\n",
    "yi = X[:,1].reshape(nbins, nbins)\n",
    "zi = post_eval.reshape(nbins, nbins)\n",
    "plt.pcolormesh(xi, yi, zi)\n",
    "problem = 'SIR'\n",
    "ftype = 'png'\n",
    "\n",
    "plt.scatter([0.2], [0.1], c='white', edgecolor='black', s=100, label='True Parameter')\n",
    "plt.ylabel('$\\\\beta$')\n",
    "plt.xlabel('$\\\\gamma$')\n",
    "if observables == 1:\n",
    "    plt.title('%d Observations of Infected Individuals'%(num_observations))\n",
    "else:\n",
    "    plt.title('%d Observations of Infected and Recovered Individuals'%(num_observations))\n",
    "save_str = '%s_M%d_%dE_obs%d'%(problem.upper(), num_observations, 1000*sd_R, observables)\n",
    "save_str = 'saveimgs/%s/%s.%s'%(problem.upper(), save_str, ftype)\n",
    "print(\"saving\", save_str)\n",
    "plt.savefig(save_str)\n",
    "plt.show()\n",
    "# ?plt.pcolormesh"
   ]
  },
  {
   "cell_type": "code",
   "execution_count": null,
   "metadata": {},
   "outputs": [],
   "source": [
    "rat = p_set.compute_ratio(PtO_fun(X))\n"
   ]
  },
  {
   "cell_type": "code",
   "execution_count": null,
   "metadata": {},
   "outputs": [],
   "source": [
    "inddd = solve.perform_accept_reject(X, rat)"
   ]
  },
  {
   "cell_type": "code",
   "execution_count": null,
   "metadata": {},
   "outputs": [],
   "source": [
    "D = epidemic_IR(X[inddd,:])\n",
    "nacc = len(X[inddd,:])"
   ]
  },
  {
   "cell_type": "code",
   "execution_count": null,
   "metadata": {},
   "outputs": [],
   "source": [
    "for i in range(nacc):\n",
    "    plt.plot(t, D[0, i, :], alpha=1.0/n, c='r') # I\n",
    "    plt.plot(t, D[1, i, :], alpha=1.0/n, c='k') # R\n",
    "#     plt.plot(t, 1 - data[0, i, :] - data[1, i, :], c='b', alpha=2/n) # S\n",
    "# plt.plot(t, 1-I-R, c='b', lw=3, ls=':')\n",
    "plt.plot(t, I, c='r', lw=3, ls='-', label=\"Infected\")\n",
    "plt.plot(t, R, c='k', lw=3, ls='-', label=\"Recovered\")\n",
    "plt.xlabel('Time (days)', fontsize=28)\n",
    "plt.ylabel('Proportion of Population', fontsize=28)\n",
    "plt.xlim([0,365])\n",
    "plt.ylim([0,1])\n",
    "plt.legend(fontsize=18)\n",
    "plt.title('%d Observations, %d Observables, Pushforward of Posterior'%(2160, observables), fontsize=24)\n",
    "plt.savefig('saveimgs/SIR/SIR_signal_pf%d_%d.png'%(2160, observables))\n",
    "# plt.title('%d Observations, %d Observables, Pushforward of Posterior'%(num_observations, observables), fontsize=24)\n",
    "# plt.savefig('saveimgs/SIR/SIR_signal_pf%d_%d.png'%(num_observations, observables))\n",
    "plt.show()"
   ]
  },
  {
   "cell_type": "markdown",
   "metadata": {},
   "source": [
    "[GO BACK TO TOP](#Define-Functions)"
   ]
  },
  {
   "cell_type": "code",
   "execution_count": null,
   "metadata": {},
   "outputs": [],
   "source": [
    "A = X[inddd,:]"
   ]
  },
  {
   "cell_type": "code",
   "execution_count": null,
   "metadata": {},
   "outputs": [],
   "source": [
    "for i in range(A.shape[0]):\n",
    "    plt.plot(range(A.shape[1]),  A[i,:] , alpha = 3./100)\n",
    "# for j in range(A.shape[1]):\n",
    "#     plt.vlines(j, 0, 1)\n",
    "plt.show()"
   ]
  },
  {
   "cell_type": "markdown",
   "metadata": {},
   "source": [
    "## _Visualize the Quality of our SIP Solution by Comparing it to the Observed_\n",
    "_We compare the push-forward of the posterior using accepted samples against the observed density_  \n",
    "_(SIP = Stochastic Inverse Problem)_\n",
    "### Observed:"
   ]
  },
  {
   "cell_type": "code",
   "execution_count": null,
   "metadata": {
    "scrolled": false
   },
   "outputs": [],
   "source": [
    "# widgets.interactive(pltdata, data = fixed(obs_dist), inds = fixed(None), \n",
    "#         N = widgets.IntSlider(value=500, min = 100, max=5000, step=100, continuous_update=False), \n",
    "#         eta_r = fixed(None), space=fixed(0.05), svd=fixed(False), color=widgets.Text(value=\"wine\", continuous_update=False),\n",
    "#         view_dim_1 = widgets.IntSlider(value=0, min=0, max=output_dim-1, step=1, continuous_update=False), \n",
    "#         view_dim_2 = widgets.IntSlider(value=output_dim-1, min=0, max=output_dim-1, step=1, continuous_update=False))"
   ]
  },
  {
   "cell_type": "markdown",
   "metadata": {},
   "source": [
    "## Pushforward of Posterior:"
   ]
  },
  {
   "cell_type": "code",
   "execution_count": null,
   "metadata": {},
   "outputs": [],
   "source": [
    "# widgets.interactive(pltdata, data = fixed(D), inds = fixed(accept_inds), \n",
    "#         N = widgets.IntSlider(value=num_accept/2, min = 2, max=num_accept-1, step=1, continuous_update=False), \n",
    "#         eta_r = fixed(None), space=fixed(0.05), svd=fixed(False), color=widgets.Text(value=\"eggplant\", continuous_update=False),\n",
    "#         view_dim_1 = widgets.IntSlider(value=0, min=0, max=output_dim-1, step=1, continuous_update=False), \n",
    "#         view_dim_2 = widgets.IntSlider(value=output_dim-1, min=0, max=output_dim-1, step=1, continuous_update=False))"
   ]
  },
  {
   "cell_type": "markdown",
   "metadata": {},
   "source": [
    "## Verify our parametric test statistics.\n",
    "Let's see if the pushforward of the posterior results in a sample mean and standard deviation that are close to the observed."
   ]
  },
  {
   "cell_type": "code",
   "execution_count": null,
   "metadata": {},
   "outputs": [],
   "source": [
    "# [np.mean(D[accept_inds,:]), np.std(D[accept_inds,:])]"
   ]
  },
  {
   "cell_type": "code",
   "execution_count": null,
   "metadata": {},
   "outputs": [],
   "source": [
    "# [p_set.observed_dist.mean(), p_set.observed_dist.std()]"
   ]
  },
  {
   "cell_type": "markdown",
   "metadata": {},
   "source": [
    "Now go back to the [Define PtO Map Section](#Define-Your-Parameter-to-Observables-Map) and change the distribution on the prior or choose another example problem."
   ]
  },
  {
   "cell_type": "code",
   "execution_count": null,
   "metadata": {},
   "outputs": [],
   "source": [
    "# Plotting the default IR results from the epidemic_IR function.\n",
    "# if plot_new:\n",
    "#     u = model(new_accepted_in)\n",
    "#     for i in range(u.shape[0]):\n",
    "#         d = u[i,:]\n",
    "#         if i==1:\n",
    "#             plt.plot(t, d, c='k', alpha=0.1, lw=1, label='New Accept')\n",
    "#         else:\n",
    "#             plt.plot(t, d, c='k', alpha=0.1, lw=1)\n",
    "\n"
   ]
  }
 ],
 "metadata": {
  "anaconda-cloud": {},
  "kernelspec": {
   "display_name": "Python 3",
   "language": "python",
   "name": "python3"
  },
  "language_info": {
   "codemirror_mode": {
    "name": "ipython",
    "version": 3
   },
   "file_extension": ".py",
   "mimetype": "text/x-python",
   "name": "python",
   "nbconvert_exporter": "python",
   "pygments_lexer": "ipython3",
   "version": "3.6.4"
  },
  "widgets": {
   "application/vnd.jupyter.widget-state+json": {
    "state": {
     "10493e3cedf04bdfa5a2a9f7a8761b0b": {
      "model_module": "@jupyter-widgets/output",
      "model_module_version": "1.0.0",
      "model_name": "OutputModel",
      "state": {
       "layout": "IPY_MODEL_11ab9ffb2425451ab8aede013716e65c",
       "outputs": [
        {
         "data": {
          "image/png": "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\n",
          "text/plain": "<matplotlib.figure.Figure at 0x7f32425234a8>"
         },
         "metadata": {},
         "output_type": "display_data"
        }
       ]
      }
     },
     "11789d834ab84156baabbb698e6efa42": {
      "model_module": "@jupyter-widgets/controls",
      "model_module_version": "1.1.0",
      "model_name": "IntSliderModel",
      "state": {
       "continuous_update": false,
       "description": "view_dim_2",
       "layout": "IPY_MODEL_55fd7b33159f4d7d90e7d3a975d88077",
       "max": 2,
       "style": "IPY_MODEL_9388e6ac4e294c87a55ca96b2fa99dc4",
       "value": 2
      }
     },
     "11ab9ffb2425451ab8aede013716e65c": {
      "model_module": "@jupyter-widgets/base",
      "model_module_version": "1.0.0",
      "model_name": "LayoutModel",
      "state": {}
     },
     "12e859871e1f43fa8c6a01992cf42eb2": {
      "model_module": "@jupyter-widgets/controls",
      "model_module_version": "1.1.0",
      "model_name": "DescriptionStyleModel",
      "state": {
       "description_width": ""
      }
     },
     "134fbf40c42046d3afcb10c53c893dd0": {
      "model_module": "@jupyter-widgets/base",
      "model_module_version": "1.0.0",
      "model_name": "LayoutModel",
      "state": {}
     },
     "13ba735de6cd4edcaf63da71a035d4eb": {
      "model_module": "@jupyter-widgets/controls",
      "model_module_version": "1.1.0",
      "model_name": "IntSliderModel",
      "state": {
       "continuous_update": false,
       "description": "N",
       "layout": "IPY_MODEL_b528ab7be5e8499ea98afbb786ac8691",
       "max": 82,
       "min": 2,
       "style": "IPY_MODEL_a21e21fc16f3460b9638180b88ae2fd3",
       "value": 82
      }
     },
     "151fac3e35ef4541866e12b311cc93e2": {
      "model_module": "@jupyter-widgets/base",
      "model_module_version": "1.0.0",
      "model_name": "LayoutModel",
      "state": {}
     },
     "1d99872659b94ebdaf576aae7795b717": {
      "model_module": "@jupyter-widgets/controls",
      "model_module_version": "1.1.0",
      "model_name": "IntSliderModel",
      "state": {
       "continuous_update": false,
       "description": "N",
       "layout": "IPY_MODEL_a2e975bbe7c84f59979125dcf475fd4b",
       "max": 5000,
       "min": 100,
       "step": 100,
       "style": "IPY_MODEL_da69c6377a74442ea47cfd8d58ef4791",
       "value": 500
      }
     },
     "1fec175cc2fa41ecaa4fc0ade1baaf11": {
      "model_module": "@jupyter-widgets/controls",
      "model_module_version": "1.1.0",
      "model_name": "SliderStyleModel",
      "state": {
       "description_width": ""
      }
     },
     "28709be5e0fd4d7e993231c57ae34dee": {
      "model_module": "@jupyter-widgets/base",
      "model_module_version": "1.0.0",
      "model_name": "LayoutModel",
      "state": {}
     },
     "2896fde9cc0c4f81b92d22ae94be8e41": {
      "model_module": "@jupyter-widgets/controls",
      "model_module_version": "1.1.0",
      "model_name": "IntSliderModel",
      "state": {
       "continuous_update": false,
       "description": "view_dim_1",
       "layout": "IPY_MODEL_97485c17961e434daa75536e3a57d6cc",
       "max": 0,
       "style": "IPY_MODEL_c52ee0b3295d4a94bf30978dccd674b2"
      }
     },
     "28ce154fb72048f4bfc209e4b020b6c2": {
      "model_module": "@jupyter-widgets/base",
      "model_module_version": "1.0.0",
      "model_name": "LayoutModel",
      "state": {}
     },
     "2a3963877fc54a87936ea77cc46af8e3": {
      "model_module": "@jupyter-widgets/controls",
      "model_module_version": "1.1.0",
      "model_name": "VBoxModel",
      "state": {
       "_dom_classes": [
        "widget-interact"
       ],
       "children": [
        "IPY_MODEL_b72b7bf72ea64ce7aff4b4a6d2881a17",
        "IPY_MODEL_ac2254487a4648fd8ed1eacd649507fd",
        "IPY_MODEL_13ba735de6cd4edcaf63da71a035d4eb",
        "IPY_MODEL_b37cfd83e55b454da042b93ef1597de5",
        "IPY_MODEL_8cbdba02c26e482890dc76aee012e0dd",
        "IPY_MODEL_10493e3cedf04bdfa5a2a9f7a8761b0b"
       ],
       "layout": "IPY_MODEL_7edea8647c3c4e9cbd1777ff616a6def"
      }
     },
     "2f8037fcfcf949249e81453526f90dbc": {
      "model_module": "@jupyter-widgets/base",
      "model_module_version": "1.0.0",
      "model_name": "LayoutModel",
      "state": {}
     },
     "352b0666fb3c4c7ea6ce8a26bd565fe2": {
      "model_module": "@jupyter-widgets/base",
      "model_module_version": "1.0.0",
      "model_name": "LayoutModel",
      "state": {}
     },
     "39656fdade304d60b72554ebbeb890af": {
      "model_module": "@jupyter-widgets/controls",
      "model_module_version": "1.1.0",
      "model_name": "DescriptionStyleModel",
      "state": {
       "description_width": ""
      }
     },
     "39869e8e789044a3b38fed32a3891dc5": {
      "model_module": "@jupyter-widgets/controls",
      "model_module_version": "1.1.0",
      "model_name": "IntSliderModel",
      "state": {
       "continuous_update": false,
       "description": "view_dim_2",
       "layout": "IPY_MODEL_3ec5a88dbea44d5ba6c9fa6ba4eeb9cd",
       "max": 0,
       "style": "IPY_MODEL_1fec175cc2fa41ecaa4fc0ade1baaf11"
      }
     },
     "3e9e3506f237404798edc999d2487ec8": {
      "model_module": "@jupyter-widgets/controls",
      "model_module_version": "1.1.0",
      "model_name": "CheckboxModel",
      "state": {
       "description": "svd",
       "disabled": false,
       "layout": "IPY_MODEL_f16aa0661b9846bfb6de784b76d74318",
       "style": "IPY_MODEL_12e859871e1f43fa8c6a01992cf42eb2",
       "value": false
      }
     },
     "3ec5a88dbea44d5ba6c9fa6ba4eeb9cd": {
      "model_module": "@jupyter-widgets/base",
      "model_module_version": "1.0.0",
      "model_name": "LayoutModel",
      "state": {}
     },
     "41be808ebfe34915b4f318b570f81e42": {
      "model_module": "@jupyter-widgets/base",
      "model_module_version": "1.0.0",
      "model_name": "LayoutModel",
      "state": {}
     },
     "434ab04e872045928ec2d1db61d5cd4a": {
      "model_module": "@jupyter-widgets/controls",
      "model_module_version": "1.1.0",
      "model_name": "IntSliderModel",
      "state": {
       "continuous_update": false,
       "description": "N",
       "layout": "IPY_MODEL_151fac3e35ef4541866e12b311cc93e2",
       "max": 5000,
       "min": 100,
       "step": 100,
       "style": "IPY_MODEL_58840db2ae3748a59f6e03d1b7dc450e",
       "value": 500
      }
     },
     "43df312ddeef46c69c26dd5d5aea71eb": {
      "model_module": "@jupyter-widgets/controls",
      "model_module_version": "1.1.0",
      "model_name": "SliderStyleModel",
      "state": {
       "description_width": ""
      }
     },
     "4a8d429a796b4bacaae90272b658e2bc": {
      "model_module": "@jupyter-widgets/controls",
      "model_module_version": "1.1.0",
      "model_name": "VBoxModel",
      "state": {
       "_dom_classes": [
        "widget-interact"
       ],
       "children": [
        "IPY_MODEL_7b682d1e34744762a9da727301d2eb93",
        "IPY_MODEL_39869e8e789044a3b38fed32a3891dc5",
        "IPY_MODEL_b78f01be3b8c4efdb32da9c50f95a510",
        "IPY_MODEL_a4853637dc43494cafbe2e29731a3624",
        "IPY_MODEL_f1c042d1a0af4fd598b0266d70210d25"
       ],
       "layout": "IPY_MODEL_dac40b9c866143919412da5f55550e78"
      }
     },
     "4e3e4ee1bc6d45e8847faca4ca698ce6": {
      "model_module": "@jupyter-widgets/base",
      "model_module_version": "1.0.0",
      "model_name": "LayoutModel",
      "state": {}
     },
     "4f9f6bc5cb494a85a8f193b496b79eca": {
      "model_module": "@jupyter-widgets/controls",
      "model_module_version": "1.1.0",
      "model_name": "VBoxModel",
      "state": {
       "_dom_classes": [
        "widget-interact"
       ],
       "children": [
        "IPY_MODEL_fdf6cdc78924431bb1f90e1de7cb886a",
        "IPY_MODEL_11789d834ab84156baabbb698e6efa42",
        "IPY_MODEL_1d99872659b94ebdaf576aae7795b717",
        "IPY_MODEL_9fbdc20450924ff39d1b16cbdafacc17",
        "IPY_MODEL_3e9e3506f237404798edc999d2487ec8",
        "IPY_MODEL_5ad59385aa0d468c8027c1b567d75dc4"
       ],
       "layout": "IPY_MODEL_2f8037fcfcf949249e81453526f90dbc"
      }
     },
     "50aaf471fc624141ab1b5e910a12dea4": {
      "model_module": "@jupyter-widgets/base",
      "model_module_version": "1.0.0",
      "model_name": "LayoutModel",
      "state": {}
     },
     "55fd7b33159f4d7d90e7d3a975d88077": {
      "model_module": "@jupyter-widgets/base",
      "model_module_version": "1.0.0",
      "model_name": "LayoutModel",
      "state": {}
     },
     "58840db2ae3748a59f6e03d1b7dc450e": {
      "model_module": "@jupyter-widgets/controls",
      "model_module_version": "1.1.0",
      "model_name": "SliderStyleModel",
      "state": {
       "description_width": ""
      }
     },
     "5ad59385aa0d468c8027c1b567d75dc4": {
      "model_module": "@jupyter-widgets/output",
      "model_module_version": "1.0.0",
      "model_name": "OutputModel",
      "state": {
       "layout": "IPY_MODEL_eb1c55dc5221425eb37893ad267c3faf",
       "outputs": [
        {
         "data": {
          "image/png": "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\n",
          "text/plain": "<matplotlib.figure.Figure at 0x7f3242ac04e0>"
         },
         "metadata": {},
         "output_type": "display_data"
        },
        {
         "data": {
          "image/png": "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\n",
          "text/plain": "<matplotlib.figure.Figure at 0x7f32428396d8>"
         },
         "metadata": {},
         "output_type": "display_data"
        }
       ]
      }
     },
     "6ee9417a36a046c895df5703c636118f": {
      "model_module": "@jupyter-widgets/controls",
      "model_module_version": "1.1.0",
      "model_name": "SliderStyleModel",
      "state": {
       "description_width": ""
      }
     },
     "751f7d5863fd4d0eae896d1d2259d15d": {
      "model_module": "@jupyter-widgets/controls",
      "model_module_version": "1.1.0",
      "model_name": "DescriptionStyleModel",
      "state": {
       "description_width": ""
      }
     },
     "7834192acae5450197a1701eaa97781b": {
      "model_module": "@jupyter-widgets/controls",
      "model_module_version": "1.1.0",
      "model_name": "IntSliderModel",
      "state": {
       "continuous_update": false,
       "description": "view_dim_2",
       "layout": "IPY_MODEL_9857cd6056404da68adfb1173264e1ed",
       "max": 0,
       "style": "IPY_MODEL_f1dbb7c7e2cb40ef924635108339e3ef"
      }
     },
     "7b682d1e34744762a9da727301d2eb93": {
      "model_module": "@jupyter-widgets/controls",
      "model_module_version": "1.1.0",
      "model_name": "IntSliderModel",
      "state": {
       "continuous_update": false,
       "description": "view_dim_1",
       "layout": "IPY_MODEL_c50694a2a987472eb9f18a5b891be183",
       "max": 0,
       "style": "IPY_MODEL_d96b256d8073454d92fab80989b44b13"
      }
     },
     "7edea8647c3c4e9cbd1777ff616a6def": {
      "model_module": "@jupyter-widgets/base",
      "model_module_version": "1.0.0",
      "model_name": "LayoutModel",
      "state": {}
     },
     "8824230c5b4d41a4b911cb46f2800693": {
      "model_module": "@jupyter-widgets/controls",
      "model_module_version": "1.1.0",
      "model_name": "TextModel",
      "state": {
       "continuous_update": false,
       "description": "color",
       "layout": "IPY_MODEL_92c4619bf9cc4d64b7ee915e7304be16",
       "style": "IPY_MODEL_f8249eadd8964f10b7c4b19ee13c92f3",
       "value": "wine"
      }
     },
     "893f6e34bc684ba2a0030552b39f6903": {
      "model_module": "@jupyter-widgets/controls",
      "model_module_version": "1.1.0",
      "model_name": "DescriptionStyleModel",
      "state": {
       "description_width": ""
      }
     },
     "8cbdba02c26e482890dc76aee012e0dd": {
      "model_module": "@jupyter-widgets/controls",
      "model_module_version": "1.1.0",
      "model_name": "CheckboxModel",
      "state": {
       "description": "svd",
       "disabled": false,
       "layout": "IPY_MODEL_4e3e4ee1bc6d45e8847faca4ca698ce6",
       "style": "IPY_MODEL_751f7d5863fd4d0eae896d1d2259d15d",
       "value": false
      }
     },
     "92c4619bf9cc4d64b7ee915e7304be16": {
      "model_module": "@jupyter-widgets/base",
      "model_module_version": "1.0.0",
      "model_name": "LayoutModel",
      "state": {}
     },
     "9388e6ac4e294c87a55ca96b2fa99dc4": {
      "model_module": "@jupyter-widgets/controls",
      "model_module_version": "1.1.0",
      "model_name": "SliderStyleModel",
      "state": {
       "description_width": ""
      }
     },
     "97485c17961e434daa75536e3a57d6cc": {
      "model_module": "@jupyter-widgets/base",
      "model_module_version": "1.0.0",
      "model_name": "LayoutModel",
      "state": {}
     },
     "9857cd6056404da68adfb1173264e1ed": {
      "model_module": "@jupyter-widgets/base",
      "model_module_version": "1.0.0",
      "model_name": "LayoutModel",
      "state": {}
     },
     "9ca3252f201b4a0eae3e574e07e62197": {
      "model_module": "@jupyter-widgets/base",
      "model_module_version": "1.0.0",
      "model_name": "LayoutModel",
      "state": {}
     },
     "9f67433c86de4c60a6fb711e6a75ccb6": {
      "model_module": "@jupyter-widgets/base",
      "model_module_version": "1.0.0",
      "model_name": "LayoutModel",
      "state": {}
     },
     "9fbdc20450924ff39d1b16cbdafacc17": {
      "model_module": "@jupyter-widgets/controls",
      "model_module_version": "1.1.0",
      "model_name": "TextModel",
      "state": {
       "continuous_update": false,
       "description": "color",
       "layout": "IPY_MODEL_9ca3252f201b4a0eae3e574e07e62197",
       "style": "IPY_MODEL_39656fdade304d60b72554ebbeb890af",
       "value": "orange"
      }
     },
     "a0974f61c5a24b798bfe81b43939055c": {
      "model_module": "@jupyter-widgets/controls",
      "model_module_version": "1.1.0",
      "model_name": "SliderStyleModel",
      "state": {
       "description_width": ""
      }
     },
     "a21e21fc16f3460b9638180b88ae2fd3": {
      "model_module": "@jupyter-widgets/controls",
      "model_module_version": "1.1.0",
      "model_name": "SliderStyleModel",
      "state": {
       "description_width": ""
      }
     },
     "a2e975bbe7c84f59979125dcf475fd4b": {
      "model_module": "@jupyter-widgets/base",
      "model_module_version": "1.0.0",
      "model_name": "LayoutModel",
      "state": {}
     },
     "a4853637dc43494cafbe2e29731a3624": {
      "model_module": "@jupyter-widgets/controls",
      "model_module_version": "1.1.0",
      "model_name": "TextModel",
      "state": {
       "continuous_update": false,
       "description": "color",
       "layout": "IPY_MODEL_134fbf40c42046d3afcb10c53c893dd0",
       "style": "IPY_MODEL_a65da8abf9c0416b92c4214152a3c0a2",
       "value": "brown"
      }
     },
     "a65da8abf9c0416b92c4214152a3c0a2": {
      "model_module": "@jupyter-widgets/controls",
      "model_module_version": "1.1.0",
      "model_name": "DescriptionStyleModel",
      "state": {
       "description_width": ""
      }
     },
     "ac2254487a4648fd8ed1eacd649507fd": {
      "model_module": "@jupyter-widgets/controls",
      "model_module_version": "1.1.0",
      "model_name": "IntSliderModel",
      "state": {
       "continuous_update": false,
       "description": "view_dim_2",
       "layout": "IPY_MODEL_28709be5e0fd4d7e993231c57ae34dee",
       "max": 2,
       "style": "IPY_MODEL_de4901da7dc449de92df6fb9159c3e41",
       "value": 2
      }
     },
     "b37cfd83e55b454da042b93ef1597de5": {
      "model_module": "@jupyter-widgets/controls",
      "model_module_version": "1.1.0",
      "model_name": "TextModel",
      "state": {
       "continuous_update": false,
       "description": "color",
       "layout": "IPY_MODEL_ddffbe9f434842c5a8ccd5c12acf1fac",
       "style": "IPY_MODEL_893f6e34bc684ba2a0030552b39f6903",
       "value": "orange"
      }
     },
     "b528ab7be5e8499ea98afbb786ac8691": {
      "model_module": "@jupyter-widgets/base",
      "model_module_version": "1.0.0",
      "model_name": "LayoutModel",
      "state": {}
     },
     "b72b7bf72ea64ce7aff4b4a6d2881a17": {
      "model_module": "@jupyter-widgets/controls",
      "model_module_version": "1.1.0",
      "model_name": "IntSliderModel",
      "state": {
       "continuous_update": false,
       "description": "view_dim_1",
       "layout": "IPY_MODEL_41be808ebfe34915b4f318b570f81e42",
       "max": 2,
       "style": "IPY_MODEL_6ee9417a36a046c895df5703c636118f",
       "value": 2
      }
     },
     "b78f01be3b8c4efdb32da9c50f95a510": {
      "model_module": "@jupyter-widgets/controls",
      "model_module_version": "1.1.0",
      "model_name": "IntSliderModel",
      "state": {
       "continuous_update": false,
       "description": "N",
       "layout": "IPY_MODEL_352b0666fb3c4c7ea6ce8a26bd565fe2",
       "max": 10000,
       "min": 100,
       "step": 100,
       "style": "IPY_MODEL_a0974f61c5a24b798bfe81b43939055c",
       "value": 10000
      }
     },
     "b8d2e25310734132aaf53ec0dfe5bd10": {
      "model_module": "@jupyter-widgets/output",
      "model_module_version": "1.0.0",
      "model_name": "OutputModel",
      "state": {
       "layout": "IPY_MODEL_28ce154fb72048f4bfc209e4b020b6c2",
       "outputs": [
        {
         "data": {
          "image/png": "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\n",
          "text/plain": "<matplotlib.figure.Figure at 0x7f3242689860>"
         },
         "metadata": {},
         "output_type": "display_data"
        }
       ]
      }
     },
     "bb34083eee55468399c938f953b60165": {
      "model_module": "@jupyter-widgets/base",
      "model_module_version": "1.0.0",
      "model_name": "LayoutModel",
      "state": {}
     },
     "c50694a2a987472eb9f18a5b891be183": {
      "model_module": "@jupyter-widgets/base",
      "model_module_version": "1.0.0",
      "model_name": "LayoutModel",
      "state": {}
     },
     "c52ee0b3295d4a94bf30978dccd674b2": {
      "model_module": "@jupyter-widgets/controls",
      "model_module_version": "1.1.0",
      "model_name": "SliderStyleModel",
      "state": {
       "description_width": ""
      }
     },
     "d96b256d8073454d92fab80989b44b13": {
      "model_module": "@jupyter-widgets/controls",
      "model_module_version": "1.1.0",
      "model_name": "SliderStyleModel",
      "state": {
       "description_width": ""
      }
     },
     "da69c6377a74442ea47cfd8d58ef4791": {
      "model_module": "@jupyter-widgets/controls",
      "model_module_version": "1.1.0",
      "model_name": "SliderStyleModel",
      "state": {
       "description_width": ""
      }
     },
     "dac40b9c866143919412da5f55550e78": {
      "model_module": "@jupyter-widgets/base",
      "model_module_version": "1.0.0",
      "model_name": "LayoutModel",
      "state": {}
     },
     "dd1337c881ee4ba39af306ced7a2ee53": {
      "model_module": "@jupyter-widgets/controls",
      "model_module_version": "1.1.0",
      "model_name": "VBoxModel",
      "state": {
       "_dom_classes": [
        "widget-interact"
       ],
       "children": [
        "IPY_MODEL_2896fde9cc0c4f81b92d22ae94be8e41",
        "IPY_MODEL_7834192acae5450197a1701eaa97781b",
        "IPY_MODEL_434ab04e872045928ec2d1db61d5cd4a",
        "IPY_MODEL_8824230c5b4d41a4b911cb46f2800693",
        "IPY_MODEL_b8d2e25310734132aaf53ec0dfe5bd10"
       ],
       "layout": "IPY_MODEL_bb34083eee55468399c938f953b60165"
      }
     },
     "ddffbe9f434842c5a8ccd5c12acf1fac": {
      "model_module": "@jupyter-widgets/base",
      "model_module_version": "1.0.0",
      "model_name": "LayoutModel",
      "state": {}
     },
     "de4901da7dc449de92df6fb9159c3e41": {
      "model_module": "@jupyter-widgets/controls",
      "model_module_version": "1.1.0",
      "model_name": "SliderStyleModel",
      "state": {
       "description_width": ""
      }
     },
     "eb1c55dc5221425eb37893ad267c3faf": {
      "model_module": "@jupyter-widgets/base",
      "model_module_version": "1.0.0",
      "model_name": "LayoutModel",
      "state": {}
     },
     "f16aa0661b9846bfb6de784b76d74318": {
      "model_module": "@jupyter-widgets/base",
      "model_module_version": "1.0.0",
      "model_name": "LayoutModel",
      "state": {}
     },
     "f1c042d1a0af4fd598b0266d70210d25": {
      "model_module": "@jupyter-widgets/output",
      "model_module_version": "1.0.0",
      "model_name": "OutputModel",
      "state": {
       "layout": "IPY_MODEL_9f67433c86de4c60a6fb711e6a75ccb6",
       "outputs": [
        {
         "data": {
          "image/png": "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\n",
          "text/plain": "<matplotlib.figure.Figure at 0x7f3242abb588>"
         },
         "metadata": {},
         "output_type": "display_data"
        }
       ]
      }
     },
     "f1dbb7c7e2cb40ef924635108339e3ef": {
      "model_module": "@jupyter-widgets/controls",
      "model_module_version": "1.1.0",
      "model_name": "SliderStyleModel",
      "state": {
       "description_width": ""
      }
     },
     "f8249eadd8964f10b7c4b19ee13c92f3": {
      "model_module": "@jupyter-widgets/controls",
      "model_module_version": "1.1.0",
      "model_name": "DescriptionStyleModel",
      "state": {
       "description_width": ""
      }
     },
     "fdf6cdc78924431bb1f90e1de7cb886a": {
      "model_module": "@jupyter-widgets/controls",
      "model_module_version": "1.1.0",
      "model_name": "IntSliderModel",
      "state": {
       "continuous_update": false,
       "description": "view_dim_1",
       "layout": "IPY_MODEL_50aaf471fc624141ab1b5e910a12dea4",
       "max": 2,
       "style": "IPY_MODEL_43df312ddeef46c69c26dd5d5aea71eb"
      }
     }
    },
    "version_major": 2,
    "version_minor": 0
   }
  }
 },
 "nbformat": 4,
 "nbformat_minor": 2
}
